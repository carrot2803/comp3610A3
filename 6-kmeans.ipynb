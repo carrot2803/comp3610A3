{
 "cells": [
  {
   "cell_type": "code",
   "execution_count": null,
   "id": "b7901c0f",
   "metadata": {},
   "outputs": [],
   "source": [
    "import polars as pl\n",
    "from sklearn.cluster import KMeans"
   ]
  },
  {
   "cell_type": "code",
   "execution_count": 64,
   "id": "d8e12f11",
   "metadata": {},
   "outputs": [],
   "source": [
    "lf: pl.DataFrame = pl.scan_parquet(\"data/processed/amazon-2023.parquet\")"
   ]
  },
  {
   "cell_type": "code",
   "execution_count": 65,
   "id": "dc9244c8",
   "metadata": {},
   "outputs": [],
   "source": [
    "lf: pl.DataFrame = lf.group_by(\"parent_asin\").agg([\n",
    "    pl.len().alias(\"total_reviews\"),\n",
    "    pl.col(\"rating\").mean().alias(\"mean_rating\"),\n",
    "    pl.col(\"brand\").first().fill_null(\"Unknown\").str.to_lowercase().alias(\"brand_id\"),\n",
    "    pl.col(\"main_category\").first().fill_null(\"Unknown\").str.to_lowercase().alias(\"category_id\"),\n",
    "])"
   ]
  },
  {
   "cell_type": "code",
   "execution_count": 66,
   "id": "fde3825d",
   "metadata": {},
   "outputs": [],
   "source": [
    "lf: pl.LazyFrame = lf.with_columns([\n",
    "    pl.col(\"brand_id\").cast(pl.Categorical).to_physical().alias(\"brand_id\"),\n",
    "    pl.col(\"category_id\").cast(pl.Categorical).to_physical().alias(\"category_id\")\n",
    "])\n",
    "\n",
    "columns: list[str] = [\"mean_rating\", \"total_reviews\", \"brand_id\", \"category_id\", \"parent_asin\"]\n",
    "lf = lf.select(columns)"
   ]
  },
  {
   "cell_type": "code",
   "execution_count": 67,
   "id": "462397d4",
   "metadata": {},
   "outputs": [],
   "source": [
    "df: pl.DataFrame = lf.collect()\n",
    "X: pl.DataFrame = df.drop(\"parent_asin\").to_numpy()"
   ]
  },
  {
   "cell_type": "code",
   "execution_count": null,
   "id": "990b3262",
   "metadata": {},
   "outputs": [],
   "source": [
    "kmeans = KMeans(n_clusters=5, random_state=42, n_init=10)\n",
    "labels = kmeans.fit_predict(X)\n",
    "\n",
    "df: pl.DataFrame = df.with_columns(pl.Series(name=\"cluster\", values=labels))"
   ]
  },
  {
   "cell_type": "code",
   "execution_count": 70,
   "id": "bc7a0ca1",
   "metadata": {},
   "outputs": [
    {
     "data": {
      "text/html": [
       "<div><style>\n",
       ".dataframe > thead > tr,\n",
       ".dataframe > tbody > tr {\n",
       "  text-align: right;\n",
       "  white-space: pre-wrap;\n",
       "}\n",
       "</style>\n",
       "<small>shape: (5, 8)</small><table border=\"1\" class=\"dataframe\"><thead><tr><th>cluster</th><th>cluster_size</th><th>avg_mean_rating</th><th>avg_total_reviews</th><th>avg_brand_id</th><th>avg_category_id</th><th>top_brand_id</th><th>top_category_id</th></tr><tr><td>i32</td><td>u32</td><td>f64</td><td>f64</td><td>f64</td><td>f64</td><td>list[u32]</td><td>list[u32]</td></tr></thead><tbody><tr><td>0</td><td>173759</td><td>4.237223</td><td>2.963662</td><td>125641.190033</td><td>6.88716</td><td>[104360]</td><td>[5]</td></tr><tr><td>1</td><td>701879</td><td>4.207828</td><td>4.109774</td><td>10434.166891</td><td>6.749344</td><td>[21]</td><td>[7]</td></tr><tr><td>2</td><td>127859</td><td>4.255761</td><td>2.449628</td><td>205077.01346</td><td>7.223582</td><td>[172250]</td><td>[5]</td></tr><tr><td>3</td><td>274584</td><td>4.2127</td><td>3.42583</td><td>60019.671882</td><td>6.58373</td><td>[50580]</td><td>[7]</td></tr><tr><td>4</td><td>103789</td><td>4.301812</td><td>2.157396</td><td>294546.480263</td><td>7.538265</td><td>[262774]</td><td>[5]</td></tr></tbody></table></div>"
      ],
      "text/plain": [
       "shape: (5, 8)\n",
       "┌─────────┬────────────┬────────────┬────────────┬────────────┬────────────┬───────────┬───────────┐\n",
       "│ cluster ┆ cluster_si ┆ avg_mean_r ┆ avg_total_ ┆ avg_brand_ ┆ avg_catego ┆ top_brand ┆ top_categ │\n",
       "│ ---     ┆ ze         ┆ ating      ┆ reviews    ┆ id         ┆ ry_id      ┆ _id       ┆ ory_id    │\n",
       "│ i32     ┆ ---        ┆ ---        ┆ ---        ┆ ---        ┆ ---        ┆ ---       ┆ ---       │\n",
       "│         ┆ u32        ┆ f64        ┆ f64        ┆ f64        ┆ f64        ┆ list[u32] ┆ list[u32] │\n",
       "╞═════════╪════════════╪════════════╪════════════╪════════════╪════════════╪═══════════╪═══════════╡\n",
       "│ 0       ┆ 173759     ┆ 4.237223   ┆ 2.963662   ┆ 125641.190 ┆ 6.88716    ┆ [104360]  ┆ [5]       │\n",
       "│         ┆            ┆            ┆            ┆ 033        ┆            ┆           ┆           │\n",
       "│ 1       ┆ 701879     ┆ 4.207828   ┆ 4.109774   ┆ 10434.1668 ┆ 6.749344   ┆ [21]      ┆ [7]       │\n",
       "│         ┆            ┆            ┆            ┆ 91         ┆            ┆           ┆           │\n",
       "│ 2       ┆ 127859     ┆ 4.255761   ┆ 2.449628   ┆ 205077.013 ┆ 7.223582   ┆ [172250]  ┆ [5]       │\n",
       "│         ┆            ┆            ┆            ┆ 46         ┆            ┆           ┆           │\n",
       "│ 3       ┆ 274584     ┆ 4.2127     ┆ 3.42583    ┆ 60019.6718 ┆ 6.58373    ┆ [50580]   ┆ [7]       │\n",
       "│         ┆            ┆            ┆            ┆ 82         ┆            ┆           ┆           │\n",
       "│ 4       ┆ 103789     ┆ 4.301812   ┆ 2.157396   ┆ 294546.480 ┆ 7.538265   ┆ [262774]  ┆ [5]       │\n",
       "│         ┆            ┆            ┆            ┆ 263        ┆            ┆           ┆           │\n",
       "└─────────┴────────────┴────────────┴────────────┴────────────┴────────────┴───────────┴───────────┘"
      ]
     },
     "execution_count": 70,
     "metadata": {},
     "output_type": "execute_result"
    }
   ],
   "source": [
    "summary: pl.DataFrame = (\n",
    "df.group_by(\"cluster\")\n",
    "    .agg([\n",
    "        pl.len().alias(\"cluster_size\"),\n",
    "        pl.col(\"mean_rating\").mean().alias(\"avg_mean_rating\"),\n",
    "        pl.col(\"total_reviews\").mean().alias(\"avg_total_reviews\"),\n",
    "        pl.col(\"brand_id\").mean().alias(\"avg_brand_id\"),\n",
    "        pl.col(\"category_id\").mean().alias(\"avg_category_id\"),\n",
    "        pl.col(\"brand_id\").mode().alias(\"top_brand_id\"),\n",
    "        pl.col(\"category_id\").mode().alias(\"top_category_id\"),\n",
    "    ])\n",
    "    .sort(\"cluster\")\n",
    ")\n",
    "\n",
    "summary"
   ]
  }
 ],
 "metadata": {
  "kernelspec": {
   "display_name": "Python 3",
   "language": "python",
   "name": "python3"
  },
  "language_info": {
   "codemirror_mode": {
    "name": "ipython",
    "version": 3
   },
   "file_extension": ".py",
   "mimetype": "text/x-python",
   "name": "python",
   "nbconvert_exporter": "python",
   "pygments_lexer": "ipython3",
   "version": "3.12.2"
  }
 },
 "nbformat": 4,
 "nbformat_minor": 5
}
