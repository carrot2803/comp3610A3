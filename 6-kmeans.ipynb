{
 "cells": [
  {
   "cell_type": "code",
   "execution_count": 1,
   "id": "b7901c0f",
   "metadata": {},
   "outputs": [],
   "source": [
    "import polars as pl\n",
    "from sklearn.cluster import KMeans"
   ]
  },
  {
   "cell_type": "code",
   "execution_count": 2,
   "id": "d8e12f11",
   "metadata": {},
   "outputs": [],
   "source": [
    "lf = pl.scan_parquet(\"data/processed/amazon-2023.parquet\")"
   ]
  },
  {
   "cell_type": "code",
   "execution_count": 3,
   "id": "dc9244c8",
   "metadata": {},
   "outputs": [],
   "source": [
    "lf: pl.DataFrame = lf.group_by(\"parent_asin\").agg([\n",
    "    pl.len().alias(\"total_reviews\"),\n",
    "    pl.col(\"rating\").mean().alias(\"mean_rating\"),\n",
    "    pl.col(\"brand\").first().fill_null(\"Unknown\").str.to_lowercase().alias(\"brand_id\"),\n",
    "    pl.col(\"main_category\").first().fill_null(\"Unknown\").str.to_lowercase().alias(\"category_id\"),\n",
    "])"
   ]
  },
  {
   "cell_type": "code",
   "execution_count": 4,
   "id": "fde3825d",
   "metadata": {},
   "outputs": [],
   "source": [
    "lf: pl.LazyFrame = lf.with_columns([\n",
    "    pl.col(\"brand_id\").cast(pl.Categorical).to_physical().alias(\"brand_id\"),\n",
    "    pl.col(\"category_id\").cast(pl.Categorical).to_physical().alias(\"category_id\")\n",
    "])\n",
    "\n",
    "columns: list[str] = [\"mean_rating\", \"total_reviews\", \"brand_id\", \"category_id\", \"parent_asin\"]\n",
    "lf = lf.select(columns)\n",
    "lf=lf.drop(\"parent_asin\")"
   ]
  },
  {
   "cell_type": "code",
   "execution_count": 5,
   "id": "462397d4",
   "metadata": {},
   "outputs": [],
   "source": [
    "df: pl.DataFrame = lf.collect(engine=\"streaming\")\n",
    "X: pl.DataFrame = df.to_numpy()"
   ]
  },
  {
   "cell_type": "code",
   "execution_count": 6,
   "id": "990b3262",
   "metadata": {},
   "outputs": [],
   "source": [
    "kmeans = KMeans(n_clusters=5, random_state=42, n_init=10)\n",
    "labels = kmeans.fit_predict(X)\n",
    "\n",
    "df: pl.DataFrame = df.with_columns(pl.Series(name=\"cluster\", values=labels))"
   ]
  },
  {
   "cell_type": "code",
   "execution_count": 7,
   "id": "bc7a0ca1",
   "metadata": {},
   "outputs": [
    {
     "data": {
      "text/html": [
       "<div><style>\n",
       ".dataframe > thead > tr,\n",
       ".dataframe > tbody > tr {\n",
       "  text-align: right;\n",
       "  white-space: pre-wrap;\n",
       "}\n",
       "</style>\n",
       "<small>shape: (5, 8)</small><table border=\"1\" class=\"dataframe\"><thead><tr><th>cluster</th><th>cluster_size</th><th>avg_mean_rating</th><th>avg_total_reviews</th><th>avg_brand_id</th><th>avg_category_id</th><th>top_brand_id</th><th>top_category_id</th></tr><tr><td>i32</td><td>u32</td><td>f64</td><td>f64</td><td>f64</td><td>f64</td><td>list[u32]</td><td>list[u32]</td></tr></thead><tbody><tr><td>0</td><td>5427048</td><td>4.104922</td><td>16.579857</td><td>610507.42722</td><td>451436.366671</td><td>[366564]</td><td>[487909]</td></tr><tr><td>1</td><td>1535537</td><td>4.323468</td><td>6.096428</td><td>4.0561e6</td><td>473927.347637</td><td>[3532404, 3513067]</td><td>[487906]</td></tr><tr><td>2</td><td>23914425</td><td>4.074856</td><td>15.136763</td><td>71162.548929</td><td>441133.504817</td><td>[86]</td><td>[487901]</td></tr><tr><td>3</td><td>1848924</td><td>4.280674</td><td>7.646283</td><td>2.7129e6</td><td>469303.456396</td><td>[2126527]</td><td>[487906]</td></tr><tr><td>4</td><td>2639394</td><td>4.199917</td><td>10.426479</td><td>1.5347e6</td><td>460076.901021</td><td>[1091724]</td><td>[487906]</td></tr></tbody></table></div>"
      ],
      "text/plain": [
       "shape: (5, 8)\n",
       "┌─────────┬────────────┬────────────┬────────────┬────────────┬────────────┬───────────┬───────────┐\n",
       "│ cluster ┆ cluster_si ┆ avg_mean_r ┆ avg_total_ ┆ avg_brand_ ┆ avg_catego ┆ top_brand ┆ top_categ │\n",
       "│ ---     ┆ ze         ┆ ating      ┆ reviews    ┆ id         ┆ ry_id      ┆ _id       ┆ ory_id    │\n",
       "│ i32     ┆ ---        ┆ ---        ┆ ---        ┆ ---        ┆ ---        ┆ ---       ┆ ---       │\n",
       "│         ┆ u32        ┆ f64        ┆ f64        ┆ f64        ┆ f64        ┆ list[u32] ┆ list[u32] │\n",
       "╞═════════╪════════════╪════════════╪════════════╪════════════╪════════════╪═══════════╪═══════════╡\n",
       "│ 0       ┆ 5427048    ┆ 4.104922   ┆ 16.579857  ┆ 610507.427 ┆ 451436.366 ┆ [366564]  ┆ [487909]  │\n",
       "│         ┆            ┆            ┆            ┆ 22         ┆ 671        ┆           ┆           │\n",
       "│ 1       ┆ 1535537    ┆ 4.323468   ┆ 6.096428   ┆ 4.0561e6   ┆ 473927.347 ┆ [3532404, ┆ [487906]  │\n",
       "│         ┆            ┆            ┆            ┆            ┆ 637        ┆ 3513067]  ┆           │\n",
       "│ 2       ┆ 23914425   ┆ 4.074856   ┆ 15.136763  ┆ 71162.5489 ┆ 441133.504 ┆ [86]      ┆ [487901]  │\n",
       "│         ┆            ┆            ┆            ┆ 29         ┆ 817        ┆           ┆           │\n",
       "│ 3       ┆ 1848924    ┆ 4.280674   ┆ 7.646283   ┆ 2.7129e6   ┆ 469303.456 ┆ [2126527] ┆ [487906]  │\n",
       "│         ┆            ┆            ┆            ┆            ┆ 396        ┆           ┆           │\n",
       "│ 4       ┆ 2639394    ┆ 4.199917   ┆ 10.426479  ┆ 1.5347e6   ┆ 460076.901 ┆ [1091724] ┆ [487906]  │\n",
       "│         ┆            ┆            ┆            ┆            ┆ 021        ┆           ┆           │\n",
       "└─────────┴────────────┴────────────┴────────────┴────────────┴────────────┴───────────┴───────────┘"
      ]
     },
     "execution_count": 7,
     "metadata": {},
     "output_type": "execute_result"
    }
   ],
   "source": [
    "summary: pl.DataFrame = (\n",
    "df.group_by(\"cluster\")\n",
    "    .agg([\n",
    "        pl.len().alias(\"cluster_size\"),\n",
    "        pl.col(\"mean_rating\").mean().alias(\"avg_mean_rating\"),\n",
    "        pl.col(\"total_reviews\").mean().alias(\"avg_total_reviews\"),\n",
    "        pl.col(\"brand_id\").mean().alias(\"avg_brand_id\"),\n",
    "        pl.col(\"category_id\").mean().alias(\"avg_category_id\"),\n",
    "        pl.col(\"brand_id\").mode().alias(\"top_brand_id\"),\n",
    "        pl.col(\"category_id\").mode().alias(\"top_category_id\"),\n",
    "    ])\n",
    "    .sort(\"cluster\")\n",
    ")\n",
    "\n",
    "summary"
   ]
  }
 ],
 "metadata": {
  "kernelspec": {
   "display_name": "venv",
   "language": "python",
   "name": "python3"
  },
  "language_info": {
   "codemirror_mode": {
    "name": "ipython",
    "version": 3
   },
   "file_extension": ".py",
   "mimetype": "text/x-python",
   "name": "python",
   "nbconvert_exporter": "python",
   "pygments_lexer": "ipython3",
   "version": "3.12.3"
  }
 },
 "nbformat": 4,
 "nbformat_minor": 5
}
