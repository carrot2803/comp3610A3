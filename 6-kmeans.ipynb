{
 "cells": [
  {
   "cell_type": "code",
   "execution_count": 1,
   "id": "b7901c0f",
   "metadata": {},
   "outputs": [],
   "source": [
    "import polars as pl\n",
    "from sklearn.cluster import KMeans"
   ]
  },
  {
   "cell_type": "code",
   "execution_count": 2,
   "id": "d8e12f11",
   "metadata": {},
   "outputs": [],
   "source": [
    "lf = pl.scan_parquet(\"data/processed/amazon-2023.parquet\")"
   ]
  },
  {
   "cell_type": "code",
   "execution_count": 3,
   "id": "dc9244c8",
   "metadata": {},
   "outputs": [],
   "source": [
    "lf: pl.DataFrame = lf.group_by(\"parent_asin\").agg([\n",
    "    pl.len().alias(\"total_reviews\"),\n",
    "    pl.col(\"rating\").mean().alias(\"mean_rating\"),\n",
    "    pl.col(\"brand\").first().fill_null(\"Unknown\").str.to_lowercase().alias(\"brand_id\"),\n",
    "    pl.col(\"main_category\").first().fill_null(\"Unknown\").str.to_lowercase().alias(\"category_id\"),\n",
    "])"
   ]
  },
  {
   "cell_type": "code",
   "execution_count": 4,
   "id": "fde3825d",
   "metadata": {},
   "outputs": [],
   "source": [
    "lf: pl.LazyFrame = lf.with_columns([\n",
    "    pl.col(\"brand_id\").cast(pl.Categorical).to_physical().alias(\"brand_id\"),\n",
    "    pl.col(\"category_id\").cast(pl.Categorical).to_physical().alias(\"category_id\")\n",
    "])\n",
    "\n",
    "columns: list[str] = [\"mean_rating\", \"total_reviews\", \"brand_id\", \"category_id\", \"parent_asin\"]\n",
    "lf = lf.select(columns)\n",
    "lf=lf.drop(\"parent_asin\")"
   ]
  },
  {
   "cell_type": "code",
   "execution_count": 5,
   "id": "462397d4",
   "metadata": {},
   "outputs": [],
   "source": [
    "df: pl.DataFrame = lf.collect(engine=\"streaming\")\n",
    "X: pl.DataFrame = df.to_numpy()"
   ]
  },
  {
   "cell_type": "code",
   "execution_count": 6,
   "id": "990b3262",
   "metadata": {},
   "outputs": [],
   "source": [
    "kmeans = KMeans(n_clusters=5, random_state=42, n_init=10)\n",
    "labels = kmeans.fit_predict(X)\n",
    "\n",
    "df: pl.DataFrame = df.with_columns(pl.Series(name=\"cluster\", values=labels))"
   ]
  },
  {
   "cell_type": "code",
   "execution_count": 7,
   "id": "bc7a0ca1",
   "metadata": {},
   "outputs": [
    {
     "data": {
      "text/html": [
       "<div><style>\n",
       ".dataframe > thead > tr,\n",
       ".dataframe > tbody > tr {\n",
       "  text-align: right;\n",
       "  white-space: pre-wrap;\n",
       "}\n",
       "</style>\n",
       "<small>shape: (5, 8)</small><table border=\"1\" class=\"dataframe\"><thead><tr><th>cluster</th><th>cluster_size</th><th>avg_mean_rating</th><th>avg_total_reviews</th><th>avg_brand_id</th><th>avg_category_id</th><th>top_brand_id</th><th>top_category_id</th></tr><tr><td>i32</td><td>u32</td><td>f64</td><td>f64</td><td>f64</td><td>f64</td><td>list[u32]</td><td>list[u32]</td></tr></thead><tbody><tr><td>0</td><td>23317743</td><td>4.08529</td><td>16.288415</td><td>104126.549329</td><td>588703.963657</td><td>[31]</td><td>[588849]</td></tr><tr><td>1</td><td>2466456</td><td>4.258269</td><td>9.041701</td><td>2.3032e6</td><td>555780.659087</td><td>[1682507]</td><td>[588839]</td></tr><tr><td>2</td><td>1895918</td><td>4.319212</td><td>6.382607</td><td>3.9012e6</td><td>566696.411559</td><td>[3159577]</td><td>[588839]</td></tr><tr><td>3</td><td>4397631</td><td>4.149755</td><td>12.030138</td><td>991741.20988</td><td>547324.914706</td><td>[638029]</td><td>[588839]</td></tr><tr><td>4</td><td>3287580</td><td>4.00405</td><td>10.910735</td><td>120418.439924</td><td>52730.792819</td><td>[31]</td><td>[31]</td></tr></tbody></table></div>"
      ],
      "text/plain": [
       "shape: (5, 8)\n",
       "┌─────────┬────────────┬────────────┬────────────┬────────────┬────────────┬───────────┬───────────┐\n",
       "│ cluster ┆ cluster_si ┆ avg_mean_r ┆ avg_total_ ┆ avg_brand_ ┆ avg_catego ┆ top_brand ┆ top_categ │\n",
       "│ ---     ┆ ze         ┆ ating      ┆ reviews    ┆ id         ┆ ry_id      ┆ _id       ┆ ory_id    │\n",
       "│ i32     ┆ ---        ┆ ---        ┆ ---        ┆ ---        ┆ ---        ┆ ---       ┆ ---       │\n",
       "│         ┆ u32        ┆ f64        ┆ f64        ┆ f64        ┆ f64        ┆ list[u32] ┆ list[u32] │\n",
       "╞═════════╪════════════╪════════════╪════════════╪════════════╪════════════╪═══════════╪═══════════╡\n",
       "│ 0       ┆ 23317743   ┆ 4.08529    ┆ 16.288415  ┆ 104126.549 ┆ 588703.963 ┆ [31]      ┆ [588849]  │\n",
       "│         ┆            ┆            ┆            ┆ 329        ┆ 657        ┆           ┆           │\n",
       "│ 1       ┆ 2466456    ┆ 4.258269   ┆ 9.041701   ┆ 2.3032e6   ┆ 555780.659 ┆ [1682507] ┆ [588839]  │\n",
       "│         ┆            ┆            ┆            ┆            ┆ 087        ┆           ┆           │\n",
       "│ 2       ┆ 1895918    ┆ 4.319212   ┆ 6.382607   ┆ 3.9012e6   ┆ 566696.411 ┆ [3159577] ┆ [588839]  │\n",
       "│         ┆            ┆            ┆            ┆            ┆ 559        ┆           ┆           │\n",
       "│ 3       ┆ 4397631    ┆ 4.149755   ┆ 12.030138  ┆ 991741.209 ┆ 547324.914 ┆ [638029]  ┆ [588839]  │\n",
       "│         ┆            ┆            ┆            ┆ 88         ┆ 706        ┆           ┆           │\n",
       "│ 4       ┆ 3287580    ┆ 4.00405    ┆ 10.910735  ┆ 120418.439 ┆ 52730.7928 ┆ [31]      ┆ [31]      │\n",
       "│         ┆            ┆            ┆            ┆ 924        ┆ 19         ┆           ┆           │\n",
       "└─────────┴────────────┴────────────┴────────────┴────────────┴────────────┴───────────┴───────────┘"
      ]
     },
     "execution_count": 7,
     "metadata": {},
     "output_type": "execute_result"
    }
   ],
   "source": [
    "summary: pl.DataFrame = (\n",
    "df.group_by(\"cluster\")\n",
    "    .agg([\n",
    "        pl.len().alias(\"cluster_size\"),\n",
    "        pl.col(\"mean_rating\").mean().alias(\"avg_mean_rating\"),\n",
    "        pl.col(\"total_reviews\").mean().alias(\"avg_total_reviews\"),\n",
    "        pl.col(\"brand_id\").mean().alias(\"avg_brand_id\"),\n",
    "        pl.col(\"category_id\").mean().alias(\"avg_category_id\"),\n",
    "        pl.col(\"brand_id\").mode().alias(\"top_brand_id\"),\n",
    "        pl.col(\"category_id\").mode().alias(\"top_category_id\"),\n",
    "    ])\n",
    "    .sort(\"cluster\")\n",
    ")\n",
    "\n",
    "summary"
   ]
  }
 ],
 "metadata": {
  "kernelspec": {
   "display_name": "venv",
   "language": "python",
   "name": "python3"
  },
  "language_info": {
   "codemirror_mode": {
    "name": "ipython",
    "version": 3
   },
   "file_extension": ".py",
   "mimetype": "text/x-python",
   "name": "python",
   "nbconvert_exporter": "python",
   "pygments_lexer": "ipython3",
   "version": "3.12.3"
  }
 },
 "nbformat": 4,
 "nbformat_minor": 5
}
