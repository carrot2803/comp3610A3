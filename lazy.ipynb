{
 "cells": [
  {
   "cell_type": "code",
   "execution_count": null,
   "id": "ecadafaa",
   "metadata": {},
   "outputs": [],
   "source": [
    "# from datasets import load_dataset, Dataset, DatasetDict, load_from_disk\n",
    "# from bigdata_a3_utils import download_all_amazon_reviews, load_compressed_dataset\n",
    "import polars as pl"
   ]
  },
  {
   "cell_type": "code",
   "execution_count": null,
   "id": "4c2f8693",
   "metadata": {},
   "outputs": [],
   "source": [
    "# auto_review: Dataset = load_dataset(\n",
    "#     \"McAuley-Lab/Amazon-Reviews-2023\",\n",
    "#     \"raw_review_Automotive\",\n",
    "#     split=\"full\",\n",
    "#     trust_remote_code=True,\n",
    "# )\n",
    "\n",
    "# auto_meta: Dataset = load_dataset(\n",
    "#     \"McAuley-Lab/Amazon-Reviews-2023\",\n",
    "#     \"raw_meta_Automotive\",\n",
    "#     split=\"full\",\n",
    "#     trust_remote_code=True,\n",
    "# )"
   ]
  },
  {
   "cell_type": "markdown",
   "id": "4a0f9159",
   "metadata": {},
   "source": []
  },
  {
   "cell_type": "code",
   "execution_count": null,
   "id": "4b30adc5",
   "metadata": {},
   "outputs": [],
   "source": [
    "# auto_review.to_parquet(\"amazon_review_auto.parquet\")\n",
    "# auto_meta.to_parquet(\"amazon_meta_auto.parquet\")"
   ]
  },
  {
   "cell_type": "code",
   "execution_count": null,
   "id": "19a696ba",
   "metadata": {},
   "outputs": [],
   "source": [
    "def extract_brand() -> pl.Expr:\n",
    "    store_clean: pl.Then = pl.when(pl.col(\"store\").str.strip_chars() != \"\").then(pl.col(\"store\"))\n",
    "    details_brand: pl.Expr = pl.col(\"details\").str.extract(r\"Brand[:\\s]*([^\\s,;]+)\", 1)\n",
    "    return pl.coalesce([store_clean, details_brand, pl.lit(\"Unknown\")]).alias(\"brand\")"
   ]
  },
  {
   "cell_type": "code",
   "execution_count": null,
   "id": "098ebce2",
   "metadata": {},
   "outputs": [],
   "source": [
    "lf_review: pl.LazyFrame = pl.scan_parquet(\"data/raw/review/Gift_Cards.parquet\")\n",
    "lf_meta: pl.LazyFrame = pl.scan_parquet(\"data/raw/meta/Gift_Cards.parquet\")"
   ]
  },
  {
   "cell_type": "code",
   "execution_count": null,
   "id": "479a896a",
   "metadata": {},
   "outputs": [],
   "source": [
    "lf: pl.LazyFrame = lf_review.join(lf_meta, on=\"parent_asin\", how=\"left\")\n",
    "\n",
    "lf: pl.LazyFrame = lf.filter(pl.col(\"rating\").is_in([1, 2, 3, 4, 5]))\n",
    "lf = lf.filter(pl.col(\"text\").str.strip_chars().str.len_chars() > 0)\n",
    "\n",
    "\n",
    "lf = lf.with_columns([\n",
    "    pl.col(\"text\").str.count_matches(r\"\\b\\w+\\b\").alias(\"review_length\"),\n",
    "    (pl.col(\"timestamp\").cast(pl.Datetime(\"ms\")).dt.year()).alias(\"year\")\n",
    "])"
   ]
  },
  {
   "cell_type": "code",
   "execution_count": null,
   "id": "038eabf8",
   "metadata": {},
   "outputs": [],
   "source": [
    "lf = lf.unique(subset=[\"user_id\", \"text\", \"asin\"], keep=\"first\")\n",
    "# lf = lf.with_columns([extract_brand()])"
   ]
  },
  {
   "cell_type": "code",
   "execution_count": null,
   "id": "c73b03ac",
   "metadata": {},
   "outputs": [],
   "source": [
    "# lf.sink_parquet(\"oops.parquet\")\n",
    "# print(lf.explain(streaming=True))"
   ]
  }
 ],
 "metadata": {
  "kernelspec": {
   "display_name": "Python 3",
   "language": "python",
   "name": "python3"
  },
  "language_info": {
   "codemirror_mode": {
    "name": "ipython",
    "version": 3
   },
   "file_extension": ".py",
   "mimetype": "text/x-python",
   "name": "python",
   "nbconvert_exporter": "python",
   "pygments_lexer": "ipython3",
   "version": "3.12.2"
  }
 },
 "nbformat": 4,
 "nbformat_minor": 5
}
