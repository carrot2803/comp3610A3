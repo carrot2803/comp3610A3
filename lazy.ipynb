{
 "cells": [
  {
   "cell_type": "code",
   "execution_count": 2,
   "id": "ecadafaa",
   "metadata": {},
   "outputs": [],
   "source": [
    "from datasets import load_dataset, Dataset, DatasetDict, load_from_disk\n",
    "from bigdata_a3_utils import download_all_amazon_reviews, load_compressed_dataset\n",
    "import polars as pl"
   ]
  },
  {
   "cell_type": "code",
   "execution_count": null,
   "id": "dcd97bec",
   "metadata": {},
   "outputs": [],
   "source": [
    "# print(pl.__version__)"
   ]
  },
  {
   "cell_type": "code",
   "execution_count": null,
   "id": "4c2f8693",
   "metadata": {},
   "outputs": [],
   "source": [
    "# auto_review: Dataset = load_dataset(\n",
    "#     \"McAuley-Lab/Amazon-Reviews-2023\",\n",
    "#     \"raw_review_Automotive\",\n",
    "#     split=\"full\",\n",
    "#     trust_remote_code=True,\n",
    "# )\n",
    "\n",
    "# auto_meta: Dataset = load_dataset(\n",
    "#     \"McAuley-Lab/Amazon-Reviews-2023\",\n",
    "#     \"raw_meta_Automotive\",\n",
    "#     split=\"full\",\n",
    "#     trust_remote_code=True,\n",
    "# )"
   ]
  },
  {
   "cell_type": "code",
   "execution_count": null,
   "id": "4b30adc5",
   "metadata": {},
   "outputs": [],
   "source": [
    "# auto_review.to_parquet(\"amazon_review_auto.parquet\")\n",
    "# auto_meta.to_parquet(\"amazon_meta_auto.parquet\")"
   ]
  },
  {
   "cell_type": "code",
   "execution_count": 3,
   "id": "19a696ba",
   "metadata": {},
   "outputs": [],
   "source": [
    "def extract_brand() -> pl.Expr:\n",
    "    store_clean: pl.Then = pl.when(pl.col(\"store\").str.strip_chars() != \"\").then(pl.col(\"store\"))\n",
    "    details_brand: pl.Expr = pl.col(\"details\").str.extract(r\"Brand[:\\s]*([^\\s,;]+)\", 1)\n",
    "    return pl.coalesce([store_clean, details_brand, pl.lit(\"Unknown\")]).alias(\"brand\")"
   ]
  },
  {
   "cell_type": "code",
   "execution_count": 14,
   "id": "098ebce2",
   "metadata": {},
   "outputs": [],
   "source": [
    "lf_review: pl.LazyFrame = pl.scan_parquet(\"data/raw/review/amazon_review_beauty.parquet\")\n",
    "lf_meta: pl.LazyFrame = pl.scan_parquet(\"data/raw/meta/amazon_meta_beauty.parquet\")"
   ]
  },
  {
   "cell_type": "code",
   "execution_count": 15,
   "id": "479a896a",
   "metadata": {},
   "outputs": [],
   "source": [
    "lf_review: pl.LazyFrame = lf_review.filter(pl.col(\"rating\").is_in([1, 2, 3, 4, 5]))\n",
    "lf_review = lf_review.filter(pl.col(\"text\").str.strip_chars().str.len_chars() > 0)\n",
    "\n",
    "\n",
    "lf_review = lf_review.with_columns([\n",
    "    pl.col(\"text\").str.count_matches(r\"\\b\\w+\\b\").alias(\"review_length\"),\n",
    "    (pl.col(\"timestamp\").cast(pl.Datetime(\"ms\")).dt.year()).alias(\"year\")\n",
    "])"
   ]
  },
  {
   "cell_type": "code",
   "execution_count": 16,
   "id": "038eabf8",
   "metadata": {},
   "outputs": [],
   "source": [
    "lf: pl.LazyFrame = lf_review.join(lf_meta, on=\"parent_asin\", how=\"left\")\n",
    "lf = lf.with_columns([extract_brand()])\n",
    "lf = lf.unique(subset=[\"user_id\", \"text\", \"asin\"], keep=\"first\")"
   ]
  },
  {
   "cell_type": "code",
   "execution_count": 18,
   "id": "c73b03ac",
   "metadata": {},
   "outputs": [
    {
     "name": "stdout",
     "output_type": "stream",
     "text": [
      "STREAMING:\n",
      "  UNIQUE[maintain_order: false, keep_strategy: First] BY Some([\"user_id\", \"text\", \"asin\"])\n",
      "     WITH_COLUMNS:\n",
      "     [when([(col(\"store\").str.strip_chars([null])) != (String())]).then(col(\"store\")).otherwise(null.strict_cast(String)).coalesce([col(\"details\").str.extract([String(Brand[:\\s]*([^\\s,;]+))]), String(Unknown)]).alias(\"brand\")] \n",
      "      LEFT JOIN:\n",
      "      LEFT PLAN ON: [col(\"parent_asin\")]\n",
      "         WITH_COLUMNS:\n",
      "         [col(\"text\").str.count_matches([String(\\b\\w+\\b)]).alias(\"review_length\"), col(\"timestamp\").strict_cast(Datetime(Milliseconds, None)).dt.year().alias(\"year\")] \n",
      "          Parquet SCAN [data/raw/review/amazon_review_beauty.parquet]\n",
      "          PROJECT */10 COLUMNS\n",
      "          SELECTION: [(col(\"rating\").is_in([Series])) & ([(col(\"text\").str.strip_chars([null]).str.len_chars()) > (0)])]\n",
      "      RIGHT PLAN ON: [col(\"parent_asin\")]\n",
      "        Parquet SCAN [data/raw/meta/amazon_meta_beauty.parquet]\n",
      "        PROJECT */16 COLUMNS\n",
      "      END LEFT JOIN\n"
     ]
    }
   ],
   "source": [
    "# df: pl.DataFrame = lf.collect(streaming=True)\n",
    "print(lf.explain(streaming=True))"
   ]
  },
  {
   "cell_type": "code",
   "execution_count": null,
   "id": "beb1b0e5",
   "metadata": {},
   "outputs": [],
   "source": [
    "df.write_parquet(\"data/intermediate/amazon_beauty.parquet\")"
   ]
  }
 ],
 "metadata": {
  "kernelspec": {
   "display_name": "Python 3",
   "language": "python",
   "name": "python3"
  },
  "language_info": {
   "codemirror_mode": {
    "name": "ipython",
    "version": 3
   },
   "file_extension": ".py",
   "mimetype": "text/x-python",
   "name": "python",
   "nbconvert_exporter": "python",
   "pygments_lexer": "ipython3",
   "version": "3.11.3"
  }
 },
 "nbformat": 4,
 "nbformat_minor": 5
}
