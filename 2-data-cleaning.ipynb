{
 "cells": [
  {
   "cell_type": "code",
   "execution_count": null,
   "id": "d5514817",
   "metadata": {},
   "outputs": [],
   "source": [
    "import polars as pl\n",
    "from amazon.constants import *\n",
    "import gc\n",
    "\n",
    "N_SAMPLE = 500_000"
   ]
  },
  {
   "cell_type": "code",
   "execution_count": null,
   "id": "eaf2cfc2",
   "metadata": {},
   "outputs": [],
   "source": [
    "def extract_brand() -> pl.Expr:\n",
    "    store_clean: pl.Then = pl.when(pl.col(\"store\").str.strip_chars() != \"\").then(pl.col(\"store\"))\n",
    "    details_brand: pl.Expr = pl.col(\"details\").str.extract(r\"Brand[:\\s\\-]*([A-Za-z0-9&\\s]+)\", 1)\n",
    "    return pl.coalesce([store_clean, details_brand, pl.lit(\"Unknown\")]).alias(\"brand\")\n",
    "\n",
    "\n",
    "def process_category(category: str) -> None:\n",
    "    lf_review: pl.LazyFrame = pl.scan_parquet(f\"{RAW}/{REVIEW}/{category}.parquet\")\n",
    "    lf_meta: pl.LazyFrame = pl.scan_parquet(f\"{RAW}/{META}/{category}.parquet\")\n",
    "\n",
    "    lf_review = lf_review.head(N_SAMPLE)\n",
    "    lf_meta = lf_meta.head(N_SAMPLE)\n",
    "\n",
    "    # a) Merge on parent asin\n",
    "    lf: pl.LazyFrame = lf_review.join(lf_meta, on=\"parent_asin\", how=\"inner\")\n",
    "    \n",
    "    # b) Handle Invalid / Missing Values\n",
    "    lf: pl.LazyFrame = lf.filter(pl.col(\"rating\").is_in([1, 2, 3, 4, 5]))\n",
    "    lf = lf.filter(pl.col(\"text\").str.strip_chars().str.len_chars() > 0)\n",
    "    lf = lf.with_columns([extract_brand()])\n",
    "    \n",
    "    # c) Remove Duplicates\n",
    "    lf = lf.unique(subset=[\"user_id\", \"text\", \"asin\"], keep=\"first\")\n",
    "   \n",
    "    # d) Derived Columns:\n",
    "    lf = lf.with_columns([\n",
    "        pl.col(\"text\").str.count_matches(r\"\\b\\w+\\b\").alias(\"review_length\"),\n",
    "        (pl.col(\"timestamp\").cast(pl.Datetime(\"ms\")).dt.year()).alias(\"year\")\n",
    "    ])\n",
    "    lf.sink_parquet(f\"{INTERMEDIATE}/{category}.parquet\", engine=\"streaming\")"
   ]
  },
  {
   "cell_type": "code",
   "execution_count": null,
   "id": "f5053c40",
   "metadata": {},
   "outputs": [],
   "source": [
    "for category in ALL_CATEGORIES[:15]:\n",
    "    print(f\"Cleaning dataset for {category}...\")\n",
    "    process_category(category)\n",
    "\n",
    "gc.collect()"
   ]
  },
  {
   "cell_type": "code",
   "execution_count": null,
   "id": "1534c91b",
   "metadata": {},
   "outputs": [],
   "source": [
    "# merged: pl.LazyFrame = pl.concat([\n",
    "#     pl.scan_parquet(f\"{INTERMEDIATE}/{category}.parquet\")\n",
    "#     for category in ALL_CATEGORIES[:15]\n",
    "# ])\n",
    "\n",
    "merged: pl.LazyFrame = pl.scan_parquet(f\"{INTERMEDIATE}/*.parquet\")\n",
    "# merged = merged.unique(subset=[\"user_id\", \"text\", \"asin\"], keep=\"first\")\n",
    "merged.sink_parquet(\"data/processed/amazon-2023.parquet\", engine=\"streaming\")"
   ]
  }
 ],
 "metadata": {
  "kernelspec": {
   "display_name": "Python 3",
   "language": "python",
   "name": "python3"
  },
  "language_info": {
   "codemirror_mode": {
    "name": "ipython",
    "version": 3
   },
   "file_extension": ".py",
   "mimetype": "text/x-python",
   "name": "python",
   "nbconvert_exporter": "python",
   "pygments_lexer": "ipython3",
   "version": "3.12.2"
  }
 },
 "nbformat": 4,
 "nbformat_minor": 5
}
