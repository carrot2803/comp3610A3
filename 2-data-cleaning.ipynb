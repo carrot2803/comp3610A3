{
 "cells": [
  {
   "cell_type": "code",
   "execution_count": null,
   "id": "d5514817",
   "metadata": {},
   "outputs": [],
   "source": [
    "import polars as pl\n",
    "from amazon.constants import *\n",
    "import gc\n",
    "import os\n",
    "\n",
    "# N_SAMPLE = 500_000"
   ]
  },
  {
   "cell_type": "code",
   "execution_count": null,
   "id": "80f083b9",
   "metadata": {},
   "outputs": [],
   "source": [
    "storage: list[str] = [\n",
    "    \"title_right\",\n",
    "    \"images_right\",\n",
    "    \"description\",\n",
    "    \"features\",\n",
    "    \"videos\",\n",
    "    \"subtitle\",\n",
    "    \"bought_together\",\n",
    "    \"author\",\n",
    "    \"images\",\n",
    "    \"title\",\n",
    "    \"average_rating\",\n",
    "    \"rating_number\",\n",
    "    \"categories\",\n",
    "    \"store\",\n",
    "]\n",
    "review_cols = [\n",
    "    \"rating\",\n",
    "    \"text\",\n",
    "    \"asin\",\n",
    "    \"parent_asin\",\n",
    "    \"user_id\",\n",
    "    \"helpful_vote\",\n",
    "    \"verified_purchase\",\n",
    "    \"timestamp\"\n",
    "]\n",
    "meta_cols = [\"main_category\", \"price\", \"store\", \"details\", \"parent_asin\"]"
   ]
  },
  {
   "cell_type": "code",
   "execution_count": null,
   "id": "96733738",
   "metadata": {},
   "outputs": [],
   "source": [
    "def extract_brand() -> pl.Expr:\n",
    "    store_clean: pl.Then = pl.when(pl.col(\"store\").str.strip_chars() != \"\").then(pl.col(\"store\"))\n",
    "    details_brand: pl.Expr = pl.col(\"details\").str.extract(r\"Brand[:\\s\\-]*([A-Za-z0-9&\\s]+)\", 1)\n",
    "    return pl.coalesce([store_clean, details_brand, pl.lit(\"Unknown\")]).alias(\"brand\")\n",
    "\n",
    "\n",
    "def process_category(category: str) -> None:\n",
    "    path: str = f\"{INTERMEDIATE}/{category}.parquet\"\n",
    "    if os.path.exists(path):\n",
    "        print(f\"File already exists: {path}. Skipping.\")\n",
    "        return\n",
    "    lf_review: pl.LazyFrame = pl.scan_parquet(f\"{RAW}/{REVIEW}/{category}.parquet\").select(review_cols)\n",
    "    lf_meta: pl.LazyFrame = pl.scan_parquet(f\"{RAW}/{META}/{category}.parquet\").select(meta_cols)\n",
    "    lf_review: pl.LazyFrame = lf_review.filter(pl.col(\"rating\").is_in([1, 2, 3, 4, 5]))\n",
    "    lf_review = lf_review.filter(pl.col(\"text\").str.strip_chars().str.len_chars() > 0)\n",
    "\n",
    "    lf_review = lf_review.with_columns([\n",
    "        pl.col(\"text\").str.count_matches(r\"\\b\\w+\\b\").alias(\"review_length\"),\n",
    "        (pl.col(\"timestamp\").cast(pl.Datetime(\"ms\")).dt.year()).alias(\"year\")\n",
    "    ])\n",
    "    lf_review=lf_review.drop(\"timestamp\")\n",
    "    lf_meta = lf_meta.with_columns([extract_brand()])\n",
    "    lf_meta = lf_meta.drop([\"details\", \"store\"]) # delete ltr\n",
    "\n",
    "    lf: pl.LazyFrame = lf_review.join(lf_meta, on=\"parent_asin\", how=\"inner\")\n",
    "\n",
    "    lf = lf.group_by(\n",
    "        [\"user_id\", \"text\", \"asin\"],\n",
    "        maintain_order=True\n",
    "    ).agg([\n",
    "        pl.all().first()\n",
    "    ])\n",
    "   \n",
    "\n",
    "    lf.sink_parquet(path, engine=\"streaming\")"
   ]
  },
  {
   "cell_type": "code",
   "execution_count": null,
   "id": "eaf2cfc2",
   "metadata": {},
   "outputs": [],
   "source": [
    "# def extract_brand() -> pl.Expr:\n",
    "#     store_clean: pl.Then = pl.when(pl.col(\"store\").str.strip_chars() != \"\").then(pl.col(\"store\"))\n",
    "#     details_brand: pl.Expr = pl.col(\"details\").str.extract(r\"Brand[:\\s\\-]*([A-Za-z0-9&\\s]+)\", 1)\n",
    "#     return pl.coalesce([store_clean, details_brand, pl.lit(\"Unknown\")]).alias(\"brand\")\n",
    "\n",
    "\n",
    "# def process_category(category: str) -> None:\n",
    "#     path: str = f\"{INTERMEDIATE}/{category}.parquet\"\n",
    "#     if os.path.exists(path):\n",
    "#         print(f\"File already exists: {path}. Skipping.\")\n",
    "#         return\n",
    "#     lf_review: pl.LazyFrame = pl.scan_parquet(f\"{RAW}/{REVIEW}/{category}.parquet\")\n",
    "#     lf_meta: pl.LazyFrame = pl.scan_parquet(f\"{RAW}/{META}/{category}.parquet\")\n",
    "#     # lf_review = lf_review.head(N_SAMPLE)\n",
    "#     # lf_meta = lf_meta.head(N_SAMPLE)\n",
    "\n",
    "#     # a) Merge on parent asin\n",
    "#     lf: pl.LazyFrame = lf_review.join(lf_meta, on=\"parent_asin\", how=\"inner\")\n",
    "#     # lf = lf.drop([\"title_right\", \"images_right\"])\n",
    "#     lf = lf.drop(storage)\n",
    "\n",
    "#     # b) Handle Invalid / Missing Values\n",
    "#     lf: pl.LazyFrame = lf.filter(pl.col(\"rating\").is_in([1, 2, 3, 4, 5]))\n",
    "#     lf = lf.filter(pl.col(\"text\").str.strip_chars().str.len_chars() > 0)\n",
    "#     lf = lf.with_columns([extract_brand()])\n",
    "#     lf = lf.drop(\"details\") # delete ltr\n",
    "    \n",
    "#     # c) Remove Duplicates\n",
    "#     lf = lf.group_by(\n",
    "#         [\"user_id\", \"text\", \"asin\"],\n",
    "#         maintain_order=True\n",
    "#     ).agg([\n",
    "#         pl.all().first()\n",
    "#     ])\n",
    "    \n",
    "   \n",
    "#     # d) Derived Columns:\n",
    "#     lf = lf.with_columns([\n",
    "#         pl.col(\"text\").str.count_matches(r\"\\b\\w+\\b\").alias(\"review_length\"),\n",
    "#         # (pl.col(\"timestamp\").cast(pl.Datetime(\"ms\")).dt.year()).alias(\"year\")\n",
    "#     ])\n",
    "\n",
    "#     lf.sink_parquet(path, engine=\"streaming\", row_group_size=100)"
   ]
  },
  {
   "cell_type": "code",
   "execution_count": null,
   "id": "f5053c40",
   "metadata": {},
   "outputs": [],
   "source": [
    "for category in ALL_CATEGORIES:\n",
    "    print(f\"Cleaning dataset for {category}...\")\n",
    "    process_category(category)\n",
    "    gc.collect()"
   ]
  },
  {
   "cell_type": "code",
   "execution_count": null,
   "id": "cae972c9",
   "metadata": {},
   "outputs": [],
   "source": [
    "# (23_632_810, 1)\n",
    "# (23_632_810, 1)\n",
    "# (693_547, 1)\n",
    "# pl.scan_parquet(\"data/intermediate/All_Beauty.parquet\").select(\"rating\").collect().shape"
   ]
  },
  {
   "cell_type": "code",
   "execution_count": null,
   "id": "1534c91b",
   "metadata": {},
   "outputs": [],
   "source": [
    "# 502_984_947\n",
    "merged: pl.LazyFrame = pl.scan_parquet(f\"{INTERMEDIATE}/*.parquet\")\n",
    "# merged = merged.unique(subset=[\"user_id\", \"text\", \"asin\"], keep=\"first\")\n",
    "merged.sink_parquet(\"data/processed/amazon-2023.parquet\", engine=\"streaming\")"
   ]
  },
  {
   "cell_type": "code",
   "execution_count": null,
   "id": "7123e392",
   "metadata": {},
   "outputs": [],
   "source": [
    "merged.select(merged.columns[2]).collect(engine=\"streaming\").shape"
   ]
  }
 ],
 "metadata": {
  "kernelspec": {
   "display_name": "Python 3",
   "language": "python",
   "name": "python3"
  },
  "language_info": {
   "codemirror_mode": {
    "name": "ipython",
    "version": 3
   },
   "file_extension": ".py",
   "mimetype": "text/x-python",
   "name": "python",
   "nbconvert_exporter": "python",
   "pygments_lexer": "ipython3",
   "version": "3.12.3"
  }
 },
 "nbformat": 4,
 "nbformat_minor": 5
}
