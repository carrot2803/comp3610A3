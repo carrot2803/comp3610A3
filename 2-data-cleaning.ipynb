{
 "cells": [
  {
   "cell_type": "code",
   "execution_count": null,
   "id": "d5514817",
   "metadata": {},
   "outputs": [],
   "source": [
    "import polars as pl\n",
    "from amazon.constants import *\n",
    "N_SAMPLE = 100_000"
   ]
  },
  {
   "cell_type": "code",
   "execution_count": null,
   "id": "eaf2cfc2",
   "metadata": {},
   "outputs": [],
   "source": [
    "def extract_brand() -> pl.Expr:\n",
    "    store_clean: pl.Then = pl.when(pl.col(\"store\").str.strip_chars() != \"\").then(pl.col(\"store\"))\n",
    "    details_brand: pl.Expr = pl.col(\"details\").str.extract(r\"Brand[:\\s]*([^\\s,;]+)\", 1)\n",
    "    return pl.coalesce([store_clean, details_brand, pl.lit(\"Unknown\")]).alias(\"brand\")\n",
    "\n",
    "\n",
    "def process_category(category: str) -> None:\n",
    "    lf_review: pl.LazyFrame = pl.scan_parquet(f\"data/raw/{REVIEW}/{category}.parquet\")\n",
    "    lf_meta: pl.LazyFrame = pl.scan_parquet(f\"data/raw/{META}/{category}.parquet\")\n",
    "    lf_review = lf_review.head(N_SAMPLE)\n",
    "    lf_meta = lf_meta.head(N_SAMPLE)\n",
    "\n",
    "    lf_review: pl.LazyFrame = lf_review.filter(pl.col(\"rating\").is_in([1, 2, 3, 4, 5]))\n",
    "    lf_review = lf_review.filter(pl.col(\"text\").str.strip_chars().str.len_chars() > 0)\n",
    "\n",
    "    lf_review = lf_review.with_columns([\n",
    "        pl.col(\"text\").str.count_matches(r\"\\b\\w+\\b\").alias(\"review_length\"),\n",
    "        (pl.col(\"timestamp\").cast(pl.Datetime(\"ms\")).dt.year()).alias(\"year\")\n",
    "    ])\n",
    "\n",
    "    lf: pl.LazyFrame = lf_review.join(lf_meta, on=\"parent_asin\", how=\"left\")\n",
    "    lf = lf.with_columns([extract_brand()])\n",
    "    lf = lf.unique(subset=[\"user_id\", \"text\", \"asin\"], keep=\"first\")\n",
    "    lf.sink_parquet(f\"data/intermediate/{category}.parquet\")"
   ]
  },
  {
   "cell_type": "code",
   "execution_count": null,
   "id": "409d0459",
   "metadata": {},
   "outputs": [],
   "source": [
    "for category in TEST_CATEGORIES:\n",
    "    print(f\"Cleaning dataset for {category}...\")\n",
    "    process_category(category)"
   ]
  },
  {
   "cell_type": "code",
   "execution_count": null,
   "id": "1534c91b",
   "metadata": {},
   "outputs": [],
   "source": [
    "merged: pl.LazyFrame = pl.concat([\n",
    "    pl.scan_parquet(f\"data/intermediate/{category}.parquet\")\n",
    "    for category in TEST_CATEGORIES\n",
    "])\n",
    "\n",
    "merged = merged.unique(subset=[\"user_id\", \"text\", \"asin\"], keep=\"first\")\n",
    "merged.sink_parquet(\"data/processed/amazon-2023.parquet\")"
   ]
  }
 ],
 "metadata": {
  "kernelspec": {
   "display_name": "Python 3",
   "language": "python",
   "name": "python3"
  },
  "language_info": {
   "codemirror_mode": {
    "name": "ipython",
    "version": 3
   },
   "file_extension": ".py",
   "mimetype": "text/x-python",
   "name": "python",
   "nbconvert_exporter": "python",
   "pygments_lexer": "ipython3",
   "version": "3.11.3"
  }
 },
 "nbformat": 4,
 "nbformat_minor": 5
}
