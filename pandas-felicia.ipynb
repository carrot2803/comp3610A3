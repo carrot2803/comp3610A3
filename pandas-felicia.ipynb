{
 "cells": [
  {
   "cell_type": "code",
   "execution_count": 1,
   "id": "3845ce34",
   "metadata": {},
   "outputs": [],
   "source": [
    "from datasets import load_dataset, Dataset\n",
    "from pathlib import Path\n",
    "import polars as pl\n",
    "from bigdata_a3_utils import VALID_CATEGORIES"
   ]
  },
  {
   "cell_type": "code",
   "execution_count": null,
   "id": "39e126f0",
   "metadata": {},
   "outputs": [],
   "source": [
    "VALID_CATEGORIES: list[str] = [\"Gift_Cards\", \"Subscription_Boxes\", \"Magazine_Subscriptions\"]"
   ]
  },
  {
   "cell_type": "code",
   "execution_count": 3,
   "id": "717b9d71",
   "metadata": {},
   "outputs": [],
   "source": [
    "PATHS: list[str] = [\"data/raw/review\", \"data/raw/meta\", \"data/intermediate\"]"
   ]
  },
  {
   "cell_type": "code",
   "execution_count": 4,
   "id": "0ba9433d",
   "metadata": {},
   "outputs": [],
   "source": [
    "def create_dir() -> None:\n",
    "    for path in PATHS:\n",
    "        Path(path).mkdir(parents=True, exist_ok=True)"
   ]
  },
  {
   "cell_type": "code",
   "execution_count": 5,
   "id": "e50c8c68",
   "metadata": {},
   "outputs": [],
   "source": [
    "def load_metadata(category: str) -> Dataset:\n",
    "    return load_dataset(\n",
    "        \"McAuley-Lab/Amazon-Reviews-2023\",\n",
    "        f\"raw_meta_{category}\",\n",
    "        split=\"full\",\n",
    "        trust_remote_code=True,\n",
    "    )"
   ]
  },
  {
   "cell_type": "code",
   "execution_count": 6,
   "id": "dac695b6",
   "metadata": {},
   "outputs": [],
   "source": [
    "def load_reviews(category: str) -> Dataset:\n",
    "    return load_dataset(\n",
    "        \"McAuley-Lab/Amazon-Reviews-2023\",\n",
    "        f\"raw_review_{category}\",\n",
    "        split=\"full\",\n",
    "        trust_remote_code=True,\n",
    "    )"
   ]
  },
  {
   "cell_type": "code",
   "execution_count": 7,
   "id": "0015d2e8",
   "metadata": {},
   "outputs": [],
   "source": [
    "def download_datasets() -> None:\n",
    "    for category in VALID_CATEGORIES:\n",
    "        print(f\"Loading {category}...\\n\")\n",
    "        load_metadata(category).to_parquet(f\"data/raw/meta/{category}.parquet\")\n",
    "        load_reviews(category).to_parquet(f\"data/raw/review/{category}.parquet\")"
   ]
  },
  {
   "cell_type": "code",
   "execution_count": 8,
   "id": "abe42a7b",
   "metadata": {},
   "outputs": [],
   "source": [
    "def extract_brand() -> pl.Expr:\n",
    "    store_clean: pl.Then = pl.when(pl.col(\"store\").str.strip_chars() != \"\").then(\n",
    "        pl.col(\"store\")\n",
    "    )\n",
    "    details_brand: pl.Expr = pl.col(\"details\").str.extract(r\"Brand[:\\s]*([^\\s,;]+)\", 1)\n",
    "    return pl.coalesce([store_clean, details_brand, pl.lit(\"Unknown\")]).alias(\"brand\")"
   ]
  },
  {
   "cell_type": "code",
   "execution_count": 9,
   "id": "ed5372ed",
   "metadata": {},
   "outputs": [],
   "source": [
    "def clean_reviews(df: pl.DataFrame) -> pl.DataFrame:\n",
    "    return (\n",
    "        df.filter(\n",
    "            pl.col(\"rating\").is_in([1, 2, 3, 4, 5])\n",
    "            & (pl.col(\"text\").str.strip_chars().str.len_chars() > 0)\n",
    "        )\n",
    "        .with_columns([extract_brand()])\n",
    "        .unique(subset=[\"user_id\", \"text\", \"asin\"], keep=\"first\")\n",
    "        .with_columns(\n",
    "            pl.col(\"text\").str.count_matches(r\"\\b\\w+\\b\").alias(\"review_length\"),\n",
    "            pl.col(\"timestamp\").cast(pl.Datetime(\"ms\")).dt.year().alias(\"year\"),\n",
    "        )\n",
    "    )"
   ]
  },
  {
   "cell_type": "code",
   "execution_count": 10,
   "id": "1d1395c3",
   "metadata": {},
   "outputs": [],
   "source": [
    "def clean_datasets() -> None:\n",
    "    for category in VALID_CATEGORIES:\n",
    "        print(f\"\\nLoading dataset for {category}...\")\n",
    "        df_review: pl.DataFrame = pl.read_parquet(f\"data/raw/review/{category}.parquet\")\n",
    "        df_meta: pl.DataFrame = pl.read_parquet(f\"data/raw/meta/{category}.parquet\")\n",
    "\n",
    "        print(\"Merging on review and metadata...\")\n",
    "        df: pl.DataFrame = df_review.join(df_meta, on=\"parent_asin\", how=\"left\")\n",
    "\n",
    "        print(\"Cleaning data...\")\n",
    "        df = clean_reviews(df)\n",
    "\n",
    "        print(f\"Writing to data/intermediate/{category}.parquet...\")\n",
    "        df.write_parquet(f\"data/intermediate/{category}.parquet\")"
   ]
  },
  {
   "cell_type": "code",
   "execution_count": 11,
   "id": "968167fb",
   "metadata": {},
   "outputs": [],
   "source": [
    "create_dir()"
   ]
  },
  {
   "cell_type": "code",
   "execution_count": 12,
   "id": "afb3f089",
   "metadata": {},
   "outputs": [
    {
     "name": "stdout",
     "output_type": "stream",
     "text": [
      "Loading Gift_Cards...\n",
      "\n"
     ]
    },
    {
     "data": {
      "application/vnd.jupyter.widget-view+json": {
       "model_id": "9e7cc1fb6db94d2da657ba8c974857ed",
       "version_major": 2,
       "version_minor": 0
      },
      "text/plain": [
       "meta_Gift_Cards.jsonl:   0%|          | 0.00/2.04M [00:00<?, ?B/s]"
      ]
     },
     "metadata": {},
     "output_type": "display_data"
    },
    {
     "name": "stderr",
     "output_type": "stream",
     "text": [
      "C:\\Users\\Lorenzo\\AppData\\Roaming\\Python\\Python312\\site-packages\\huggingface_hub\\file_download.py:144: UserWarning: `huggingface_hub` cache-system uses symlinks by default to efficiently store duplicated files but your machine does not support them in C:\\Users\\Lorenzo\\.cache\\huggingface\\hub\\datasets--McAuley-Lab--Amazon-Reviews-2023. Caching files will still work but in a degraded version that might require more space on your disk. This warning can be disabled by setting the `HF_HUB_DISABLE_SYMLINKS_WARNING` environment variable. For more details, see https://huggingface.co/docs/huggingface_hub/how-to-cache#limitations.\n",
      "To support symlinks on Windows, you either need to activate Developer Mode or to run Python as an administrator. In order to activate developer mode, see this article: https://docs.microsoft.com/en-us/windows/apps/get-started/enable-your-device-for-development\n",
      "  warnings.warn(message)\n"
     ]
    },
    {
     "data": {
      "application/vnd.jupyter.widget-view+json": {
       "model_id": "badf457d475749d2ae07df24cbeaa321",
       "version_major": 2,
       "version_minor": 0
      },
      "text/plain": [
       "Generating full split:   0%|          | 0/1137 [00:00<?, ? examples/s]"
      ]
     },
     "metadata": {},
     "output_type": "display_data"
    },
    {
     "data": {
      "application/vnd.jupyter.widget-view+json": {
       "model_id": "b2b56aabd45c45a89c42f5a0e094579b",
       "version_major": 2,
       "version_minor": 0
      },
      "text/plain": [
       "Creating parquet from Arrow format:   0%|          | 0/2 [00:00<?, ?ba/s]"
      ]
     },
     "metadata": {},
     "output_type": "display_data"
    },
    {
     "data": {
      "application/vnd.jupyter.widget-view+json": {
       "model_id": "3938e7a5369849839b2dc303c4a3c454",
       "version_major": 2,
       "version_minor": 0
      },
      "text/plain": [
       "Gift_Cards.jsonl:   0%|          | 0.00/50.2M [00:00<?, ?B/s]"
      ]
     },
     "metadata": {},
     "output_type": "display_data"
    },
    {
     "data": {
      "application/vnd.jupyter.widget-view+json": {
       "model_id": "aabee3851e924126a5c241a1cca6f8ae",
       "version_major": 2,
       "version_minor": 0
      },
      "text/plain": [
       "Generating full split: 0 examples [00:00, ? examples/s]"
      ]
     },
     "metadata": {},
     "output_type": "display_data"
    },
    {
     "data": {
      "application/vnd.jupyter.widget-view+json": {
       "model_id": "3d206c3d2b264597ac4b9c3d44b38c64",
       "version_major": 2,
       "version_minor": 0
      },
      "text/plain": [
       "Creating parquet from Arrow format:   0%|          | 0/153 [00:00<?, ?ba/s]"
      ]
     },
     "metadata": {},
     "output_type": "display_data"
    },
    {
     "name": "stdout",
     "output_type": "stream",
     "text": [
      "Loading Subscription_Boxes...\n",
      "\n"
     ]
    },
    {
     "data": {
      "application/vnd.jupyter.widget-view+json": {
       "model_id": "444c94a8a5fd42888537e3b3e9365460",
       "version_major": 2,
       "version_minor": 0
      },
      "text/plain": [
       "meta_Subscription_Boxes.jsonl:   0%|          | 0.00/1.40M [00:00<?, ?B/s]"
      ]
     },
     "metadata": {},
     "output_type": "display_data"
    },
    {
     "data": {
      "application/vnd.jupyter.widget-view+json": {
       "model_id": "4da5020ef5a14815aa973283f26358da",
       "version_major": 2,
       "version_minor": 0
      },
      "text/plain": [
       "Generating full split: 0 examples [00:00, ? examples/s]"
      ]
     },
     "metadata": {},
     "output_type": "display_data"
    },
    {
     "data": {
      "application/vnd.jupyter.widget-view+json": {
       "model_id": "9d5ee25dc5ee47b3afcbb26364503a16",
       "version_major": 2,
       "version_minor": 0
      },
      "text/plain": [
       "Creating parquet from Arrow format:   0%|          | 0/1 [00:00<?, ?ba/s]"
      ]
     },
     "metadata": {},
     "output_type": "display_data"
    },
    {
     "data": {
      "application/vnd.jupyter.widget-view+json": {
       "model_id": "cd0d11c068724763abe76838a80e0592",
       "version_major": 2,
       "version_minor": 0
      },
      "text/plain": [
       "Subscription_Boxes.jsonl:   0%|          | 0.00/8.95M [00:00<?, ?B/s]"
      ]
     },
     "metadata": {},
     "output_type": "display_data"
    },
    {
     "data": {
      "application/vnd.jupyter.widget-view+json": {
       "model_id": "4e9f299af6b4436e8a80c21acf046f76",
       "version_major": 2,
       "version_minor": 0
      },
      "text/plain": [
       "Generating full split: 0 examples [00:00, ? examples/s]"
      ]
     },
     "metadata": {},
     "output_type": "display_data"
    },
    {
     "data": {
      "application/vnd.jupyter.widget-view+json": {
       "model_id": "a4282710af824b669366a25d061cfcbf",
       "version_major": 2,
       "version_minor": 0
      },
      "text/plain": [
       "Creating parquet from Arrow format:   0%|          | 0/17 [00:00<?, ?ba/s]"
      ]
     },
     "metadata": {},
     "output_type": "display_data"
    },
    {
     "name": "stdout",
     "output_type": "stream",
     "text": [
      "Loading Magazine_Subscriptions...\n",
      "\n"
     ]
    },
    {
     "data": {
      "application/vnd.jupyter.widget-view+json": {
       "model_id": "8406c000c1a34ec6b43eea1f201dbf9e",
       "version_major": 2,
       "version_minor": 0
      },
      "text/plain": [
       "meta_Magazine_Subscriptions.jsonl:   0%|          | 0.00/4.10M [00:00<?, ?B/s]"
      ]
     },
     "metadata": {},
     "output_type": "display_data"
    },
    {
     "data": {
      "application/vnd.jupyter.widget-view+json": {
       "model_id": "7483a364ea854f3c8af1a84ac83bc8d0",
       "version_major": 2,
       "version_minor": 0
      },
      "text/plain": [
       "Generating full split: 0 examples [00:00, ? examples/s]"
      ]
     },
     "metadata": {},
     "output_type": "display_data"
    },
    {
     "data": {
      "application/vnd.jupyter.widget-view+json": {
       "model_id": "eea706fc833c477fa2f5a57070224909",
       "version_major": 2,
       "version_minor": 0
      },
      "text/plain": [
       "Creating parquet from Arrow format:   0%|          | 0/4 [00:00<?, ?ba/s]"
      ]
     },
     "metadata": {},
     "output_type": "display_data"
    },
    {
     "data": {
      "application/vnd.jupyter.widget-view+json": {
       "model_id": "299106d4fd3842638639f15c5d46f691",
       "version_major": 2,
       "version_minor": 0
      },
      "text/plain": [
       "Magazine_Subscriptions.jsonl:   0%|          | 0.00/33.3M [00:00<?, ?B/s]"
      ]
     },
     "metadata": {},
     "output_type": "display_data"
    },
    {
     "data": {
      "application/vnd.jupyter.widget-view+json": {
       "model_id": "d7776de271e8467bba49f47453558bc4",
       "version_major": 2,
       "version_minor": 0
      },
      "text/plain": [
       "Generating full split: 0 examples [00:00, ? examples/s]"
      ]
     },
     "metadata": {},
     "output_type": "display_data"
    },
    {
     "data": {
      "application/vnd.jupyter.widget-view+json": {
       "model_id": "4af404c7e5c645c4ac1b2c177b168461",
       "version_major": 2,
       "version_minor": 0
      },
      "text/plain": [
       "Creating parquet from Arrow format:   0%|          | 0/72 [00:00<?, ?ba/s]"
      ]
     },
     "metadata": {},
     "output_type": "display_data"
    }
   ],
   "source": [
    "download_datasets()"
   ]
  },
  {
   "cell_type": "code",
   "execution_count": 13,
   "id": "0fb75901",
   "metadata": {},
   "outputs": [
    {
     "name": "stdout",
     "output_type": "stream",
     "text": [
      "\n",
      "Loading dataset for Gift_Cards...\n",
      "Merging on review and metadata...\n",
      "Cleaning data...\n",
      "Writing to data/intermediate/Gift_Cards.parquet...\n",
      "\n",
      "Loading dataset for Subscription_Boxes...\n",
      "Merging on review and metadata...\n",
      "Cleaning data...\n",
      "Writing to data/intermediate/Subscription_Boxes.parquet...\n",
      "\n",
      "Loading dataset for Magazine_Subscriptions...\n",
      "Merging on review and metadata...\n",
      "Cleaning data...\n",
      "Writing to data/intermediate/Magazine_Subscriptions.parquet...\n"
     ]
    }
   ],
   "source": [
    "clean_datasets()"
   ]
  }
 ],
 "metadata": {
  "kernelspec": {
   "display_name": "Python 3",
   "language": "python",
   "name": "python3"
  },
  "language_info": {
   "codemirror_mode": {
    "name": "ipython",
    "version": 3
   },
   "file_extension": ".py",
   "mimetype": "text/x-python",
   "name": "python",
   "nbconvert_exporter": "python",
   "pygments_lexer": "ipython3",
   "version": "3.11.3"
  }
 },
 "nbformat": 4,
 "nbformat_minor": 5
}
