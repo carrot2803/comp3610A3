{
 "cells": [
  {
   "cell_type": "code",
   "execution_count": 149,
   "id": "ecadafaa",
   "metadata": {},
   "outputs": [],
   "source": [
    "from datasets import load_dataset, Dataset, DatasetDict, load_from_disk\n",
    "from bigdata_a3_utils import download_all_amazon_reviews, load_compressed_dataset\n",
    "from pathlib import Path\n",
    "import polars as pl\n",
    "import pandas as pd\n",
    "from itertools import islice\n",
    "from typing import Generator"
   ]
  },
  {
   "cell_type": "code",
   "execution_count": 150,
   "id": "4c2f8693",
   "metadata": {},
   "outputs": [],
   "source": [
    "# auto_review = load_dataset(\n",
    "#     \"McAuley-Lab/Amazon-Reviews-2023\",\n",
    "#     \"raw_review_Automotive\",\n",
    "#     split=\"full\",\n",
    "#     trust_remote_code=True,\n",
    "# )\n",
    "\n",
    "# auto_meta = load_dataset(\n",
    "#     \"McAuley-Lab/Amazon-Reviews-2023\",\n",
    "#     \"raw_meta_Automotive\",\n",
    "#     split=\"full\",\n",
    "#     trust_remote_code=True,\n",
    "# )"
   ]
  },
  {
   "cell_type": "code",
   "execution_count": 151,
   "id": "4b30adc5",
   "metadata": {},
   "outputs": [],
   "source": [
    "# auto_meta.to_parquet(\"amazon_review_meta.parquet\")\n",
    "# auto_review.to_parquet(\"amazon_review_auto.parquet\")"
   ]
  },
  {
   "cell_type": "code",
   "execution_count": 152,
   "id": "098ebce2",
   "metadata": {},
   "outputs": [],
   "source": [
    "df_review: pl.DataFrame = pl.read_parquet(\"amazon_review_auto.parquet\")\n",
    "df_meta: pl.DataFrame = pl.read_parquet(\"amazon_meta_auto.parquet\")"
   ]
  },
  {
   "cell_type": "code",
   "execution_count": 153,
   "id": "97130a6a",
   "metadata": {},
   "outputs": [],
   "source": [
    "df: pl.DataFrame = df_review.join(df_meta, on=\"parent_asin\", how=\"left\")"
   ]
  },
  {
   "cell_type": "code",
   "execution_count": 154,
   "id": "65bc3547",
   "metadata": {},
   "outputs": [
    {
     "data": {
      "text/html": [
       "<div><style>\n",
       ".dataframe > thead > tr,\n",
       ".dataframe > tbody > tr {\n",
       "  text-align: right;\n",
       "  white-space: pre-wrap;\n",
       "}\n",
       "</style>\n",
       "<small>shape: (150_940, 28)</small><table border=\"1\" class=\"dataframe\"><thead><tr><th>rating</th><th>title</th><th>text</th><th>images</th><th>asin</th><th>parent_asin</th><th>user_id</th><th>timestamp</th><th>helpful_vote</th><th>verified_purchase</th><th>main_category</th><th>title_right</th><th>average_rating</th><th>rating_number</th><th>features</th><th>description</th><th>price</th><th>images_right</th><th>videos</th><th>store</th><th>categories</th><th>details</th><th>bought_together</th><th>subtitle</th><th>author</th><th>brand</th><th>review_length</th><th>year</th></tr><tr><td>f64</td><td>str</td><td>str</td><td>list[struct[4]]</td><td>str</td><td>str</td><td>str</td><td>i64</td><td>i64</td><td>bool</td><td>str</td><td>str</td><td>f64</td><td>i64</td><td>list[str]</td><td>list[str]</td><td>str</td><td>struct[4]</td><td>struct[3]</td><td>str</td><td>list[str]</td><td>str</td><td>str</td><td>str</td><td>str</td><td>str</td><td>u32</td><td>i32</td></tr></thead><tbody><tr><td>5.0</td><td>&quot;EASY TO LOAD&quot;</td><td>&quot;NICE PERKS FOR THE UPLOAD&quot;</td><td>[]</td><td>&quot;B00IX1I3G6&quot;</td><td>&quot;B00IX1I3G6&quot;</td><td>&quot;AHVC24CVCY5RW6GDXZ5TDDT4KS4A&quot;</td><td>1547660847272</td><td>0</td><td>true</td><td>null</td><td>&quot;Amazon Reload&quot;</td><td>4.7</td><td>143309</td><td>[&quot;Add funds to your Amazon Gift Card balance, then use your balance to manage how much you spend while shopping.&quot;, &quot;Save up for a purchase by adding funds to your Gift Card balance.&quot;, … &quot;Amazon Reload purchases are not refundable or redeemable for cash, except as required by law.&quot;]</td><td>[]</td><td>&quot;None&quot;</td><td>{[null, null],[&quot;https://m.media-amazon.com/images/I/41rPcyZJ3nL._AC_.jpg&quot;, &quot;https://m.media-amazon.com/images/I/41sQl2wriGL._AC_.jpg&quot;],[&quot;https://m.media-amazon.com/images/I/41rPcyZJ3nL._AC_SR38,50_.jpg&quot;, &quot;https://m.media-amazon.com/images/I/41sQl2wriGL._AC_SR38,50_.jpg&quot;],[&quot;MAIN&quot;, &quot;PT01&quot;]}</td><td>{[&quot;Very easy to do!!&quot;],[&quot;https://www.amazon.com/vdp/0a8f8f3b9f5b409896b362a927a00de1?ref=dp_vse_rvc_0&quot;],[&quot;AGVDC7ODZHCRVYN5D3MC42IBPVJA&quot;]}</td><td>&quot;Amazon&quot;</td><td>[&quot;Gift Cards&quot;, &quot;Gift Card Recipients&quot;, &quot;For Him&quot;]</td><td>&quot;{&quot;Item model number&quot;: &quot;Variabl…</td><td>null</td><td>null</td><td>null</td><td>&quot;Amazon&quot;</td><td>5</td><td>2019</td></tr><tr><td>5.0</td><td>&quot;I Added money&nbsp;&nbsp;to the Amazon g…</td><td>&quot;Added$$&quot;</td><td>[]</td><td>&quot;B00IX1I3G6&quot;</td><td>&quot;B00IX1I3G6&quot;</td><td>&quot;AG2I6ZK7DE3AA42HOILXPBHQMEDQ&quot;</td><td>1548630626249</td><td>0</td><td>true</td><td>null</td><td>&quot;Amazon Reload&quot;</td><td>4.7</td><td>143309</td><td>[&quot;Add funds to your Amazon Gift Card balance, then use your balance to manage how much you spend while shopping.&quot;, &quot;Save up for a purchase by adding funds to your Gift Card balance.&quot;, … &quot;Amazon Reload purchases are not refundable or redeemable for cash, except as required by law.&quot;]</td><td>[]</td><td>&quot;None&quot;</td><td>{[null, null],[&quot;https://m.media-amazon.com/images/I/41rPcyZJ3nL._AC_.jpg&quot;, &quot;https://m.media-amazon.com/images/I/41sQl2wriGL._AC_.jpg&quot;],[&quot;https://m.media-amazon.com/images/I/41rPcyZJ3nL._AC_SR38,50_.jpg&quot;, &quot;https://m.media-amazon.com/images/I/41sQl2wriGL._AC_SR38,50_.jpg&quot;],[&quot;MAIN&quot;, &quot;PT01&quot;]}</td><td>{[&quot;Very easy to do!!&quot;],[&quot;https://www.amazon.com/vdp/0a8f8f3b9f5b409896b362a927a00de1?ref=dp_vse_rvc_0&quot;],[&quot;AGVDC7ODZHCRVYN5D3MC42IBPVJA&quot;]}</td><td>&quot;Amazon&quot;</td><td>[&quot;Gift Cards&quot;, &quot;Gift Card Recipients&quot;, &quot;For Him&quot;]</td><td>&quot;{&quot;Item model number&quot;: &quot;Variabl…</td><td>null</td><td>null</td><td>null</td><td>&quot;Amazon&quot;</td><td>1</td><td>2019</td></tr><tr><td>5.0</td><td>&quot;Great&quot;</td><td>&quot;christmas gift&quot;</td><td>[]</td><td>&quot;B01K8RJDEI&quot;</td><td>&quot;B00ADR2LV6&quot;</td><td>&quot;AFJNPZQK3NYIJ232JJ52U6NXWS7Q&quot;</td><td>1613665005711</td><td>0</td><td>true</td><td>&quot;Gift Cards&quot;</td><td>&quot;Amazon.com Gift Card in a Holi…</td><td>4.9</td><td>185606</td><td>[&quot;Gift Card is affixed inside a box&quot;, &quot;Gift amount may not be printed on Gift Cards&quot;, … &quot;Customized gift message, if chosen at check-out, only appears on packing slip and not on the actual gift card or carrier&quot;]</td><td>[]</td><td>&quot;25.0&quot;</td><td>{[&quot;https://m.media-amazon.com/images/I/81Axm9gA9bL._SL1500_.jpg&quot;, &quot;https://m.media-amazon.com/images/I/81bjGbl0U3L._SL1500_.jpg&quot;, … null],[&quot;https://m.media-amazon.com/images/I/41S-n8ICtKL.jpg&quot;, &quot;https://m.media-amazon.com/images/I/41KGkEragiL.jpg&quot;, … &quot;https://m.media-amazon.com/images/I/31oYO5JWaEL.jpg&quot;],[&quot;https://m.media-amazon.com/images/I/41S-n8ICtKL._SX38_SY50_CR,0,0,38,50_.jpg&quot;, &quot;https://m.media-amazon.com/images/I/41KGkEragiL._SX38_SY50_CR,0,0,38,50_.jpg&quot;, … &quot;https://m.media-amazon.com/images/I/31oYO5JWaEL._SX38_SY50_CR,0,0,38,50_.jpg&quot;],[&quot;MAIN&quot;, &quot;PT01&quot;, … &quot;PT12&quot;]}</td><td>{[&quot;Amazon Gift Box Gift Cards Perfect for any occasion &quot;, &quot;Holiday Gift Card That Looks Good&quot;, … &quot;Cool Christmas Gift Card Box&quot;],[&quot;https://www.amazon.com/vdp/04743ba4c0af4f0e8b1d07c6399d65be?ref=dp_vse_rvc_0&quot;, &quot;https://www.amazon.com/vdp/0547a6e81075493aa539f174f7f90b99?ref=dp_vse_rvc_1&quot;, … &quot;https://www.amazon.com/vdp/084b1b5864a9416692da36ebe0c45270?ref=dp_vse_rvc_7&quot;],[&quot;/shop/purplepowerwashllc&quot;, &quot;/shop/becomingthefords&quot;, … &quot;/shop/becomingthefords&quot;]}</td><td>&quot;Amazon&quot;</td><td>[&quot;Gift Cards&quot;, &quot;Occasions&quot;, &quot;Chanukah&quot;]</td><td>&quot;{&quot;Package Dimensions&quot;: &quot;8.19 x…</td><td>null</td><td>null</td><td>null</td><td>&quot;Amazon&quot;</td><td>2</td><td>2021</td></tr><tr><td>5.0</td><td>&quot;Everyone loves getting these a…</td><td>&quot;This made a cute gift to give.…</td><td>[]</td><td>&quot;B01E4QQAWW&quot;</td><td>&quot;B018F4M89S&quot;</td><td>&quot;AH4JDSH7VHPWQVTBIVA64SVH6WJQ&quot;</td><td>1549644796137</td><td>0</td><td>true</td><td>&quot;Gift Cards&quot;</td><td>&quot;Amazon.com Gift Card in a Reve…</td><td>4.9</td><td>80974</td><td>[&quot;Gift Card is affixed inside a reveal product&quot;, &quot;Gift Card has no fees and no expiration date&quot;, … &quot;Customized gift message, if chosen at check-out, only appears on packing slip and not on the actual gift card or carrier&quot;]</td><td>[&quot;Amazon.com Gift Cards are the perfect way to give them exactly what they&#x27;re hoping for - even if you don&#x27;t know what it is. Amazon.com Gift Cards are redeemable for millions of items across Amazon.com. Item delivered is a single physical Amazon.com Gift Card nested inside or with a free gift accessory.&quot;]</td><td>&quot;20.0&quot;</td><td>{[&quot;https://m.media-amazon.com/images/I/71tuXbbE0TL._SL1500_.jpg&quot;, &quot;https://m.media-amazon.com/images/I/71Nqlm+ZyqL._SL1236_.jpg&quot;, … null],[&quot;https://m.media-amazon.com/images/I/515H0HfsHxL.jpg&quot;, &quot;https://m.media-amazon.com/images/I/51PlQZnaYZL.jpg&quot;, … &quot;https://m.media-amazon.com/images/I/31P20WACP9L.jpg&quot;],[&quot;https://m.media-amazon.com/images/I/515H0HfsHxL._SX38_SY50_CR,0,0,38,50_.jpg&quot;, &quot;https://m.media-amazon.com/images/I/51PlQZnaYZL._SX38_SY50_CR,0,0,38,50_.jpg&quot;, … &quot;https://m.media-amazon.com/images/I/31P20WACP9L._SX38_SY50_CR,0,0,38,50_.jpg&quot;],[&quot;MAIN&quot;, &quot;PT01&quot;, … &quot;PT12&quot;]}</td><td>{[&quot;Slide up to reveal card&quot;, &quot;Damaged presentation box &quot;, … &quot;Happy Birthday Granddaughter ( Erin)&quot;],[&quot;https://www.amazon.com/vdp/974928ef005b44ab8c936b4c3c804114?ref=dp_vse_rvc_0&quot;, &quot;https://www.amazon.com/vdp/e1d6ef73371a40259c0356ed56f8a206?ref=dp_vse_rvc_1&quot;, … &quot;https://www.amazon.com/vdp/0617fcf2d1584599bf60cf09cb3e6e03?ref=dp_vse_rvc_6&quot;],[&quot;AHDUDAEJT7B5ZB6TRIZLM4RQX6FA&quot;, &quot;AE2GM6GRDXUSYCFDK4XOQJLE7UKQ&quot;, … &quot;AGLPQAOHVH5XHPWIVBMITF5DUOXA&quot;]}</td><td>&quot;Amazon&quot;</td><td>[&quot;Gift Cards&quot;, &quot;Occasions&quot;, &quot;Christmas&quot;]</td><td>&quot;{&quot;Package Dimensions&quot;: &quot;4.37 x…</td><td>null</td><td>null</td><td>null</td><td>&quot;Amazon&quot;</td><td>56</td><td>2019</td></tr><tr><td>5.0</td><td>&quot;Gift cards&quot;</td><td>&quot;These were used for Christmas …</td><td>[]</td><td>&quot;B00FTGTM5E&quot;</td><td>&quot;B00FTGTIOE&quot;</td><td>&quot;AGQIEB52IPTI7LUBCDXJPLCOVZSQ&quot;</td><td>1486482170000</td><td>1</td><td>true</td><td>&quot;Gift Cards&quot;</td><td>&quot;Starbucks $10 Gift Cards (4-Pa…</td><td>4.9</td><td>13066</td><td>[&quot;This item contains 4 separate $10 plastic gift cards&quot;, &quot;Starbucks Cards redeemable at most SB locations&quot;, … &quot;No returns and no refunds on gift cards.&quot;]</td><td>[]</td><td>&quot;40.0&quot;</td><td>{[null],[&quot;https://m.media-amazon.com/images/I/41g1u7SJubL.jpg&quot;],[&quot;https://m.media-amazon.com/images/I/41g1u7SJubL._SX38_SY50_CR,0,0,38,50_.jpg&quot;],[&quot;MAIN&quot;]}</td><td>{[&quot;Unactivated 4pk. Starbucks cards&quot;, &quot;Starbucks Card is perfect for anyone .&quot;, &quot;Best Way to Redeem Starbucks Gift Card&quot;],[&quot;https://www.amazon.com/vdp/0dac88ab8f36441ba06fcbd0e1914291?ref=dp_vse_rvc_0&quot;, &quot;https://www.amazon.com/vdp/07e405ee5b8c42ab9788d4025f50bb72?ref=dp_vse_rvc_1&quot;, &quot;https://www.amazon.com/vdp/0f5c965adbbf48abaa3e3789fffc687c?ref=dp_vse_rvc_2&quot;],[&quot;AFQKTSVNC7SC2BJXAKD4O5SPVIGQ&quot;, &quot;/shop/youdidntknow&quot;, &quot;/shop/leontruong&quot;]}</td><td>&quot;Starbucks&quot;</td><td>[&quot;Gift Cards&quot;, &quot;Gift Card Categories&quot;, &quot;Grocery, Gourmet &amp; Floral&quot;]</td><td>&quot;{&quot;Package Dimensions&quot;: &quot;5.16 x…</td><td>null</td><td>null</td><td>null</td><td>&quot;Starbucks&quot;</td><td>36</td><td>2017</td></tr><tr><td>&hellip;</td><td>&hellip;</td><td>&hellip;</td><td>&hellip;</td><td>&hellip;</td><td>&hellip;</td><td>&hellip;</td><td>&hellip;</td><td>&hellip;</td><td>&hellip;</td><td>&hellip;</td><td>&hellip;</td><td>&hellip;</td><td>&hellip;</td><td>&hellip;</td><td>&hellip;</td><td>&hellip;</td><td>&hellip;</td><td>&hellip;</td><td>&hellip;</td><td>&hellip;</td><td>&hellip;</td><td>&hellip;</td><td>&hellip;</td><td>&hellip;</td><td>&hellip;</td><td>&hellip;</td><td>&hellip;</td></tr><tr><td>5.0</td><td>&quot;Date night&quot;</td><td>&quot;Purchased as a gift, pared wit…</td><td>[]</td><td>&quot;B00S5J8456&quot;</td><td>&quot;B00BXLTR6S&quot;</td><td>&quot;AEZETWLSVD4T7KBIG2MTPASEPFZA&quot;</td><td>1545073315665</td><td>0</td><td>true</td><td>&quot;Gift Cards&quot;</td><td>&quot;Fandango Gift Card&quot;</td><td>4.8</td><td>2292</td><td>[&quot;Redemption: Online&quot;, &quot;Available for use at your favorite theater, thousands of theaters nationwide&quot;, … &quot;No returns and no refunds on gift cards&quot;]</td><td>[]</td><td>&quot;50.0&quot;</td><td>{[null],[&quot;https://m.media-amazon.com/images/I/41GrT9yMOoL.jpg&quot;],[&quot;https://m.media-amazon.com/images/I/41GrT9yMOoL._SX38_SY50_CR,0,0,38,50_.jpg&quot;],[&quot;MAIN&quot;]}</td><td>{[&quot;Fandango Gift Card&quot;],[&quot;https://www.amazon.com/vdp/03f58c3b27764be3a4e76e7e45e80af7?ref=dp_vse_rvc_0&quot;],[&quot;/shop/influencer-dcb4065c&quot;]}</td><td>&quot;Fandango&quot;</td><td>[&quot;Gift Cards&quot;, &quot;Gift Card Categories&quot;, &quot;Books, Movies &amp; Music&quot;]</td><td>&quot;{&quot;Package Dimensions&quot;: &quot;5.2 x …</td><td>null</td><td>null</td><td>null</td><td>&quot;Fandango&quot;</td><td>13</td><td>2018</td></tr><tr><td>5.0</td><td>&quot;Gift card&quot;</td><td>&quot;Granddaughter loved it&quot;</td><td>[]</td><td>&quot;B01C9MW8Z6&quot;</td><td>&quot;B00JFBLZ90&quot;</td><td>&quot;AGUCXNRYT46NMKAAIWKWYWSZOOSQ&quot;</td><td>1604175847079</td><td>0</td><td>true</td><td>&quot;Gift Cards&quot;</td><td>&quot;Amazon.com Gift Card in a Birt…</td><td>4.9</td><td>62550</td><td>[&quot;Gift Card is nested inside a specialty gift box&quot;, &quot;Gift Card has no fees and no expiration date&quot;, … &quot;Customized gift message, if chosen at check-out, only appears on packing slip and not on the actual gift card or carrier&quot;]</td><td>[&quot;Amazon.com Gift Cards are the perfect way to give someone exactly what they&#x27;re hoping for. Recipients can choose from millions of items storewide. Amazon.ca Gift Cards never expire, so they can buy something immediately or wait for that sale of a lifetime.&quot;]</td><td>&quot;25.0&quot;</td><td>{[&quot;https://m.media-amazon.com/images/I/812v4i0vRdL._SL1500_.jpg&quot;, &quot;https://m.media-amazon.com/images/I/81CeBhMlOcL._SL1500_.jpg&quot;, … null],[&quot;https://m.media-amazon.com/images/I/4108EUWUG1L.jpg&quot;, &quot;https://m.media-amazon.com/images/I/41Z8fh84OzL.jpg&quot;, … &quot;https://m.media-amazon.com/images/I/31UajW-NuKL.jpg&quot;],[&quot;https://m.media-amazon.com/images/I/4108EUWUG1L._SX38_SY50_CR,0,0,38,50_.jpg&quot;, &quot;https://m.media-amazon.com/images/I/41Z8fh84OzL._SX38_SY50_CR,0,0,38,50_.jpg&quot;, … &quot;https://m.media-amazon.com/images/I/31UajW-NuKL._SX38_SY50_CR,0,0,38,50_.jpg&quot;],[&quot;MAIN&quot;, &quot;PT01&quot;, … &quot;PT12&quot;]}</td><td>{[&quot;It came very damaged and I was disappointed there wasn’t an option to get a new tin delivered.&quot;, &quot;Dissatisfied&nbsp;&nbsp;&quot;, … &quot;Perfect last minute gift!&quot;],[&quot;https://www.amazon.com/vdp/03ec2e0049834e999e321de19afad614?ref=dp_vse_rvc_0&quot;, &quot;https://www.amazon.com/vdp/7c0bf55249db4bab9eb7a4e43c015299?ref=dp_vse_rvc_1&quot;, … &quot;https://www.amazon.com/vdp/0a25feb8f4b842fcaafdb7a0929a59f1?ref=dp_vse_rvc_5&quot;],[&quot;AH6RXR3PSVG4QTECLHQOZECP3R5A&quot;, &quot;AGISMYD5W2ZIMYSDWH2CLXHGDIEA&quot;, … &quot;AHDIBGYYJQCPG3IRJBUJZZDHTHTA&quot;]}</td><td>&quot;Amazon&quot;</td><td>[&quot;Gift Cards&quot;, &quot;Occasions&quot;, &quot;Birthday&quot;]</td><td>&quot;{&quot;Package Dimensions&quot;: &quot;4.57 x…</td><td>null</td><td>null</td><td>null</td><td>&quot;Amazon&quot;</td><td>3</td><td>2020</td></tr><tr><td>5.0</td><td>&quot;Always a hit&quot;</td><td>&quot;Got for the holidays.&nbsp;&nbsp;Starbuc…</td><td>[]</td><td>&quot;B07ZS9XR5D&quot;</td><td>&quot;B07ZS9XR5D&quot;</td><td>&quot;AEXM2KQVSJKPFKRHPAU5ICIZIFRQ&quot;</td><td>1579146871258</td><td>0</td><td>true</td><td>null</td><td>&quot;Starbucks Red Siren Gift Card …</td><td>4.9</td><td>720</td><td>[]</td><td>[&quot;Since 1971, Starbucks Coffee Company has been committed to ethically sourcing and roasting the highest quality arabica coffee in the world. Today, with stores around the globe, the company is the premier roaster and retailer of specialty coffee in the world. To share in the experience, please visit us in our stores or online at starbucks.com&quot;]</td><td>&quot;None&quot;</td><td>{[null, null, null],[&quot;https://m.media-amazon.com/images/I/51h9nXvTTcL.jpg&quot;, &quot;https://m.media-amazon.com/images/I/51Mbe44JibL.jpg&quot;, &quot;https://m.media-amazon.com/images/I/5134wNaccaL.jpg&quot;],[&quot;https://m.media-amazon.com/images/I/51h9nXvTTcL._SX38_SY50_CR,0,0,38,50_.jpg&quot;, &quot;https://m.media-amazon.com/images/I/51Mbe44JibL._SX38_SY50_CR,0,0,38,50_.jpg&quot;, &quot;https://m.media-amazon.com/images/I/5134wNaccaL._SX38_SY50_CR,0,0,38,50_.jpg&quot;],[&quot;MAIN&quot;, &quot;PT01&quot;, &quot;PT02&quot;]}</td><td>{[],[],[]}</td><td>&quot;Starbucks&quot;</td><td>[&quot;Gift Cards&quot;, &quot;Gift Card Categories&quot;, &quot;Restaurants&quot;]</td><td>&quot;{&quot;Date First Available&quot;: &quot;Nove…</td><td>null</td><td>null</td><td>null</td><td>&quot;Starbucks&quot;</td><td>21</td><td>2020</td></tr><tr><td>5.0</td><td>&quot;Personal Use&quot;</td><td>&quot;Just what I needed for going t…</td><td>[]</td><td>&quot;B00MOWEHIS&quot;</td><td>&quot;B00MOWEFWQ&quot;</td><td>&quot;AHUO2IJ6ZTQGKF4ZGLSPTZNOREZQ&quot;</td><td>1568165119173</td><td>0</td><td>true</td><td>&quot;Gift Cards&quot;</td><td>&quot;Steak &#x27;n Shake Gift Cards, Mul…</td><td>4.9</td><td>273</td><td>[&quot;Contains 4 plastic gift cards in your choice of design.&quot;, &quot;The perfect gift is easy and convenient to give. Give the gift of Real-Steak Steakburgers, Real-Milk Milk Shakes, and everything else on our full menu. Our gift cards can be used at any Steak &#x27;n Shake anytime.&quot;, … &quot;No returns and no refunds on gift cards.&quot;]</td><td>[&quot;The perfect gift is easy and convenient to give. Give the gift of Real-Steak Steakburgers, Real-Milk Milk Shakes, and everything else on our full menu. Our gift cards can be used at any Steak ’n Shake anytime. Steak ’n Shake is a Classic American brand with nearly 500 locations throughout the United States. Good at any Steak &#x27;n Shake restaurant.&quot;]</td><td>&quot;40.0&quot;</td><td>{[null],[&quot;https://m.media-amazon.com/images/I/51aA536PwML.jpg&quot;],[&quot;https://m.media-amazon.com/images/I/51aA536PwML._SX38_SY50_CR,0,0,38,50_.jpg&quot;],[&quot;MAIN&quot;]}</td><td>{[],[],[]}</td><td>&quot;Steak &#x27;n Shake&quot;</td><td>[&quot;Gift Cards&quot;, &quot;Gift Card Categories&quot;, &quot;Restaurants&quot;]</td><td>&quot;{&quot;Product Dimensions&quot;: &quot;6.06 x…</td><td>null</td><td>null</td><td>null</td><td>&quot;Steak &#x27;n Shake&quot;</td><td>19</td><td>2019</td></tr><tr><td>5.0</td><td>&quot;Five Stars&quot;</td><td>&quot;Easy process.&quot;</td><td>[]</td><td>&quot;B00IX1I3G6&quot;</td><td>&quot;B00IX1I3G6&quot;</td><td>&quot;AFBGXVUHGUTGIDSVWYJO2SYERNPQ&quot;</td><td>1509371628371</td><td>0</td><td>true</td><td>null</td><td>&quot;Amazon Reload&quot;</td><td>4.7</td><td>143309</td><td>[&quot;Add funds to your Amazon Gift Card balance, then use your balance to manage how much you spend while shopping.&quot;, &quot;Save up for a purchase by adding funds to your Gift Card balance.&quot;, … &quot;Amazon Reload purchases are not refundable or redeemable for cash, except as required by law.&quot;]</td><td>[]</td><td>&quot;None&quot;</td><td>{[null, null],[&quot;https://m.media-amazon.com/images/I/41rPcyZJ3nL._AC_.jpg&quot;, &quot;https://m.media-amazon.com/images/I/41sQl2wriGL._AC_.jpg&quot;],[&quot;https://m.media-amazon.com/images/I/41rPcyZJ3nL._AC_SR38,50_.jpg&quot;, &quot;https://m.media-amazon.com/images/I/41sQl2wriGL._AC_SR38,50_.jpg&quot;],[&quot;MAIN&quot;, &quot;PT01&quot;]}</td><td>{[&quot;Very easy to do!!&quot;],[&quot;https://www.amazon.com/vdp/0a8f8f3b9f5b409896b362a927a00de1?ref=dp_vse_rvc_0&quot;],[&quot;AGVDC7ODZHCRVYN5D3MC42IBPVJA&quot;]}</td><td>&quot;Amazon&quot;</td><td>[&quot;Gift Cards&quot;, &quot;Gift Card Recipients&quot;, &quot;For Him&quot;]</td><td>&quot;{&quot;Item model number&quot;: &quot;Variabl…</td><td>null</td><td>null</td><td>null</td><td>&quot;Amazon&quot;</td><td>2</td><td>2017</td></tr></tbody></table></div>"
      ],
      "text/plain": [
       "shape: (150_940, 28)\n",
       "┌────────┬─────────────┬─────────────┬─────────────┬───┬────────┬─────────────┬─────────────┬──────┐\n",
       "│ rating ┆ title       ┆ text        ┆ images      ┆ … ┆ author ┆ brand       ┆ review_leng ┆ year │\n",
       "│ ---    ┆ ---         ┆ ---         ┆ ---         ┆   ┆ ---    ┆ ---         ┆ th          ┆ ---  │\n",
       "│ f64    ┆ str         ┆ str         ┆ list[struct ┆   ┆ str    ┆ str         ┆ ---         ┆ i32  │\n",
       "│        ┆             ┆             ┆ [4]]        ┆   ┆        ┆             ┆ u32         ┆      │\n",
       "╞════════╪═════════════╪═════════════╪═════════════╪═══╪════════╪═════════════╪═════════════╪══════╡\n",
       "│ 5.0    ┆ EASY TO     ┆ NICE PERKS  ┆ []          ┆ … ┆ null   ┆ Amazon      ┆ 5           ┆ 2019 │\n",
       "│        ┆ LOAD        ┆ FOR THE     ┆             ┆   ┆        ┆             ┆             ┆      │\n",
       "│        ┆             ┆ UPLOAD      ┆             ┆   ┆        ┆             ┆             ┆      │\n",
       "│ 5.0    ┆ I Added     ┆ Added$$     ┆ []          ┆ … ┆ null   ┆ Amazon      ┆ 1           ┆ 2019 │\n",
       "│        ┆ money  to   ┆             ┆             ┆   ┆        ┆             ┆             ┆      │\n",
       "│        ┆ the Amazon  ┆             ┆             ┆   ┆        ┆             ┆             ┆      │\n",
       "│        ┆ g…          ┆             ┆             ┆   ┆        ┆             ┆             ┆      │\n",
       "│ 5.0    ┆ Great       ┆ christmas   ┆ []          ┆ … ┆ null   ┆ Amazon      ┆ 2           ┆ 2021 │\n",
       "│        ┆             ┆ gift        ┆             ┆   ┆        ┆             ┆             ┆      │\n",
       "│ 5.0    ┆ Everyone    ┆ This made a ┆ []          ┆ … ┆ null   ┆ Amazon      ┆ 56          ┆ 2019 │\n",
       "│        ┆ loves       ┆ cute gift   ┆             ┆   ┆        ┆             ┆             ┆      │\n",
       "│        ┆ getting     ┆ to give.…   ┆             ┆   ┆        ┆             ┆             ┆      │\n",
       "│        ┆ these a…    ┆             ┆             ┆   ┆        ┆             ┆             ┆      │\n",
       "│ 5.0    ┆ Gift cards  ┆ These were  ┆ []          ┆ … ┆ null   ┆ Starbucks   ┆ 36          ┆ 2017 │\n",
       "│        ┆             ┆ used for    ┆             ┆   ┆        ┆             ┆             ┆      │\n",
       "│        ┆             ┆ Christmas … ┆             ┆   ┆        ┆             ┆             ┆      │\n",
       "│ …      ┆ …           ┆ …           ┆ …           ┆ … ┆ …      ┆ …           ┆ …           ┆ …    │\n",
       "│ 5.0    ┆ Date night  ┆ Purchased   ┆ []          ┆ … ┆ null   ┆ Fandango    ┆ 13          ┆ 2018 │\n",
       "│        ┆             ┆ as a gift,  ┆             ┆   ┆        ┆             ┆             ┆      │\n",
       "│        ┆             ┆ pared wit…  ┆             ┆   ┆        ┆             ┆             ┆      │\n",
       "│ 5.0    ┆ Gift card   ┆ Granddaught ┆ []          ┆ … ┆ null   ┆ Amazon      ┆ 3           ┆ 2020 │\n",
       "│        ┆             ┆ er loved it ┆             ┆   ┆        ┆             ┆             ┆      │\n",
       "│ 5.0    ┆ Always a    ┆ Got for the ┆ []          ┆ … ┆ null   ┆ Starbucks   ┆ 21          ┆ 2020 │\n",
       "│        ┆ hit         ┆ holidays.   ┆             ┆   ┆        ┆             ┆             ┆      │\n",
       "│        ┆             ┆ Starbuc…    ┆             ┆   ┆        ┆             ┆             ┆      │\n",
       "│ 5.0    ┆ Personal    ┆ Just what I ┆ []          ┆ … ┆ null   ┆ Steak 'n    ┆ 19          ┆ 2019 │\n",
       "│        ┆ Use         ┆ needed for  ┆             ┆   ┆        ┆ Shake       ┆             ┆      │\n",
       "│        ┆             ┆ going t…    ┆             ┆   ┆        ┆             ┆             ┆      │\n",
       "│ 5.0    ┆ Five Stars  ┆ Easy        ┆ []          ┆ … ┆ null   ┆ Amazon      ┆ 2           ┆ 2017 │\n",
       "│        ┆             ┆ process.    ┆             ┆   ┆        ┆             ┆             ┆      │\n",
       "└────────┴─────────────┴─────────────┴─────────────┴───┴────────┴─────────────┴─────────────┴──────┘"
      ]
     },
     "execution_count": 154,
     "metadata": {},
     "output_type": "execute_result"
    }
   ],
   "source": [
    "# Drop invalid ratings (missing or not in [1,2,3,4,5])\n",
    "df = df.filter(pl.col(\"rating\").is_in([1, 2, 3, 4, 5]))\n",
    "\n",
    "# Drop empty review texts\n",
    "df = df.filter(pl.col(\"text\").str.strip_chars().str.len_chars() > 0)\n",
    "\n",
    "# Fill brand from store or details\n",
    "df = df.with_columns([\n",
    "    pl.when(pl.col(\"store\").is_not_null() & (pl.col(\"store\") != \"\"))\n",
    "      .then(pl.col(\"store\"))\n",
    "      .when(pl.col(\"details\").is_not_null())\n",
    "      .then(\n",
    "          pl.col(\"details\")\n",
    "          .str.extract(r\"Brand[:\\s]*([^\\s,;]+)\", 1)  # Extract brand from \"Brand: XYZ\"\n",
    "          .fill_null(\"Unknown\")\n",
    "      )\n",
    "      .otherwise(pl.lit(\"Unknown\"))\n",
    "      .alias(\"brand\")\n",
    "])\n",
    "\n",
    "df = df.with_columns([\n",
    "    pl.col(\"text\").str.count_matches(r\"\\b\\w+\\b\").alias(\"review_length\"),\n",
    "    (pl.col(\"timestamp\").cast(pl.Datetime(\"ms\")).dt.year()).alias(\"year\")\n",
    "])\n",
    "\n",
    "\n",
    "df = df.unique(subset=[\"user_id\", \"text\", \"asin\"])\n",
    "df"
   ]
  },
  {
   "cell_type": "code",
   "execution_count": 155,
   "id": "d8aa1637",
   "metadata": {},
   "outputs": [],
   "source": [
    "# auto_review: DatasetDict = load_dataset(\n",
    "#     \"McAuley-Lab/Amazon-Reviews-2023\",\n",
    "#     \"raw_review_Automotive\",\n",
    "#     trust_remote_code=True,\n",
    "# )\n",
    "\n",
    "# auto_meta: DatasetDict = load_dataset(\n",
    "#     \"McAuley-Lab/Amazon-Reviews-2023\",\n",
    "#     \"raw_meta_Automotive\",\n",
    "#     trust_remote_code=True,\n",
    "#     streaming=True,\n",
    "# )"
   ]
  },
  {
   "cell_type": "code",
   "execution_count": 156,
   "id": "7a68359f",
   "metadata": {},
   "outputs": [],
   "source": [
    "# review_dataset: Dataset = auto_review[\"full\"]\n",
    "# meta_dataset: Dataset = auto_meta[\"full\"]"
   ]
  },
  {
   "cell_type": "code",
   "execution_count": 157,
   "id": "44c24e1b",
   "metadata": {},
   "outputs": [],
   "source": [
    "# # def stream_to_pandas(dataset: Generator, batch_size=100_000, total=1_000_000) -> pd.DataFrame:\n",
    "# #     batches: list[pd.DataFrame] = []\n",
    "# #     it: Generator = iter(dataset)\n",
    "    \n",
    "# #     for _ in range(0, total, batch_size):\n",
    "# #         chunk = list(islice(it, batch_size))\n",
    "# #         if not chunk:\n",
    "# #             break\n",
    "# #         batches.append(pd.DataFrame(chunk))\n",
    "    \n",
    "# #     return pd.concat(batches, ignore_index=True)\n",
    "\n",
    "\n",
    "# def stream_to_pandas(dataset: Generator, batch_size=100_000) -> pd.DataFrame:\n",
    "#     batches: list[pd.DataFrame] = []\n",
    "#     it: Generator = iter(dataset)\n",
    "    \n",
    "#     while True:\n",
    "#         # Extract a batch of data\n",
    "#         chunk = list(islice(it, batch_size))\n",
    "#         if not chunk:  # Break the loop when the iterator is exhausted\n",
    "#             break\n",
    "#         batches.append(pd.DataFrame(chunk))\n",
    "    \n",
    "#     # Concatenate all batches into a single DataFrame\n",
    "#     return pd.concat(batches, ignore_index=True)"
   ]
  },
  {
   "cell_type": "code",
   "execution_count": 158,
   "id": "e463a383",
   "metadata": {},
   "outputs": [],
   "source": [
    "# df_review: pd.DataFrame = stream_to_pandas(review_dataset, batch_size=100_000)\n",
    "# df_meta: pd.DataFrame = stream_to_pandas(meta_dataset, batch_size=100_0000)\n",
    "# # df = pl.DataFrame(list(islice(meta_dataset, 10)))"
   ]
  },
  {
   "cell_type": "code",
   "execution_count": 159,
   "id": "e10b4653",
   "metadata": {},
   "outputs": [],
   "source": [
    "# def extract_brand(row) -> str:\n",
    "#     if row[\"store\"]:\n",
    "#         return row[\"store\"]  \n",
    "#     elif row[\"details\"]:\n",
    "#         for word in row[\"details\"].split():\n",
    "#             if \"Brand\" in word:\n",
    "#                 return word\n",
    "#     return \"Unknown\""
   ]
  },
  {
   "cell_type": "code",
   "execution_count": 160,
   "id": "1774e62a",
   "metadata": {},
   "outputs": [],
   "source": [
    "# merged_df: pd.DataFrame = pd.merge(df_review, df_meta, on=\"parent_asin\", how=\"left\")\n",
    "# merged_df = merged_df[\n",
    "#     merged_df[\"rating\"].notnull() & merged_df[\"rating\"].isin([1, 2, 3, 4, 5])\n",
    "# ]\n",
    "# merged_df = merged_df[merged_df[\"text\"].str.strip().str.len() != 0]\n",
    "# merged_df.loc[:, \"brand\"] = merged_df.apply(extract_brand, axis=1)\n",
    "# merged_df['review_length'] = merged_df['text'].apply(lambda x: len(x.split()))\n",
    "# merged_df['year'] = pd.to_datetime(merged_df['timestamp'], unit='ms').dt.year\n",
    "# merged_df = merged_df.drop_duplicates(subset=[\"user_id\", \"text\", \"asin\"], keep=\"first\")\n",
    "\n",
    "# df = pl.from_pandas(merged_df)\n",
    "# df"
   ]
  },
  {
   "cell_type": "code",
   "execution_count": 161,
   "id": "beb1b0e5",
   "metadata": {},
   "outputs": [],
   "source": [
    "# df.shape"
   ]
  }
 ],
 "metadata": {
  "kernelspec": {
   "display_name": "Python 3",
   "language": "python",
   "name": "python3"
  },
  "language_info": {
   "codemirror_mode": {
    "name": "ipython",
    "version": 3
   },
   "file_extension": ".py",
   "mimetype": "text/x-python",
   "name": "python",
   "nbconvert_exporter": "python",
   "pygments_lexer": "ipython3",
   "version": "3.11.3"
  }
 },
 "nbformat": 4,
 "nbformat_minor": 5
}
