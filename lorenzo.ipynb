{
 "cells": [
  {
   "cell_type": "code",
   "execution_count": null,
   "id": "ecadafaa",
   "metadata": {},
   "outputs": [],
   "source": [
    "from datasets import load_dataset, Dataset, DatasetDict, load_from_disk\n",
    "from bigdata_a3_utils import download_all_amazon_reviews, load_compressed_dataset\n",
    "from pathlib import Path\n",
    "import polars as pl\n",
    "import itertools\n",
    "from itertools import islice"
   ]
  },
  {
   "cell_type": "code",
   "execution_count": null,
   "id": "d8aa1637",
   "metadata": {},
   "outputs": [],
   "source": [
    "auto_review = load_dataset(\n",
    "    \"McAuley-Lab/Amazon-Reviews-2023\",\n",
    "    \"raw_review_Automotive\",\n",
    "    streaming=True,\n",
    "    trust_remote_code=True\n",
    ")"
   ]
  },
  {
   "cell_type": "code",
   "execution_count": null,
   "id": "7a68359f",
   "metadata": {},
   "outputs": [],
   "source": [
    "dataset: Dataset = auto_review[\"full\"]"
   ]
  },
  {
   "cell_type": "code",
   "execution_count": null,
   "id": "44c24e1b",
   "metadata": {},
   "outputs": [],
   "source": [
    "batch = list(islice(dataset, 100))\n",
    "# df = pl.DataFrame(batch)\n",
    "# df"
   ]
  },
  {
   "cell_type": "code",
   "execution_count": null,
   "id": "e463a383",
   "metadata": {},
   "outputs": [],
   "source": [
    "full_batch = list(islice(dataset, None))  # islice(..., None) consumes all"
   ]
  }
 ],
 "metadata": {
  "kernelspec": {
   "display_name": "Python 3",
   "language": "python",
   "name": "python3"
  },
  "language_info": {
   "codemirror_mode": {
    "name": "ipython",
    "version": 3
   },
   "file_extension": ".py",
   "mimetype": "text/x-python",
   "name": "python",
   "nbconvert_exporter": "python",
   "pygments_lexer": "ipython3",
   "version": "3.11.3"
  }
 },
 "nbformat": 4,
 "nbformat_minor": 5
}
