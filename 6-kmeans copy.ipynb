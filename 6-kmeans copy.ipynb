{
 "cells": [
  {
   "cell_type": "code",
   "execution_count": 10,
   "id": "b7901c0f",
   "metadata": {},
   "outputs": [],
   "source": [
    "import polars as pl\n",
    "from sklearn.cluster import KMeans"
   ]
  },
  {
   "cell_type": "code",
   "execution_count": 11,
   "id": "1b6d4922",
   "metadata": {},
   "outputs": [],
   "source": [
    "lf = (\n",
    "    pl.scan_parquet(\"data/processed/amazon-2023.parquet\")\n",
    "      .group_by(\"parent_asin\")\n",
    "      .agg([\n",
    "          # your numeric features\n",
    "          pl.len().alias(\"total_reviews\"),\n",
    "          pl.col(\"rating\").mean().alias(\"mean_rating\"),\n",
    "\n",
    "          # preserve strings\n",
    "          pl.col(\"brand\")\n",
    "            .first()\n",
    "            .fill_null(\"Unknown\")\n",
    "            .str.to_lowercase()\n",
    "            .alias(\"brand_name\"),\n",
    "\n",
    "          pl.col(\"main_category\")\n",
    "            .first()\n",
    "            .fill_null(\"Unknown\")\n",
    "            .str.to_lowercase()\n",
    "            .alias(\"category_name\"),\n",
    "      ])\n",
    "      .with_columns([\n",
    "          # turn those strings into categorical codes\n",
    "          pl.col(\"brand_name\")\n",
    "            .cast(pl.Categorical)\n",
    "            .to_physical()\n",
    "            .alias(\"brand_id\"),\n",
    "\n",
    "          pl.col(\"category_name\")\n",
    "            .cast(pl.Categorical)\n",
    "            .to_physical()\n",
    "            .alias(\"category_id\"),\n",
    "      ])\n",
    "      # optional: drop parent_asin here or after collect\n",
    "      .select([\n",
    "          \"mean_rating\",\n",
    "          \"total_reviews\",\n",
    "          \"brand_id\",\n",
    "          \"brand_name\",\n",
    "          \"category_id\",\n",
    "          \"category_name\",\n",
    "      ])\n",
    ")\n",
    "\n",
    "\n"
   ]
  },
  {
   "cell_type": "code",
   "execution_count": 12,
   "id": "20d8a482",
   "metadata": {},
   "outputs": [],
   "source": [
    "df = lf.collect(engine = \"streaming\")\n",
    "\n",
    "X = df.select([\"mean_rating\",\"total_reviews\",\"brand_id\",\"category_id\"]).to_numpy()\n",
    "kmeans = KMeans(n_clusters=5, random_state=42, n_init=10)\n",
    "labels = kmeans.fit_predict(X)"
   ]
  },
  {
   "cell_type": "code",
   "execution_count": null,
   "id": "737fb219",
   "metadata": {},
   "outputs": [],
   "source": [
    "df = df.with_columns(pl.Series(\"cluster\", labels))"
   ]
  },
  {
   "cell_type": "code",
   "execution_count": 25,
   "id": "c1260058",
   "metadata": {},
   "outputs": [],
   "source": [
    "summary = (\n",
    "    df.group_by(\"cluster\")\n",
    "      .agg([\n",
    "          pl.len().alias(\"cluster_size\"),\n",
    "          pl.col(\"mean_rating\").mean().alias(\"avg_mean_rating\"),\n",
    "          pl.col(\"total_reviews\").mean().alias(\"avg_total_reviews\"),\n",
    "\n",
    "          # numeric‐code summaries\n",
    "          pl.col(\"brand_id\").mean().alias(\"avg_brand_id\"),\n",
    "          pl.col(\"category_id\").mean().alias(\"avg_category_id\"),\n",
    "\n",
    "          # and back to human names\n",
    "        pl.col(\"brand_id\").mode().alias(\"top_brand_id\"),\n",
    "          pl.col(\"brand_name\").mode().alias(\"top_brand_name\"),\n",
    "          pl.col(\"category_name\").mode().alias(\"top_category_name\"),\n",
    "        pl.col(\"category_id\").mode().alias(\"top_category_id\"),\n",
    "      ])\n",
    "      .sort(\"cluster\")\n",
    ")"
   ]
  },
  {
   "cell_type": "code",
   "execution_count": 26,
   "id": "1f91dbb5",
   "metadata": {},
   "outputs": [],
   "source": [
    "additional=summary.drop(summary.columns[1:6])\n",
    "summary=summary.drop(summary.columns[6:])"
   ]
  },
  {
   "cell_type": "code",
   "execution_count": 28,
   "id": "af503b96",
   "metadata": {},
   "outputs": [
    {
     "data": {
      "text/html": [
       "<div><style>\n",
       ".dataframe > thead > tr,\n",
       ".dataframe > tbody > tr {\n",
       "  text-align: right;\n",
       "  white-space: pre-wrap;\n",
       "}\n",
       "</style>\n",
       "<small>shape: (5, 6)</small><table border=\"1\" class=\"dataframe\"><thead><tr><th>cluster</th><th>cluster_size</th><th>avg_mean_rating</th><th>avg_total_reviews</th><th>avg_brand_id</th><th>avg_category_id</th></tr><tr><td>i32</td><td>u32</td><td>f64</td><td>f64</td><td>f64</td><td>f64</td></tr></thead><tbody><tr><td>0</td><td>4900703</td><td>4.098899</td><td>13.111658</td><td>656981.198234</td><td>185631.833606</td></tr><tr><td>1</td><td>1520795</td><td>4.324956</td><td>6.132356</td><td>4.0627e6</td><td>195285.389854</td></tr><tr><td>2</td><td>1820326</td><td>4.279179</td><td>7.70994</td><td>2.7330e6</td><td>193409.32291</td></tr><tr><td>3</td><td>2569403</td><td>4.201071</td><td>10.548661</td><td>1.5657e6</td><td>190014.075359</td></tr><tr><td>4</td><td>24554101</td><td>4.077346</td><td>15.8126</td><td>81107.899496</td><td>182308.524842</td></tr></tbody></table></div>"
      ],
      "text/plain": [
       "shape: (5, 6)\n",
       "┌─────────┬──────────────┬─────────────────┬───────────────────┬───────────────┬─────────────────┐\n",
       "│ cluster ┆ cluster_size ┆ avg_mean_rating ┆ avg_total_reviews ┆ avg_brand_id  ┆ avg_category_id │\n",
       "│ ---     ┆ ---          ┆ ---             ┆ ---               ┆ ---           ┆ ---             │\n",
       "│ i32     ┆ u32          ┆ f64             ┆ f64               ┆ f64           ┆ f64             │\n",
       "╞═════════╪══════════════╪═════════════════╪═══════════════════╪═══════════════╪═════════════════╡\n",
       "│ 0       ┆ 4900703      ┆ 4.098899        ┆ 13.111658         ┆ 656981.198234 ┆ 185631.833606   │\n",
       "│ 1       ┆ 1520795      ┆ 4.324956        ┆ 6.132356          ┆ 4.0627e6      ┆ 195285.389854   │\n",
       "│ 2       ┆ 1820326      ┆ 4.279179        ┆ 7.70994           ┆ 2.7330e6      ┆ 193409.32291    │\n",
       "│ 3       ┆ 2569403      ┆ 4.201071        ┆ 10.548661         ┆ 1.5657e6      ┆ 190014.075359   │\n",
       "│ 4       ┆ 24554101     ┆ 4.077346        ┆ 15.8126           ┆ 81107.899496  ┆ 182308.524842   │\n",
       "└─────────┴──────────────┴─────────────────┴───────────────────┴───────────────┴─────────────────┘"
      ]
     },
     "execution_count": 28,
     "metadata": {},
     "output_type": "execute_result"
    }
   ],
   "source": [
    "summary"
   ]
  },
  {
   "cell_type": "code",
   "execution_count": 27,
   "id": "e189a740",
   "metadata": {},
   "outputs": [
    {
     "data": {
      "text/html": [
       "<div><style>\n",
       ".dataframe > thead > tr,\n",
       ".dataframe > tbody > tr {\n",
       "  text-align: right;\n",
       "  white-space: pre-wrap;\n",
       "}\n",
       "</style>\n",
       "<small>shape: (5, 5)</small><table border=\"1\" class=\"dataframe\"><thead><tr><th>cluster</th><th>top_brand_id</th><th>top_brand_name</th><th>top_category_name</th><th>top_category_id</th></tr><tr><td>i32</td><td>list[u32]</td><td>list[str]</td><td>list[str]</td><td>list[u32]</td></tr></thead><tbody><tr><td>0</td><td>[708484]</td><td>[&quot;abundant earth works&quot;]</td><td>[&quot;books&quot;]</td><td>[200611]</td></tr><tr><td>1</td><td>[3541601]</td><td>[&quot;vipmvpup&quot;]</td><td>[&quot;books&quot;]</td><td>[200611]</td></tr><tr><td>2</td><td>[2163190]</td><td>[&quot;kate hoffmann (author)&nbsp;&nbsp;&nbsp;format: kindle edition&quot;]</td><td>[&quot;books&quot;]</td><td>[200611]</td></tr><tr><td>3</td><td>[1128601]</td><td>[&quot;pennzoni&quot;]</td><td>[&quot;books&quot;]</td><td>[200611]</td></tr><tr><td>4</td><td>[0]</td><td>[&quot;unknown&quot;]</td><td>[&quot;amazon fashion&quot;]</td><td>[200620]</td></tr></tbody></table></div>"
      ],
      "text/plain": [
       "shape: (5, 5)\n",
       "┌─────────┬──────────────┬─────────────────────────────────┬────────────────────┬─────────────────┐\n",
       "│ cluster ┆ top_brand_id ┆ top_brand_name                  ┆ top_category_name  ┆ top_category_id │\n",
       "│ ---     ┆ ---          ┆ ---                             ┆ ---                ┆ ---             │\n",
       "│ i32     ┆ list[u32]    ┆ list[str]                       ┆ list[str]          ┆ list[u32]       │\n",
       "╞═════════╪══════════════╪═════════════════════════════════╪════════════════════╪═════════════════╡\n",
       "│ 0       ┆ [708484]     ┆ [\"abundant earth works\"]        ┆ [\"books\"]          ┆ [200611]        │\n",
       "│ 1       ┆ [3541601]    ┆ [\"vipmvpup\"]                    ┆ [\"books\"]          ┆ [200611]        │\n",
       "│ 2       ┆ [2163190]    ┆ [\"kate hoffmann (author)   for… ┆ [\"books\"]          ┆ [200611]        │\n",
       "│ 3       ┆ [1128601]    ┆ [\"pennzoni\"]                    ┆ [\"books\"]          ┆ [200611]        │\n",
       "│ 4       ┆ [0]          ┆ [\"unknown\"]                     ┆ [\"amazon fashion\"] ┆ [200620]        │\n",
       "└─────────┴──────────────┴─────────────────────────────────┴────────────────────┴─────────────────┘"
      ]
     },
     "execution_count": 27,
     "metadata": {},
     "output_type": "execute_result"
    }
   ],
   "source": [
    "additional"
   ]
  }
 ],
 "metadata": {
  "kernelspec": {
   "display_name": "venv",
   "language": "python",
   "name": "python3"
  },
  "language_info": {
   "codemirror_mode": {
    "name": "ipython",
    "version": 3
   },
   "file_extension": ".py",
   "mimetype": "text/x-python",
   "name": "python",
   "nbconvert_exporter": "python",
   "pygments_lexer": "ipython3",
   "version": "3.12.3"
  }
 },
 "nbformat": 4,
 "nbformat_minor": 5
}
