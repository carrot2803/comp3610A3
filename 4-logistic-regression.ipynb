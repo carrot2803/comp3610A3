{
 "cells": [
  {
   "cell_type": "code",
   "execution_count": null,
   "id": "87b5f523",
   "metadata": {},
   "outputs": [],
   "source": [
    "%cd ~/Documents/comp3610A3/\n",
    "import polars as pl\n",
    "from sklearn.linear_model import LogisticRegression\n",
    "from sklearn.model_selection import train_test_split\n",
    "from sklearn.feature_extraction.text import TfidfVectorizer\n",
    "from scipy.sparse._matrix import spmatrix\n",
    "from amazon.models import *\n",
    "import polars as pl\n",
    "import numpy as np\n",
    "import joblib\n",
    "from plotly.graph_objs._figure import Figure"
   ]
  },
  {
   "cell_type": "code",
   "execution_count": null,
   "id": "76c7422f",
   "metadata": {},
   "outputs": [],
   "source": [
    "query: pl.Expr = (pl.col(\"rating\") > 3).cast(pl.Int8).alias(\"rating\")\n",
    "\n",
    "lf: pl.LazyFrame = pl.scan_parquet(\"data/processed/amazon-2023.parquet\")\n",
    "lf = lf.select([\"rating\", \"text\"])\n",
    "df: pl.DataFrame = lf.with_columns(query).collect()"
   ]
  },
  {
   "cell_type": "code",
   "execution_count": null,
   "id": "a88cbbda",
   "metadata": {},
   "outputs": [],
   "source": [
    "X: pl.Series = df[\"text\"]\n",
    "y: pl.Series = df[\"rating\"]\n",
    "\n",
    "X_train, X_test, y_train, y_test = train_test_split(\n",
    "    X, y, test_size=0.2, random_state=42, shuffle=True\n",
    ")"
   ]
  },
  {
   "cell_type": "code",
   "execution_count": null,
   "id": "1b7f7a8b",
   "metadata": {},
   "outputs": [],
   "source": [
    "vectorizer = TfidfVectorizer(\n",
    "    lowercase=True,\n",
    "    token_pattern=r'\\b\\w+\\b', \n",
    "    min_df=5,\n",
    "    max_df=0.8,\n",
    "    stop_words=\"english\"\n",
    ")\n",
    "\n",
    "X_train: spmatrix = vectorizer.fit_transform(X_train)\n",
    "X_test: spmatrix = vectorizer.transform(X_test)\n",
    "\n",
    "model = LogisticRegression(max_iter=1_000) # iter added to stop warning\n",
    "model.fit(X_train, y_train)"
   ]
  },
  {
   "cell_type": "code",
   "execution_count": null,
   "id": "132efe5c",
   "metadata": {},
   "outputs": [],
   "source": [
    "joblib.dump(model, \"data/models/logreg_tfidf.pkl\")\n",
    "y_pred: np.ndarray = model.predict(X_test)\n",
    "metrics: dict = get_metrics(y_test, y_pred, \"Logistic Regression\")\n",
    "\n",
    "result = pl.DataFrame([metrics])\n",
    "result"
   ]
  },
  {
   "cell_type": "code",
   "execution_count": null,
   "id": "01d3d72f",
   "metadata": {},
   "outputs": [],
   "source": [
    "fig: Figure = plot_confusion_matrix(result)\n",
    "fig.show()"
   ]
  }
 ],
 "metadata": {
  "kernelspec": {
   "display_name": "Python 3",
   "language": "python",
   "name": "python3"
  },
  "language_info": {
   "codemirror_mode": {
    "name": "ipython",
    "version": 3
   },
   "file_extension": ".py",
   "mimetype": "text/x-python",
   "name": "python",
   "nbconvert_exporter": "python",
   "pygments_lexer": "ipython3",
   "version": "3.12.2"
  }
 },
 "nbformat": 4,
 "nbformat_minor": 5
}
