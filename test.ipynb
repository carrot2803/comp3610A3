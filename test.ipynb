{
 "cells": [
  {
   "cell_type": "code",
   "execution_count": null,
   "id": "ecadafaa",
   "metadata": {},
   "outputs": [],
   "source": [
    "from datasets import load_dataset, Dataset,DatasetDict, load_from_disk\n",
    "from bigdata_a3_utils import download_all_amazon_reviews, load_compressed_dataset\n",
    "from pathlib import Path\n",
    "import polars as pl\n",
    "import pandas as pd\n",
    "import itertools\n",
    "from itertools import islice"
   ]
  },
  {
   "cell_type": "code",
   "execution_count": null,
   "id": "d8aa1637",
   "metadata": {},
   "outputs": [],
   "source": [
    "auto_review = load_dataset(\n",
    "    \"McAuley-Lab/Amazon-Reviews-2023\",\n",
    "    \"raw_review_Automotive\",\n",
    "    streaming=True,\n",
    "    trust_remote_code=True\n",
    ")"
   ]
  },
  {
   "cell_type": "code",
   "execution_count": null,
   "id": "7a68359f",
   "metadata": {},
   "outputs": [],
   "source": [
    "dataset: Dataset = auto_review[\"full\"]"
   ]
  },
  {
   "cell_type": "code",
   "execution_count": null,
   "id": "44c24e1b",
   "metadata": {},
   "outputs": [],
   "source": [
    "batch = list(islice(dataset, 100))\n",
    "# df = pl.DataFrame(batch)\n",
    "# df"
   ]
  },
  {
   "cell_type": "code",
   "execution_count": null,
   "id": "e463a383",
   "metadata": {},
   "outputs": [],
   "source": [
    "full_batch = list(islice(dataset, None))  # islice(..., None) consumes all"
   ]
  },
  {
   "cell_type": "code",
   "execution_count": null,
   "id": "abe7993d",
   "metadata": {},
   "outputs": [],
   "source": [
    "# buffer_size = 100_000\n",
    "# stream = iter(dataset)\n",
    "\n",
    "# while True:\n",
    "#     batch = list(islice(stream, buffer_size))\n",
    "#     if not batch:\n",
    "#         break\n",
    "#     print(batch[0])  # example"
   ]
  },
  {
   "cell_type": "code",
   "execution_count": null,
   "id": "ac128555",
   "metadata": {},
   "outputs": [],
   "source": [
    "# save_path = Path(\"data/raw/raw_review_Automotive\")\n",
    "# # auto_review.save_to_disk(str(save_path))"
   ]
  },
  {
   "cell_type": "code",
   "execution_count": null,
   "id": "fe7dcd80",
   "metadata": {},
   "outputs": [],
   "source": [
    "# loaded_review: DatasetDict = load_from_disk(str(save_path))"
   ]
  },
  {
   "cell_type": "code",
   "execution_count": null,
   "id": "8c786f57",
   "metadata": {},
   "outputs": [],
   "source": [
    "# subset: Dataset = loaded_review[\"full\"]\n",
    "# subset"
   ]
  },
  {
   "cell_type": "code",
   "execution_count": null,
   "id": "645f1eac",
   "metadata": {},
   "outputs": [],
   "source": [
    "# df = pl.DataFrame(subset[0:9_955_450])\n",
    "# df = pl.DataFrame(subset[0:19_955_450])"
   ]
  },
  {
   "cell_type": "code",
   "execution_count": null,
   "id": "e58bea37",
   "metadata": {},
   "outputs": [],
   "source": [
    "# df"
   ]
  }
 ],
 "metadata": {
  "kernelspec": {
   "display_name": "Python 3",
   "language": "python",
   "name": "python3"
  },
  "language_info": {
   "codemirror_mode": {
    "name": "ipython",
    "version": 3
   },
   "file_extension": ".py",
   "mimetype": "text/x-python",
   "name": "python",
   "nbconvert_exporter": "python",
   "pygments_lexer": "ipython3",
   "version": "3.11.3"
  }
 },
 "nbformat": 4,
 "nbformat_minor": 5
}
