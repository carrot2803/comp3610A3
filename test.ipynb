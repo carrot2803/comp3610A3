{
 "cells": [
  {
   "cell_type": "code",
   "execution_count": 13,
   "id": "ecadafaa",
   "metadata": {},
   "outputs": [],
   "source": [
    "from datasets import load_dataset, Dataset, DatasetDict, load_from_disk\n",
    "from bigdata_a3_utils import download_all_amazon_reviews, load_compressed_dataset\n",
    "from pathlib import Path\n",
    "import polars as pl\n",
    "import pandas as pd\n",
    "from itertools import islice\n",
    "from typing import Generator"
   ]
  },
  {
   "cell_type": "code",
   "execution_count": 99,
   "id": "d8aa1637",
   "metadata": {},
   "outputs": [],
   "source": [
    "auto_review: DatasetDict = load_dataset(\n",
    "    \"McAuley-Lab/Amazon-Reviews-2023\",\n",
    "    \"raw_review_Automotive\",\n",
    "    trust_remote_code=True,\n",
    "    streaming=True,\n",
    ")\n",
    "\n",
    "auto_meta: DatasetDict = load_dataset(\n",
    "    \"McAuley-Lab/Amazon-Reviews-2023\",\n",
    "    \"raw_meta_Automotive\",\n",
    "    trust_remote_code=True,\n",
    "    streaming=True,\n",
    ")"
   ]
  },
  {
   "cell_type": "code",
   "execution_count": 100,
   "id": "7a68359f",
   "metadata": {},
   "outputs": [],
   "source": [
    "review_dataset: Dataset = auto_review[\"full\"]\n",
    "meta_dataset: Dataset = auto_meta[\"full\"]"
   ]
  },
  {
   "cell_type": "code",
   "execution_count": 101,
   "id": "44c24e1b",
   "metadata": {},
   "outputs": [],
   "source": [
    "def stream_to_polars(dataset: Dataset, batch_size=100_000, total=1_000_000) -> pl.DataFrame:\n",
    "    batches: list[pl.DataFrame] = []\n",
    "    it: Generator = iter(dataset)\n",
    "    for _ in range(0, total, batch_size):\n",
    "        chunk = list(islice(it, batch_size))\n",
    "        if not chunk:\n",
    "            break\n",
    "        batches.append(pl.DataFrame(chunk, infer_schema_length=1000))\n",
    "    return pl.concat(batches, how=\"vertical\")"
   ]
  },
  {
   "cell_type": "code",
   "execution_count": 102,
   "id": "e463a383",
   "metadata": {},
   "outputs": [],
   "source": [
    "df_review: pl.DataFrame = stream_to_polars(review_dataset, batch_size=1_000, total=1_000)\n",
    "df_meta: pl.DataFrame = stream_to_polars(meta_dataset, batch_size=1_000, total=1_000)\n",
    "# df = pl.DataFrame(list(islice(meta_dataset, 10)))"
   ]
  },
  {
   "cell_type": "code",
   "execution_count": 103,
   "id": "1774e62a",
   "metadata": {},
   "outputs": [
    {
     "data": {
      "text/html": [
       "<div><style>\n",
       ".dataframe > thead > tr,\n",
       ".dataframe > tbody > tr {\n",
       "  text-align: right;\n",
       "  white-space: pre-wrap;\n",
       "}\n",
       "</style>\n",
       "<small>shape: (1_000, 25)</small><table border=\"1\" class=\"dataframe\"><thead><tr><th>rating</th><th>title</th><th>text</th><th>images</th><th>asin</th><th>parent_asin</th><th>user_id</th><th>timestamp</th><th>helpful_vote</th><th>verified_purchase</th><th>main_category</th><th>title_right</th><th>average_rating</th><th>rating_number</th><th>features</th><th>description</th><th>price</th><th>images_right</th><th>videos</th><th>store</th><th>categories</th><th>details</th><th>bought_together</th><th>subtitle</th><th>author</th></tr><tr><td>f64</td><td>str</td><td>str</td><td>list[struct[4]]</td><td>str</td><td>str</td><td>str</td><td>i64</td><td>i64</td><td>bool</td><td>str</td><td>str</td><td>f64</td><td>i64</td><td>list[str]</td><td>list[str]</td><td>str</td><td>struct[4]</td><td>struct[3]</td><td>str</td><td>list[str]</td><td>str</td><td>null</td><td>str</td><td>null</td></tr></thead><tbody><tr><td>5.0</td><td>&quot;It fit our 2012 Chevy Colorado…</td><td>&quot;Item came as described! It fit…</td><td>[]</td><td>&quot;B01LZA8SGZ&quot;</td><td>&quot;B0BV88374L&quot;</td><td>&quot;AGXVBIUFLFGMVLATYXHJYL4A5Q7Q&quot;</td><td>1513092936205</td><td>0</td><td>true</td><td>null</td><td>null</td><td>null</td><td>null</td><td>null</td><td>null</td><td>null</td><td>null</td><td>null</td><td>null</td><td>null</td><td>null</td><td>null</td><td>null</td><td>null</td></tr><tr><td>5.0</td><td>&quot;Easy to put on!!&quot;</td><td>&quot;Ease of application process. C…</td><td>[]</td><td>&quot;B0B2WGS5ND&quot;</td><td>&quot;B0B2WGS5ND&quot;</td><td>&quot;AFE337D2J37YRU5U6MVTVKNDKWDA&quot;</td><td>1659124303053</td><td>0</td><td>true</td><td>null</td><td>null</td><td>null</td><td>null</td><td>null</td><td>null</td><td>null</td><td>null</td><td>null</td><td>null</td><td>null</td><td>null</td><td>null</td><td>null</td><td>null</td></tr><tr><td>5.0</td><td>&quot;Perfect&quot;</td><td>&quot;Nice quality, framed in silver…</td><td>[]</td><td>&quot;B00A0GV20Q&quot;</td><td>&quot;B00A0GV20Q&quot;</td><td>&quot;AEVWAM3YWN5URJVJIZZ6XPD2MKIA&quot;</td><td>1388666735000</td><td>0</td><td>true</td><td>null</td><td>null</td><td>null</td><td>null</td><td>null</td><td>null</td><td>null</td><td>null</td><td>null</td><td>null</td><td>null</td><td>null</td><td>null</td><td>null</td><td>null</td></tr><tr><td>2.0</td><td>&quot;Not waterproof&quot;</td><td>&quot;Description said it is waterpr…</td><td>[]</td><td>&quot;B08C27WWVG&quot;</td><td>&quot;B08C27WWVG&quot;</td><td>&quot;AHITBJSS7KYUBVZPX7M2WJCOIVKQ&quot;</td><td>1651801619265</td><td>0</td><td>true</td><td>null</td><td>null</td><td>null</td><td>null</td><td>null</td><td>null</td><td>null</td><td>null</td><td>null</td><td>null</td><td>null</td><td>null</td><td>null</td><td>null</td><td>null</td></tr><tr><td>5.0</td><td>&quot;Very nice&quot;</td><td>&quot;Looks great on my son’s 370Z&quot;</td><td>[]</td><td>&quot;B0719J5ZNY&quot;</td><td>&quot;B0719J5ZNY&quot;</td><td>&quot;AHITBJSS7KYUBVZPX7M2WJCOIVKQ&quot;</td><td>1574097084236</td><td>0</td><td>true</td><td>null</td><td>null</td><td>null</td><td>null</td><td>null</td><td>null</td><td>null</td><td>null</td><td>null</td><td>null</td><td>null</td><td>null</td><td>null</td><td>null</td><td>null</td></tr><tr><td>&hellip;</td><td>&hellip;</td><td>&hellip;</td><td>&hellip;</td><td>&hellip;</td><td>&hellip;</td><td>&hellip;</td><td>&hellip;</td><td>&hellip;</td><td>&hellip;</td><td>&hellip;</td><td>&hellip;</td><td>&hellip;</td><td>&hellip;</td><td>&hellip;</td><td>&hellip;</td><td>&hellip;</td><td>&hellip;</td><td>&hellip;</td><td>&hellip;</td><td>&hellip;</td><td>&hellip;</td><td>&hellip;</td><td>&hellip;</td><td>&hellip;</td></tr><tr><td>5.0</td><td>&quot;Easy install&quot;</td><td>&quot;Wasn’t sure if I’d like it but…</td><td>[]</td><td>&quot;B07BSDST3X&quot;</td><td>&quot;B07BSDST3X&quot;</td><td>&quot;AEZHVVKEZAY6MAP5WA62MAYTMHWQ&quot;</td><td>1565781661279</td><td>0</td><td>true</td><td>null</td><td>null</td><td>null</td><td>null</td><td>null</td><td>null</td><td>null</td><td>null</td><td>null</td><td>null</td><td>null</td><td>null</td><td>null</td><td>null</td><td>null</td></tr><tr><td>5.0</td><td>&quot;Quality&quot;</td><td>&quot;Soft, quality material, feels …</td><td>[]</td><td>&quot;B01H2GNFRO&quot;</td><td>&quot;B01H2GNFYM&quot;</td><td>&quot;AEZHVVKEZAY6MAP5WA62MAYTMHWQ&quot;</td><td>1563743892185</td><td>0</td><td>true</td><td>null</td><td>null</td><td>null</td><td>null</td><td>null</td><td>null</td><td>null</td><td>null</td><td>null</td><td>null</td><td>null</td><td>null</td><td>null</td><td>null</td><td>null</td></tr><tr><td>5.0</td><td>&quot;Quality product&quot;</td><td>&quot;Love this, it’s by far my favo…</td><td>[]</td><td>&quot;B0772Y2KNJ&quot;</td><td>&quot;B0772Y2KNJ&quot;</td><td>&quot;AEZHVVKEZAY6MAP5WA62MAYTMHWQ&quot;</td><td>1554246138438</td><td>1</td><td>true</td><td>null</td><td>null</td><td>null</td><td>null</td><td>null</td><td>null</td><td>null</td><td>null</td><td>null</td><td>null</td><td>null</td><td>null</td><td>null</td><td>null</td><td>null</td></tr><tr><td>4.0</td><td>&quot;Excellent detail&quot;</td><td>&quot;Quality product, excellent det…</td><td>[]</td><td>&quot;B0772K7LXW&quot;</td><td>&quot;B0772K7LXW&quot;</td><td>&quot;AEZHVVKEZAY6MAP5WA62MAYTMHWQ&quot;</td><td>1552919699467</td><td>0</td><td>true</td><td>null</td><td>null</td><td>null</td><td>null</td><td>null</td><td>null</td><td>null</td><td>null</td><td>null</td><td>null</td><td>null</td><td>null</td><td>null</td><td>null</td><td>null</td></tr><tr><td>5.0</td><td>&quot;Works on my 2015 Jeep Wrangler&quot;</td><td>&quot;Love it, works with my existin…</td><td>[]</td><td>&quot;B01KYM5X6E&quot;</td><td>&quot;B01KYM5X6E&quot;</td><td>&quot;AEZHVVKEZAY6MAP5WA62MAYTMHWQ&quot;</td><td>1551015386494</td><td>0</td><td>true</td><td>null</td><td>null</td><td>null</td><td>null</td><td>null</td><td>null</td><td>null</td><td>null</td><td>null</td><td>null</td><td>null</td><td>null</td><td>null</td><td>null</td><td>null</td></tr></tbody></table></div>"
      ],
      "text/plain": [
       "shape: (1_000, 25)\n",
       "┌────────┬─────────────┬─────────────┬─────────────┬───┬─────────┬─────────────┬──────────┬────────┐\n",
       "│ rating ┆ title       ┆ text        ┆ images      ┆ … ┆ details ┆ bought_toge ┆ subtitle ┆ author │\n",
       "│ ---    ┆ ---         ┆ ---         ┆ ---         ┆   ┆ ---     ┆ ther        ┆ ---      ┆ ---    │\n",
       "│ f64    ┆ str         ┆ str         ┆ list[struct ┆   ┆ str     ┆ ---         ┆ str      ┆ null   │\n",
       "│        ┆             ┆             ┆ [4]]        ┆   ┆         ┆ null        ┆          ┆        │\n",
       "╞════════╪═════════════╪═════════════╪═════════════╪═══╪═════════╪═════════════╪══════════╪════════╡\n",
       "│ 5.0    ┆ It fit our  ┆ Item came   ┆ []          ┆ … ┆ null    ┆ null        ┆ null     ┆ null   │\n",
       "│        ┆ 2012 Chevy  ┆ as          ┆             ┆   ┆         ┆             ┆          ┆        │\n",
       "│        ┆ Colorado…   ┆ described!  ┆             ┆   ┆         ┆             ┆          ┆        │\n",
       "│        ┆             ┆ It fit…     ┆             ┆   ┆         ┆             ┆          ┆        │\n",
       "│ 5.0    ┆ Easy to put ┆ Ease of     ┆ []          ┆ … ┆ null    ┆ null        ┆ null     ┆ null   │\n",
       "│        ┆ on!!        ┆ application ┆             ┆   ┆         ┆             ┆          ┆        │\n",
       "│        ┆             ┆ process. C… ┆             ┆   ┆         ┆             ┆          ┆        │\n",
       "│ 5.0    ┆ Perfect     ┆ Nice        ┆ []          ┆ … ┆ null    ┆ null        ┆ null     ┆ null   │\n",
       "│        ┆             ┆ quality,    ┆             ┆   ┆         ┆             ┆          ┆        │\n",
       "│        ┆             ┆ framed in   ┆             ┆   ┆         ┆             ┆          ┆        │\n",
       "│        ┆             ┆ silver…     ┆             ┆   ┆         ┆             ┆          ┆        │\n",
       "│ 2.0    ┆ Not         ┆ Description ┆ []          ┆ … ┆ null    ┆ null        ┆ null     ┆ null   │\n",
       "│        ┆ waterproof  ┆ said it is  ┆             ┆   ┆         ┆             ┆          ┆        │\n",
       "│        ┆             ┆ waterpr…    ┆             ┆   ┆         ┆             ┆          ┆        │\n",
       "│ 5.0    ┆ Very nice   ┆ Looks great ┆ []          ┆ … ┆ null    ┆ null        ┆ null     ┆ null   │\n",
       "│        ┆             ┆ on my son’s ┆             ┆   ┆         ┆             ┆          ┆        │\n",
       "│        ┆             ┆ 370Z        ┆             ┆   ┆         ┆             ┆          ┆        │\n",
       "│ …      ┆ …           ┆ …           ┆ …           ┆ … ┆ …       ┆ …           ┆ …        ┆ …      │\n",
       "│ 5.0    ┆ Easy        ┆ Wasn’t sure ┆ []          ┆ … ┆ null    ┆ null        ┆ null     ┆ null   │\n",
       "│        ┆ install     ┆ if I’d like ┆             ┆   ┆         ┆             ┆          ┆        │\n",
       "│        ┆             ┆ it but…     ┆             ┆   ┆         ┆             ┆          ┆        │\n",
       "│ 5.0    ┆ Quality     ┆ Soft,       ┆ []          ┆ … ┆ null    ┆ null        ┆ null     ┆ null   │\n",
       "│        ┆             ┆ quality     ┆             ┆   ┆         ┆             ┆          ┆        │\n",
       "│        ┆             ┆ material,   ┆             ┆   ┆         ┆             ┆          ┆        │\n",
       "│        ┆             ┆ feels …     ┆             ┆   ┆         ┆             ┆          ┆        │\n",
       "│ 5.0    ┆ Quality     ┆ Love this,  ┆ []          ┆ … ┆ null    ┆ null        ┆ null     ┆ null   │\n",
       "│        ┆ product     ┆ it’s by far ┆             ┆   ┆         ┆             ┆          ┆        │\n",
       "│        ┆             ┆ my favo…    ┆             ┆   ┆         ┆             ┆          ┆        │\n",
       "│ 4.0    ┆ Excellent   ┆ Quality     ┆ []          ┆ … ┆ null    ┆ null        ┆ null     ┆ null   │\n",
       "│        ┆ detail      ┆ product,    ┆             ┆   ┆         ┆             ┆          ┆        │\n",
       "│        ┆             ┆ excellent   ┆             ┆   ┆         ┆             ┆          ┆        │\n",
       "│        ┆             ┆ det…        ┆             ┆   ┆         ┆             ┆          ┆        │\n",
       "│ 5.0    ┆ Works on my ┆ Love it,    ┆ []          ┆ … ┆ null    ┆ null        ┆ null     ┆ null   │\n",
       "│        ┆ 2015 Jeep   ┆ works with  ┆             ┆   ┆         ┆             ┆          ┆        │\n",
       "│        ┆ Wrangler    ┆ my existin… ┆             ┆   ┆         ┆             ┆          ┆        │\n",
       "└────────┴─────────────┴─────────────┴─────────────┴───┴─────────┴─────────────┴──────────┴────────┘"
      ]
     },
     "execution_count": 103,
     "metadata": {},
     "output_type": "execute_result"
    }
   ],
   "source": [
    "# df_review.head()\n",
    "# df_meta.head()\n",
    "merged_df: pl.DataFrame = df_review.join(df_meta, on=\"parent_asin\", how=\"left\")\n",
    "merged_df"
   ]
  },
  {
   "cell_type": "code",
   "execution_count": null,
   "id": "abe7993d",
   "metadata": {},
   "outputs": [],
   "source": [
    "# buffer_size = 100_000\n",
    "# stream = iter(dataset)\n",
    "\n",
    "# while True:\n",
    "#     batch = list(islice(stream, buffer_size))\n",
    "#     if not batch:\n",
    "#         break\n",
    "#     print(batch[0])  # example"
   ]
  },
  {
   "cell_type": "code",
   "execution_count": null,
   "id": "ac128555",
   "metadata": {},
   "outputs": [],
   "source": [
    "# save_path = Path(\"data/raw/raw_review_Automotive\")\n",
    "# # auto_review.save_to_disk(str(save_path))"
   ]
  },
  {
   "cell_type": "code",
   "execution_count": null,
   "id": "fe7dcd80",
   "metadata": {},
   "outputs": [],
   "source": [
    "# loaded_review: DatasetDict = load_from_disk(str(save_path))"
   ]
  },
  {
   "cell_type": "code",
   "execution_count": null,
   "id": "8c786f57",
   "metadata": {},
   "outputs": [],
   "source": [
    "# subset: Dataset = loaded_review[\"full\"]\n",
    "# subset"
   ]
  },
  {
   "cell_type": "code",
   "execution_count": null,
   "id": "645f1eac",
   "metadata": {},
   "outputs": [],
   "source": [
    "# df = pl.DataFrame(subset[0:9_955_450])\n",
    "# df = pl.DataFrame(subset[0:19_955_450])"
   ]
  },
  {
   "cell_type": "code",
   "execution_count": null,
   "id": "e58bea37",
   "metadata": {},
   "outputs": [],
   "source": [
    "# df"
   ]
  }
 ],
 "metadata": {
  "kernelspec": {
   "display_name": "Python 3",
   "language": "python",
   "name": "python3"
  },
  "language_info": {
   "codemirror_mode": {
    "name": "ipython",
    "version": 3
   },
   "file_extension": ".py",
   "mimetype": "text/x-python",
   "name": "python",
   "nbconvert_exporter": "python",
   "pygments_lexer": "ipython3",
   "version": "3.11.3"
  }
 },
 "nbformat": 4,
 "nbformat_minor": 5
}
