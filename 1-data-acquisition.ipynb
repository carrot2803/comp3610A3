{
 "cells": [
  {
   "cell_type": "code",
   "execution_count": null,
   "id": "747c8d5d",
   "metadata": {},
   "outputs": [],
   "source": [
    "from amazon.utils import create_directories, download_data, get_cache_directory\n",
    "from amazon.constants import *"
   ]
  },
  {
   "cell_type": "code",
   "execution_count": null,
   "id": "93a4ac38",
   "metadata": {},
   "outputs": [],
   "source": [
    "get_cache_directory()\n",
    "create_directories(DATA_PATHS)"
   ]
  },
  {
   "cell_type": "markdown",
   "id": "8c2ae337",
   "metadata": {},
   "source": [
    "`download_data()` checks if the corresponding Parquet file already exists; if not, it downloads the data, saves it as a Parquet file, clears the Hugging Face cache, and runs garbage collection freeing up ram.\n",
    "\n",
    "The loop calls `download_data()` for each category in `ALL_CATEGORIES` for both review and metadata types. Utility functions are included under the hood to optimize performance."
   ]
  },
  {
   "cell_type": "code",
   "execution_count": null,
   "id": "40b5b5dc",
   "metadata": {},
   "outputs": [],
   "source": [
    "for category in ALL_CATEGORIES:\n",
    "    print(f\"Downloading {category}...\\n\")\n",
    "    download_data(category, REVIEW)\n",
    "    download_data(category, META)"
   ]
  }
 ],
 "metadata": {
  "kernelspec": {
   "display_name": "Python 3",
   "language": "python",
   "name": "python3"
  },
  "language_info": {
   "codemirror_mode": {
    "name": "ipython",
    "version": 3
   },
   "file_extension": ".py",
   "mimetype": "text/x-python",
   "name": "python",
   "nbconvert_exporter": "python",
   "pygments_lexer": "ipython3",
   "version": "3.11.3"
  }
 },
 "nbformat": 4,
 "nbformat_minor": 5
}
