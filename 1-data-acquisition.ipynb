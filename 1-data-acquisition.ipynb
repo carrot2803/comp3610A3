{
 "cells": [
  {
   "cell_type": "code",
   "execution_count": 1,
   "id": "747c8d5d",
   "metadata": {},
   "outputs": [],
   "source": [
    "import os\n",
    "os.environ[\"HF_DATASETS_CACHE\"] = \"D:/.cache\"\n",
    "from bigdata_a3_utils import get_cache_directory\n",
    "from amazon.utils import create_directories, download_data\n",
    "from amazon.constants import *"
   ]
  },
  {
   "cell_type": "code",
   "execution_count": 2,
   "id": "93a4ac38",
   "metadata": {},
   "outputs": [
    {
     "name": "stdout",
     "output_type": "stream",
     "text": [
      "[INFO] Current cache directory: D:\\.cache\n",
      "[NOTE] To use a custom cache directory, set HF_DATASETS_CACHE before importing datasets.\n",
      "Example:\n",
      "    import os\n",
      "    os.environ['HF_DATASETS_CACHE'] = 'C:\\\\your\\\\custom\\\\path'\n",
      "    from datasets import load_dataset\n",
      "\n"
     ]
    }
   ],
   "source": [
    "cache_dir = get_cache_directory(verbose=True)\n",
    "create_directories(DATA_PATHS)"
   ]
  },
  {
   "cell_type": "code",
   "execution_count": 3,
   "id": "40b5b5dc",
   "metadata": {},
   "outputs": [
    {
     "name": "stdout",
     "output_type": "stream",
     "text": [
      "Downloading All_Beauty...\n",
      "\n",
      "File already exists: data/raw/review/All_Beauty.parquet. Skipping.\n",
      "File already exists: data/raw/meta/All_Beauty.parquet. Skipping.\n",
      "Downloading Amazon_Fashion...\n",
      "\n",
      "File already exists: data/raw/review/Amazon_Fashion.parquet. Skipping.\n",
      "File already exists: data/raw/meta/Amazon_Fashion.parquet. Skipping.\n",
      "Downloading Appliances...\n",
      "\n",
      "File already exists: data/raw/review/Appliances.parquet. Skipping.\n",
      "File already exists: data/raw/meta/Appliances.parquet. Skipping.\n",
      "Downloading Arts_Crafts_and_Sewing...\n",
      "\n",
      "File already exists: data/raw/review/Arts_Crafts_and_Sewing.parquet. Skipping.\n",
      "File already exists: data/raw/meta/Arts_Crafts_and_Sewing.parquet. Skipping.\n",
      "Downloading Automotive...\n",
      "\n",
      "File already exists: data/raw/review/Automotive.parquet. Skipping.\n",
      "File already exists: data/raw/meta/Automotive.parquet. Skipping.\n",
      "Downloading Baby_Products...\n",
      "\n",
      "File already exists: data/raw/review/Baby_Products.parquet. Skipping.\n",
      "File already exists: data/raw/meta/Baby_Products.parquet. Skipping.\n",
      "Downloading Beauty_and_Personal_Care...\n",
      "\n",
      "File already exists: data/raw/review/Beauty_and_Personal_Care.parquet. Skipping.\n",
      "File already exists: data/raw/meta/Beauty_and_Personal_Care.parquet. Skipping.\n",
      "Downloading Books...\n",
      "\n",
      "File already exists: data/raw/review/Books.parquet. Skipping.\n",
      "File already exists: data/raw/meta/Books.parquet. Skipping.\n",
      "Downloading CDs_and_Vinyl...\n",
      "\n",
      "File already exists: data/raw/review/CDs_and_Vinyl.parquet. Skipping.\n",
      "File already exists: data/raw/meta/CDs_and_Vinyl.parquet. Skipping.\n",
      "Downloading Cell_Phones_and_Accessories...\n",
      "\n",
      "File already exists: data/raw/review/Cell_Phones_and_Accessories.parquet. Skipping.\n",
      "File already exists: data/raw/meta/Cell_Phones_and_Accessories.parquet. Skipping.\n",
      "Downloading Clothing_Shoes_and_Jewelry...\n",
      "\n",
      "File already exists: data/raw/review/Clothing_Shoes_and_Jewelry.parquet. Skipping.\n",
      "File already exists: data/raw/meta/Clothing_Shoes_and_Jewelry.parquet. Skipping.\n",
      "Downloading Digital_Music...\n",
      "\n",
      "File already exists: data/raw/review/Digital_Music.parquet. Skipping.\n",
      "File already exists: data/raw/meta/Digital_Music.parquet. Skipping.\n",
      "Downloading Electronics...\n",
      "\n",
      "File already exists: data/raw/review/Electronics.parquet. Skipping.\n",
      "File already exists: data/raw/meta/Electronics.parquet. Skipping.\n",
      "Downloading Gift_Cards...\n",
      "\n",
      "File already exists: data/raw/review/Gift_Cards.parquet. Skipping.\n",
      "File already exists: data/raw/meta/Gift_Cards.parquet. Skipping.\n",
      "Downloading Grocery_and_Gourmet_Food...\n",
      "\n",
      "File already exists: data/raw/review/Grocery_and_Gourmet_Food.parquet. Skipping.\n",
      "File already exists: data/raw/meta/Grocery_and_Gourmet_Food.parquet. Skipping.\n"
     ]
    }
   ],
   "source": [
    "for category in ALL_CATEGORIES[:15]:\n",
    "    print(f\"Downloading {category}...\\n\")\n",
    "    download_data(category, REVIEW, True)\n",
    "    download_data(category, META, True)"
   ]
  }
 ],
 "metadata": {
  "kernelspec": {
   "display_name": "Python 3",
   "language": "python",
   "name": "python3"
  },
  "language_info": {
   "codemirror_mode": {
    "name": "ipython",
    "version": 3
   },
   "file_extension": ".py",
   "mimetype": "text/x-python",
   "name": "python",
   "nbconvert_exporter": "python",
   "pygments_lexer": "ipython3",
   "version": "3.12.2"
  }
 },
 "nbformat": 4,
 "nbformat_minor": 5
}
