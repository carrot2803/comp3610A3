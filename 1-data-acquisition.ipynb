{
 "cells": [
  {
   "cell_type": "code",
   "execution_count": null,
   "id": "747c8d5d",
   "metadata": {},
   "outputs": [],
   "source": [
    "from amazon.utils import create_directories, download_data\n",
    "from amazon.constants import *"
   ]
  },
  {
   "cell_type": "code",
   "execution_count": null,
   "id": "93a4ac38",
   "metadata": {},
   "outputs": [],
   "source": [
    "create_directories(DATA_PATHS)"
   ]
  },
  {
   "cell_type": "code",
   "execution_count": null,
   "id": "40b5b5dc",
   "metadata": {},
   "outputs": [],
   "source": [
    "for category in ALL_CATEGORIES[:10]:\n",
    "    print(f\"Downloading {category}...\\n\")\n",
    "    download_data(category, REVIEW)\n",
    "    download_data(category, META)"
   ]
  }
 ],
 "metadata": {
  "kernelspec": {
   "display_name": "Python 3",
   "language": "python",
   "name": "python3"
  },
  "language_info": {
   "codemirror_mode": {
    "name": "ipython",
    "version": 3
   },
   "file_extension": ".py",
   "mimetype": "text/x-python",
   "name": "python",
   "nbconvert_exporter": "python",
   "pygments_lexer": "ipython3",
   "version": "3.12.2"
  }
 },
 "nbformat": 4,
 "nbformat_minor": 5
}
