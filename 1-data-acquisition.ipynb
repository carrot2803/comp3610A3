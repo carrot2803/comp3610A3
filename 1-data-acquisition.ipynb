{
 "cells": [
  {
   "cell_type": "code",
   "execution_count": 6,
   "id": "747c8d5d",
   "metadata": {},
   "outputs": [],
   "source": [
    "import os\n",
    "os.environ[\"HF_DATASETS_CACHE\"] = \"D:/.cache\"\n",
    "from bigdata_a3_utils import get_cache_directory\n",
    "from amazon.utils import create_directories, download_data\n",
    "from amazon.constants import *"
   ]
  },
  {
   "cell_type": "code",
   "execution_count": 7,
   "id": "93a4ac38",
   "metadata": {},
   "outputs": [
    {
     "name": "stdout",
     "output_type": "stream",
     "text": [
      "[INFO] Current cache directory: D:\\.cache\n",
      "[NOTE] To use a custom cache directory, set HF_DATASETS_CACHE before importing datasets.\n",
      "Example:\n",
      "    import os\n",
      "    os.environ['HF_DATASETS_CACHE'] = 'C:\\\\your\\\\custom\\\\path'\n",
      "    from datasets import load_dataset\n",
      "\n"
     ]
    }
   ],
   "source": [
    "cache_dir = get_cache_directory(verbose=True)\n",
    "create_directories(DATA_PATHS)"
   ]
  },
  {
   "cell_type": "code",
   "execution_count": 10,
   "id": "40b5b5dc",
   "metadata": {},
   "outputs": [
    {
     "name": "stdout",
     "output_type": "stream",
     "text": [
      "Downloading Unknown...\n",
      "\n",
      "Downloading Unknown (meta)...\n"
     ]
    },
    {
     "data": {
      "application/vnd.jupyter.widget-view+json": {
       "model_id": "afc7ef4bbdf34138980254634a6bbe79",
       "version_major": 2,
       "version_minor": 0
      },
      "text/plain": [
       "meta_Unknown.jsonl:   0%|          | 0.00/675M [00:00<?, ?B/s]"
      ]
     },
     "metadata": {},
     "output_type": "display_data"
    },
    {
     "data": {
      "application/vnd.jupyter.widget-view+json": {
       "model_id": "f46c3759416348d0899a39fbf5bff399",
       "version_major": 2,
       "version_minor": 0
      },
      "text/plain": [
       "Generating full split: 0 examples [00:00, ? examples/s]"
      ]
     },
     "metadata": {},
     "output_type": "display_data"
    },
    {
     "data": {
      "application/vnd.jupyter.widget-view+json": {
       "model_id": "3d9ee8d19a894b9e9d399914824f95d9",
       "version_major": 2,
       "version_minor": 0
      },
      "text/plain": [
       "Creating parquet from Arrow format:   0%|          | 0/391 [00:00<?, ?ba/s]"
      ]
     },
     "metadata": {},
     "output_type": "display_data"
    }
   ],
   "source": [
    "for category in ALL_CATEGORIES[33:]:\n",
    "    print(f\"Downloading {category}...\\n\")\n",
    "    # download_data(category, REVIEW)\n",
    "    download_data(category, META)"
   ]
  }
 ],
 "metadata": {
  "kernelspec": {
   "display_name": "Python 3",
   "language": "python",
   "name": "python3"
  },
  "language_info": {
   "codemirror_mode": {
    "name": "ipython",
    "version": 3
   },
   "file_extension": ".py",
   "mimetype": "text/x-python",
   "name": "python",
   "nbconvert_exporter": "python",
   "pygments_lexer": "ipython3",
   "version": "3.12.2"
  }
 },
 "nbformat": 4,
 "nbformat_minor": 5
}
