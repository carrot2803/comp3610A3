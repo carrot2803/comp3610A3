{
 "cells": [
  {
   "cell_type": "code",
   "execution_count": null,
   "id": "747c8d5d",
   "metadata": {},
   "outputs": [],
   "source": [
    "import os\n",
    "# os.environ[\"HF_DATASETS_CACHE\"] = \".cache\"\n",
    "from bigdata_a3_utils import get_cache_directory\n",
    "from amazon.utils import create_directories, download_data\n",
    "from amazon.constants import *"
   ]
  },
  {
   "cell_type": "code",
   "execution_count": null,
   "id": "93a4ac38",
   "metadata": {},
   "outputs": [],
   "source": [
    "cache_dir = get_cache_directory(verbose=True)\n",
    "create_directories(DATA_PATHS)"
   ]
  },
  {
   "cell_type": "code",
   "execution_count": null,
   "id": "40b5b5dc",
   "metadata": {},
   "outputs": [],
   "source": [
    "for category in ALL_CATEGORIES[33:]:\n",
    "    print(f\"Downloading {category}...\\n\")\n",
    "    # download_data(category, REVIEW)\n",
    "    download_data(category, META)"
   ]
  }
 ],
 "metadata": {
  "kernelspec": {
   "display_name": "venv",
   "language": "python",
   "name": "python3"
  },
  "language_info": {
   "codemirror_mode": {
    "name": "ipython",
    "version": 3
   },
   "file_extension": ".py",
   "mimetype": "text/x-python",
   "name": "python",
   "nbconvert_exporter": "python",
   "pygments_lexer": "ipython3",
   "version": "3.12.3"
  }
 },
 "nbformat": 4,
 "nbformat_minor": 5
}
