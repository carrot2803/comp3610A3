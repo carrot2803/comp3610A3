{
 "cells": [
  {
   "cell_type": "code",
   "execution_count": 1,
   "id": "747c8d5d",
   "metadata": {},
   "outputs": [],
   "source": [
    "import os\n",
    "os.environ[\"HF_DATASETS_CACHE\"] = \"D:/.cache\"\n",
    "# os.environ[\"HF_HUB_DISABLE_SYMLINKS_WARNING\"] = \"1\"\n",
    "from bigdata_a3_utils import get_cache_directory\n",
    "from amazon.utils import create_directories, download_data\n",
    "from amazon.constants import *"
   ]
  },
  {
   "cell_type": "code",
   "execution_count": 3,
   "id": "93a4ac38",
   "metadata": {},
   "outputs": [
    {
     "name": "stdout",
     "output_type": "stream",
     "text": [
      "[INFO] Current cache directory: D:\\.cache\n",
      "[NOTE] To use a custom cache directory, set HF_DATASETS_CACHE before importing datasets.\n",
      "Example:\n",
      "    import os\n",
      "    os.environ['HF_DATASETS_CACHE'] = 'C:\\\\your\\\\custom\\\\path'\n",
      "    from datasets import load_dataset\n",
      "\n"
     ]
    }
   ],
   "source": [
    "cache_dir = get_cache_directory(verbose=True)\n",
    "create_directories(DATA_PATHS)"
   ]
  },
  {
   "cell_type": "code",
   "execution_count": null,
   "id": "40b5b5dc",
   "metadata": {},
   "outputs": [
    {
     "name": "stdout",
     "output_type": "stream",
     "text": [
      "Downloading All_Beauty...\n",
      "\n",
      "File already exists: data/raw/review/All_Beauty.parquet. Skipping.\n",
      "File already exists: data/raw/meta/All_Beauty.parquet. Skipping.\n",
      "Downloading Amazon_Fashion...\n",
      "\n",
      "File already exists: data/raw/review/Amazon_Fashion.parquet. Skipping.\n",
      "File already exists: data/raw/meta/Amazon_Fashion.parquet. Skipping.\n",
      "Downloading Appliances...\n",
      "\n",
      "File already exists: data/raw/review/Appliances.parquet. Skipping.\n",
      "File already exists: data/raw/meta/Appliances.parquet. Skipping.\n",
      "Downloading Arts_Crafts_and_Sewing...\n",
      "\n",
      "File already exists: data/raw/review/Arts_Crafts_and_Sewing.parquet. Skipping.\n",
      "File already exists: data/raw/meta/Arts_Crafts_and_Sewing.parquet. Skipping.\n",
      "Downloading Automotive...\n",
      "\n",
      "File already exists: data/raw/review/Automotive.parquet. Skipping.\n",
      "File already exists: data/raw/meta/Automotive.parquet. Skipping.\n",
      "Downloading Baby_Products...\n",
      "\n",
      "File already exists: data/raw/review/Baby_Products.parquet. Skipping.\n",
      "File already exists: data/raw/meta/Baby_Products.parquet. Skipping.\n",
      "Downloading Beauty_and_Personal_Care...\n",
      "\n",
      "File already exists: data/raw/review/Beauty_and_Personal_Care.parquet. Skipping.\n",
      "File already exists: data/raw/meta/Beauty_and_Personal_Care.parquet. Skipping.\n",
      "Downloading Books...\n",
      "\n",
      "File already exists: data/raw/review/Books.parquet. Skipping.\n",
      "File already exists: data/raw/meta/Books.parquet. Skipping.\n",
      "Downloading CDs_and_Vinyl...\n",
      "\n",
      "File already exists: data/raw/review/CDs_and_Vinyl.parquet. Skipping.\n",
      "File already exists: data/raw/meta/CDs_and_Vinyl.parquet. Skipping.\n",
      "Downloading Cell_Phones_and_Accessories...\n",
      "\n",
      "File already exists: data/raw/review/Cell_Phones_and_Accessories.parquet. Skipping.\n",
      "File already exists: data/raw/meta/Cell_Phones_and_Accessories.parquet. Skipping.\n",
      "Downloading Clothing_Shoes_and_Jewelry...\n",
      "\n",
      "File already exists: data/raw/review/Clothing_Shoes_and_Jewelry.parquet. Skipping.\n",
      "File already exists: data/raw/meta/Clothing_Shoes_and_Jewelry.parquet. Skipping.\n",
      "Downloading Digital_Music...\n",
      "\n",
      "File already exists: data/raw/review/Digital_Music.parquet. Skipping.\n",
      "File already exists: data/raw/meta/Digital_Music.parquet. Skipping.\n",
      "Downloading Electronics...\n",
      "\n",
      "File already exists: data/raw/review/Electronics.parquet. Skipping.\n",
      "Downloading Electronics (meta)...\n"
     ]
    },
    {
     "data": {
      "application/vnd.jupyter.widget-view+json": {
       "model_id": "c6249addaaa64530bab5a7a021bd97d7",
       "version_major": 2,
       "version_minor": 0
      },
      "text/plain": [
       "README.md:   0%|          | 0.00/30.3k [00:00<?, ?B/s]"
      ]
     },
     "metadata": {},
     "output_type": "display_data"
    },
    {
     "name": "stderr",
     "output_type": "stream",
     "text": [
      "C:\\Users\\Lorenzo\\AppData\\Roaming\\Python\\Python312\\site-packages\\huggingface_hub\\file_download.py:144: UserWarning: `huggingface_hub` cache-system uses symlinks by default to efficiently store duplicated files but your machine does not support them in C:\\Users\\Lorenzo\\.cache\\huggingface\\hub\\datasets--McAuley-Lab--Amazon-Reviews-2023. Caching files will still work but in a degraded version that might require more space on your disk. This warning can be disabled by setting the `HF_HUB_DISABLE_SYMLINKS_WARNING` environment variable. For more details, see https://huggingface.co/docs/huggingface_hub/how-to-cache#limitations.\n",
      "To support symlinks on Windows, you either need to activate Developer Mode or to run Python as an administrator. In order to activate developer mode, see this article: https://docs.microsoft.com/en-us/windows/apps/get-started/enable-your-device-for-development\n",
      "  warnings.warn(message)\n"
     ]
    },
    {
     "data": {
      "application/vnd.jupyter.widget-view+json": {
       "model_id": "295d4a1f187b43769918c694405cd2ba",
       "version_major": 2,
       "version_minor": 0
      },
      "text/plain": [
       "Amazon-Reviews-2023.py:   0%|          | 0.00/39.6k [00:00<?, ?B/s]"
      ]
     },
     "metadata": {},
     "output_type": "display_data"
    },
    {
     "data": {
      "application/vnd.jupyter.widget-view+json": {
       "model_id": "c502f3dd7e1c408b970bff86fd1d4fa1",
       "version_major": 2,
       "version_minor": 0
      },
      "text/plain": [
       "meta_Electronics.jsonl:   0%|          | 0.00/5.25G [00:00<?, ?B/s]"
      ]
     },
     "metadata": {},
     "output_type": "display_data"
    },
    {
     "data": {
      "application/vnd.jupyter.widget-view+json": {
       "model_id": "e82e7d2cca6b4330aadaf20c8b1a9632",
       "version_major": 2,
       "version_minor": 0
      },
      "text/plain": [
       "Generating full split:   0%|          | 0/1610012 [00:00<?, ? examples/s]"
      ]
     },
     "metadata": {},
     "output_type": "display_data"
    },
    {
     "data": {
      "application/vnd.jupyter.widget-view+json": {
       "model_id": "3720faa30002475ebd10395eda444d85",
       "version_major": 2,
       "version_minor": 0
      },
      "text/plain": [
       "Creating parquet from Arrow format:   0%|          | 0/1611 [00:00<?, ?ba/s]"
      ]
     },
     "metadata": {},
     "output_type": "display_data"
    },
    {
     "name": "stdout",
     "output_type": "stream",
     "text": [
      "Downloading Gift_Cards...\n",
      "\n",
      "Downloading Gift_Cards (review)...\n"
     ]
    },
    {
     "data": {
      "application/vnd.jupyter.widget-view+json": {
       "model_id": "dc39c9f6ce544672a6b658283d727686",
       "version_major": 2,
       "version_minor": 0
      },
      "text/plain": [
       "Gift_Cards.jsonl:   0%|          | 0.00/50.2M [00:00<?, ?B/s]"
      ]
     },
     "metadata": {},
     "output_type": "display_data"
    },
    {
     "data": {
      "application/vnd.jupyter.widget-view+json": {
       "model_id": "d952e3e46a44432abb53c7a47a777d36",
       "version_major": 2,
       "version_minor": 0
      },
      "text/plain": [
       "Generating full split: 0 examples [00:00, ? examples/s]"
      ]
     },
     "metadata": {},
     "output_type": "display_data"
    },
    {
     "data": {
      "application/vnd.jupyter.widget-view+json": {
       "model_id": "c6cf17cf1f05494c88ad7db4792f56bb",
       "version_major": 2,
       "version_minor": 0
      },
      "text/plain": [
       "Creating parquet from Arrow format:   0%|          | 0/153 [00:00<?, ?ba/s]"
      ]
     },
     "metadata": {},
     "output_type": "display_data"
    },
    {
     "name": "stdout",
     "output_type": "stream",
     "text": [
      "Downloading Gift_Cards (meta)...\n"
     ]
    },
    {
     "data": {
      "application/vnd.jupyter.widget-view+json": {
       "model_id": "31c4fb9541cb41acad7e1cff7422ec9d",
       "version_major": 2,
       "version_minor": 0
      },
      "text/plain": [
       "meta_Gift_Cards.jsonl:   0%|          | 0.00/2.04M [00:00<?, ?B/s]"
      ]
     },
     "metadata": {},
     "output_type": "display_data"
    },
    {
     "data": {
      "application/vnd.jupyter.widget-view+json": {
       "model_id": "7295b85c75434586b4d7320048e89799",
       "version_major": 2,
       "version_minor": 0
      },
      "text/plain": [
       "Generating full split:   0%|          | 0/1137 [00:00<?, ? examples/s]"
      ]
     },
     "metadata": {},
     "output_type": "display_data"
    },
    {
     "data": {
      "application/vnd.jupyter.widget-view+json": {
       "model_id": "83d3665869ab41ed8baf96d9b547017c",
       "version_major": 2,
       "version_minor": 0
      },
      "text/plain": [
       "Creating parquet from Arrow format:   0%|          | 0/2 [00:00<?, ?ba/s]"
      ]
     },
     "metadata": {},
     "output_type": "display_data"
    },
    {
     "name": "stdout",
     "output_type": "stream",
     "text": [
      "Downloading Grocery_and_Gourmet_Food...\n",
      "\n",
      "Downloading Grocery_and_Gourmet_Food (review)...\n"
     ]
    },
    {
     "data": {
      "application/vnd.jupyter.widget-view+json": {
       "model_id": "561ddc851e5a4839b9b537c36c68712a",
       "version_major": 2,
       "version_minor": 0
      },
      "text/plain": [
       "Grocery_and_Gourmet_Food.jsonl:   0%|          | 0.00/5.97G [00:00<?, ?B/s]"
      ]
     },
     "metadata": {},
     "output_type": "display_data"
    },
    {
     "data": {
      "application/vnd.jupyter.widget-view+json": {
       "model_id": "d54bce1d0486446cb9877ec699f1cec3",
       "version_major": 2,
       "version_minor": 0
      },
      "text/plain": [
       "Generating full split: 0 examples [00:00, ? examples/s]"
      ]
     },
     "metadata": {},
     "output_type": "display_data"
    },
    {
     "data": {
      "application/vnd.jupyter.widget-view+json": {
       "model_id": "fc61016d16e64ef695dfb9a717f7db07",
       "version_major": 2,
       "version_minor": 0
      },
      "text/plain": [
       "Creating parquet from Arrow format:   0%|          | 0/14319 [00:00<?, ?ba/s]"
      ]
     },
     "metadata": {},
     "output_type": "display_data"
    },
    {
     "name": "stdout",
     "output_type": "stream",
     "text": [
      "Downloading Grocery_and_Gourmet_Food (meta)...\n"
     ]
    },
    {
     "data": {
      "application/vnd.jupyter.widget-view+json": {
       "model_id": "0d4c2932c258491bba288a9dd5211393",
       "version_major": 2,
       "version_minor": 0
      },
      "text/plain": [
       "meta_Grocery_and_Gourmet_Food.jsonl:   0%|          | 0.00/1.38G [00:00<?, ?B/s]"
      ]
     },
     "metadata": {},
     "output_type": "display_data"
    },
    {
     "data": {
      "application/vnd.jupyter.widget-view+json": {
       "model_id": "fbd1da8e770544afa26fa8fae5510466",
       "version_major": 2,
       "version_minor": 0
      },
      "text/plain": [
       "Generating full split: 0 examples [00:00, ? examples/s]"
      ]
     },
     "metadata": {},
     "output_type": "display_data"
    },
    {
     "data": {
      "application/vnd.jupyter.widget-view+json": {
       "model_id": "4b1c341306d74ec6843bc43c3e1d1159",
       "version_major": 2,
       "version_minor": 0
      },
      "text/plain": [
       "Creating parquet from Arrow format:   0%|          | 0/604 [00:00<?, ?ba/s]"
      ]
     },
     "metadata": {},
     "output_type": "display_data"
    }
   ],
   "source": [
    "for category in ALL_CATEGORIES[:15]:\n",
    "    print(f\"Downloading {category}...\\n\")\n",
    "    download_data(category, REVIEW, True)\n",
    "    download_data(category, META, True)"
   ]
  }
 ],
 "metadata": {
  "kernelspec": {
   "display_name": "Python 3",
   "language": "python",
   "name": "python3"
  },
  "language_info": {
   "codemirror_mode": {
    "name": "ipython",
    "version": 3
   },
   "file_extension": ".py",
   "mimetype": "text/x-python",
   "name": "python",
   "nbconvert_exporter": "python",
   "pygments_lexer": "ipython3",
   "version": "3.12.2"
  }
 },
 "nbformat": 4,
 "nbformat_minor": 5
}
