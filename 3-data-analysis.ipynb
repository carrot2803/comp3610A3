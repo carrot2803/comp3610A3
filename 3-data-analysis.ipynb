{
 "cells": [
  {
   "cell_type": "code",
   "execution_count": null,
   "id": "81cc1975",
   "metadata": {},
   "outputs": [],
   "source": [
    "import polars as pl\n",
    "from plotly.graph_objs import Figure\n",
    "from amazon.visuals import *\n",
    "# import nltk\n",
    "# nltk.download(\"vader_lexicon\")"
   ]
  },
  {
   "cell_type": "code",
   "execution_count": null,
   "id": "02619632",
   "metadata": {},
   "outputs": [],
   "source": [
    "lf: pl.LazyFrame = pl.scan_parquet(\"data/processed/amazon-2023.parquet\")"
   ]
  },
  {
   "cell_type": "code",
   "execution_count": null,
   "id": "9ff18b5b",
   "metadata": {},
   "outputs": [],
   "source": [
    "fig: Figure = plot_histogram(lf, \"star_rating\")\n",
    "fig.show()"
   ]
  },
  {
   "cell_type": "code",
   "execution_count": null,
   "id": "299fe685",
   "metadata": {},
   "outputs": [],
   "source": [
    "fig: Figure = plot_categories_bar(lf, \"categories_bar_chart\")\n",
    "fig.show()"
   ]
  },
  {
   "cell_type": "code",
   "execution_count": null,
   "id": "9370e6e7",
   "metadata": {},
   "outputs": [],
   "source": [
    "fig: Figure = plot_brands_bar(lf, \"brands_bar_chart\")\n",
    "fig.show()"
   ]
  },
  {
   "cell_type": "code",
   "execution_count": null,
   "id": "c59b4969",
   "metadata": {},
   "outputs": [],
   "source": [
    "fig: Figure = plot_line(lf, \"average_star_rating\")\n",
    "fig.show()"
   ]
  },
  {
   "cell_type": "code",
   "execution_count": null,
   "id": "a9417cb0",
   "metadata": {},
   "outputs": [],
   "source": [
    "fig: Figure = plot_correlation_matrix(lf, \"correlation_matrix\")\n",
    "fig.show()"
   ]
  },
  {
   "cell_type": "code",
   "execution_count": null,
   "id": "decbdd9b",
   "metadata": {},
   "outputs": [],
   "source": [
    "fig: Figure = price_rating(lf, \"price_rating\")\n",
    "fig.show()"
   ]
  },
  {
   "cell_type": "code",
   "execution_count": null,
   "id": "1d40d7cb",
   "metadata": {},
   "outputs": [],
   "source": [
    "fig: Figure = plot_sentiment(lf, \"sentiment discrepancy\", True)\n",
    "fig.show()"
   ]
  },
  {
   "cell_type": "code",
   "execution_count": null,
   "id": "cb74c27c",
   "metadata": {},
   "outputs": [],
   "source": [
    "fig: Figure = plot_helpful_votes(lf, \"helpful_votes\")\n",
    "fig.show()"
   ]
  },
  {
   "cell_type": "code",
   "execution_count": null,
   "id": "ffa48d25",
   "metadata": {},
   "outputs": [],
   "source": [
    "fig: Figure = plot_verified_purchase(lf, \"verified_purchase\")\n",
    "fig.show()"
   ]
  }
 ],
 "metadata": {
  "kernelspec": {
   "display_name": "Python 3",
   "language": "python",
   "name": "python3"
  },
  "language_info": {
   "codemirror_mode": {
    "name": "ipython",
    "version": 3
   },
   "file_extension": ".py",
   "mimetype": "text/x-python",
   "name": "python",
   "nbconvert_exporter": "python",
   "pygments_lexer": "ipython3",
   "version": "3.12.2"
  }
 },
 "nbformat": 4,
 "nbformat_minor": 5
}
