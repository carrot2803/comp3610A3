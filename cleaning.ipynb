{
 "cells": [
  {
   "cell_type": "code",
   "execution_count": null,
   "id": "ecadafaa",
   "metadata": {},
   "outputs": [],
   "source": [
    "from datasets import load_dataset, Dataset, DatasetDict, load_from_disk\n",
    "from bigdata_a3_utils import download_all_amazon_reviews, load_compressed_dataset\n",
    "import polars as pl"
   ]
  },
  {
   "cell_type": "code",
   "execution_count": null,
   "id": "4c2f8693",
   "metadata": {},
   "outputs": [],
   "source": [
    "# auto_review: Dataset = load_dataset(\n",
    "#     \"McAuley-Lab/Amazon-Reviews-2023\",\n",
    "#     \"raw_review_Automotive\",\n",
    "#     split=\"full\",\n",
    "#     trust_remote_code=True,\n",
    "# )\n",
    "\n",
    "# auto_meta: Dataset = load_dataset(\n",
    "#     \"McAuley-Lab/Amazon-Reviews-2023\",\n",
    "#     \"raw_meta_Automotive\",\n",
    "#     split=\"full\",\n",
    "#     trust_remote_code=True,\n",
    "# )"
   ]
  },
  {
   "cell_type": "code",
   "execution_count": null,
   "id": "4b30adc5",
   "metadata": {},
   "outputs": [],
   "source": [
    "# auto_review.to_parquet(\"amazon_review_auto.parquet\")\n",
    "# auto_meta.to_parquet(\"amazon_meta_auto.parquet\")"
   ]
  },
  {
   "cell_type": "code",
   "execution_count": null,
   "id": "098ebce2",
   "metadata": {},
   "outputs": [],
   "source": [
    "df_review: pl.DataFrame = pl.read_parquet(\"amazon_review_auto.parquet\")\n",
    "df_meta: pl.DataFrame = pl.read_parquet(\"amazon_meta_auto.parquet\")"
   ]
  },
  {
   "cell_type": "code",
   "execution_count": null,
   "id": "2d7794e6",
   "metadata": {},
   "outputs": [],
   "source": [
    "def extract_brand() -> pl.Expr:\n",
    "    store_clean: pl.Then = pl.when(pl.col(\"store\").str.strip_chars() != \"\").then(pl.col(\"store\"))\n",
    "    details_brand: pl.Expr = pl.col(\"details\").str.extract(r\"Brand[:\\s]*([^\\s,;]+)\", 1)\n",
    "    \n",
    "    return pl.coalesce([\n",
    "        store_clean,\n",
    "        details_brand,\n",
    "        pl.lit(\"Unknown\")\n",
    "    ]).alias(\"brand\")"
   ]
  },
  {
   "cell_type": "code",
   "execution_count": null,
   "id": "6a4d1ab5",
   "metadata": {},
   "outputs": [],
   "source": [
    "# Drop invalid ratings (missing or not in [1,2,3,4,5])\n",
    "df_review: pl.DataFrame = df_review.filter(pl.col(\"rating\").is_in([1, 2, 3, 4, 5]))\n",
    "# Drop empty review texts\n",
    "df_review = df_review.filter(pl.col(\"text\").str.strip_chars().str.len_chars() > 0)\n",
    "\n",
    "df_review = df_review.with_columns([\n",
    "    pl.col(\"text\").str.count_matches(r\"\\b\\w+\\b\").alias(\"review_length\"),\n",
    "    (pl.col(\"timestamp\").cast(pl.Datetime(\"ms\")).dt.year()).alias(\"year\")\n",
    "])"
   ]
  },
  {
   "cell_type": "code",
   "execution_count": null,
   "metadata": {},
   "outputs": [],
   "source": [
    "df: pl.DataFrame = df_review.join(df_meta, on=\"parent_asin\", how=\"left\")"
   ]
  },
  {
   "cell_type": "code",
   "execution_count": null,
   "id": "fddb293b",
   "metadata": {},
   "outputs": [],
   "source": [
    "df: pl.DataFrame = df.with_columns([extract_brand()])\n",
    "df = df.unique(subset=[\"user_id\", \"text\", \"asin\"], keep=\"first\")"
   ]
  },
  {
   "cell_type": "code",
   "execution_count": null,
   "id": "54824944",
   "metadata": {},
   "outputs": [],
   "source": [
    "df"
   ]
  },
  {
   "cell_type": "code",
   "execution_count": null,
   "id": "65bc3547",
   "metadata": {},
   "outputs": [],
   "source": [
    "# # Drop invalid ratings (missing or not in [1,2,3,4,5])\n",
    "# df: pl.DataFrame = df.filter(pl.col(\"rating\").is_in([1, 2, 3, 4, 5]))\n",
    "# # Drop empty review texts\n",
    "# df = df.filter(pl.col(\"text\").str.strip_chars().str.len_chars() > 0)\n",
    "\n",
    "# df = df.with_columns([extract_brand()])\n",
    "\n",
    "# df = df.with_columns([\n",
    "#     pl.col(\"text\").str.count_matches(r\"\\b\\w+\\b\").alias(\"review_length\"),\n",
    "#     (pl.col(\"timestamp\").cast(pl.Datetime(\"ms\")).dt.year()).alias(\"year\")\n",
    "# ])\n",
    "\n",
    "\n",
    "# df = df.unique(subset=[\"user_id\", \"text\", \"asin\"], keep=\"first\")"
   ]
  },
  {
   "cell_type": "code",
   "execution_count": null,
   "id": "beb1b0e5",
   "metadata": {},
   "outputs": [],
   "source": [
    "# df.write_parquet(\"data/intermediate/amazon_auto.parquet\")"
   ]
  }
 ],
 "metadata": {
  "kernelspec": {
   "display_name": "Python 3",
   "language": "python",
   "name": "python3"
  },
  "language_info": {
   "codemirror_mode": {
    "name": "ipython",
    "version": 3
   },
   "file_extension": ".py",
   "mimetype": "text/x-python",
   "name": "python",
   "nbconvert_exporter": "python",
   "pygments_lexer": "ipython3",
   "version": "3.12.2"
  }
 },
 "nbformat": 4,
 "nbformat_minor": 5
}
