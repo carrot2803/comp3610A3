{
 "cells": [
  {
   "cell_type": "code",
   "execution_count": null,
   "id": "ecadafaa",
   "metadata": {},
   "outputs": [],
   "source": [
    "from datasets import load_dataset, Dataset, DatasetDict, load_from_disk\n",
    "from bigdata_a3_utils import download_all_amazon_reviews, load_compressed_dataset\n",
    "import polars as pl"
   ]
  },
  {
   "cell_type": "code",
   "execution_count": null,
   "id": "4c2f8693",
   "metadata": {},
   "outputs": [],
   "source": [
    "beauty_review: Dataset = load_dataset(\n",
    "    \"McAuley-Lab/Amazon-Reviews-2023\",\n",
    "    \"raw_review_All_Beauty\",\n",
    "    split=\"full\",\n",
    "    trust_remote_code=True,\n",
    ")\n",
    "\n",
    "beauty_meta: Dataset = load_dataset(\n",
    "    \"McAuley-Lab/Amazon-Reviews-2023\",\n",
    "    \"raw_meta_All_Beauty\",\n",
    "    split=\"full\",\n",
    "    trust_remote_code=True,\n",
    ")"
   ]
  },
  {
   "cell_type": "code",
   "execution_count": null,
   "id": "4b30adc5",
   "metadata": {},
   "outputs": [],
   "source": [
    "beauty_review.to_parquet(\"amazon_review_beauty.parquet\")\n",
    "beauty_meta.to_parquet(\"amazon_meta_beauty.parquet\")"
   ]
  },
  {
   "cell_type": "code",
   "execution_count": null,
   "id": "098ebce2",
   "metadata": {},
   "outputs": [],
   "source": [
    "df_review: pl.DataFrame = pl.read_parquet(\"amazon_review_beauty.parquet\")\n",
    "df_meta: pl.DataFrame = pl.read_parquet(\"amazon_meta_beauty.parquet\")"
   ]
  },
  {
   "cell_type": "code",
   "execution_count": 20,
   "metadata": {},
   "outputs": [],
   "source": [
    "df: pl.DataFrame = df_review.join(df_meta, on=\"parent_asin\", how=\"left\")"
   ]
  },
  {
   "cell_type": "code",
   "execution_count": 21,
   "id": "9c6909cd",
   "metadata": {},
   "outputs": [],
   "source": [
    "def extract_brand() -> pl.Expr:\n",
    "    store_clean: pl.Then = pl.when(pl.col(\"store\").str.strip_chars() != \"\").then(pl.col(\"store\"))\n",
    "    details_brand: pl.Expr = pl.col(\"details\").str.extract(r\"Brand[:\\s]*([^\\s,;]+)\", 1)\n",
    "    \n",
    "    return pl.coalesce([\n",
    "        store_clean,\n",
    "        details_brand,\n",
    "        pl.lit(\"Unknown\")\n",
    "    ]).alias(\"brand\")"
   ]
  },
  {
   "cell_type": "code",
   "execution_count": 22,
   "id": "65bc3547",
   "metadata": {},
   "outputs": [],
   "source": [
    "# Drop invalid ratings (missing or not in [1,2,3,4,5])\n",
    "df: pl.DataFrame = df.filter(pl.col(\"rating\").is_in([1, 2, 3, 4, 5]))\n",
    "# Drop empty review texts\n",
    "df = df.filter(pl.col(\"text\").str.strip_chars().str.len_chars() > 0)\n",
    "\n",
    "df = df.with_columns([extract_brand()])\n",
    "\n",
    "df = df.with_columns([\n",
    "    pl.col(\"text\").str.count_matches(r\"\\b\\w+\\b\").alias(\"review_length\"),\n",
    "    (pl.col(\"timestamp\").cast(pl.Datetime(\"ms\")).dt.year()).alias(\"year\")\n",
    "])\n",
    "\n",
    "\n",
    "df = df.unique(subset=[\"user_id\", \"text\", \"asin\"], keep=\"first\")"
   ]
  },
  {
   "cell_type": "code",
   "execution_count": 23,
   "id": "beb1b0e5",
   "metadata": {},
   "outputs": [
    {
     "data": {
      "text/html": [
       "<div><style>\n",
       ".dataframe > thead > tr,\n",
       ".dataframe > tbody > tr {\n",
       "  text-align: right;\n",
       "  white-space: pre-wrap;\n",
       "}\n",
       "</style>\n",
       "<small>shape: (693_547, 28)</small><table border=\"1\" class=\"dataframe\"><thead><tr><th>rating</th><th>title</th><th>text</th><th>images</th><th>asin</th><th>parent_asin</th><th>user_id</th><th>timestamp</th><th>helpful_vote</th><th>verified_purchase</th><th>main_category</th><th>title_right</th><th>average_rating</th><th>rating_number</th><th>features</th><th>description</th><th>price</th><th>images_right</th><th>videos</th><th>store</th><th>categories</th><th>details</th><th>bought_together</th><th>subtitle</th><th>author</th><th>brand</th><th>review_length</th><th>year</th></tr><tr><td>f64</td><td>str</td><td>str</td><td>list[struct[4]]</td><td>str</td><td>str</td><td>str</td><td>i64</td><td>i64</td><td>bool</td><td>str</td><td>str</td><td>f64</td><td>i64</td><td>list[str]</td><td>list[str]</td><td>str</td><td>struct[4]</td><td>struct[3]</td><td>str</td><td>list[str]</td><td>str</td><td>str</td><td>str</td><td>str</td><td>str</td><td>u32</td><td>i32</td></tr></thead><tbody><tr><td>5.0</td><td>&quot;Buy them&quot;</td><td>&quot;The are the best hair ties. Ne…</td><td>[]</td><td>&quot;B07V5CW5CG&quot;</td><td>&quot;B07V5CW5CG&quot;</td><td>&quot;AGC73F2KHTUOZWUDOZYGTA5G6Z2Q&quot;</td><td>1580159609883</td><td>0</td><td>true</td><td>&quot;All Beauty&quot;</td><td>&quot;WillingTee 30pcs Metal Color S…</td><td>4.2</td><td>34</td><td>[]</td><td>[]</td><td>&quot;None&quot;</td><td>{[&quot;https://m.media-amazon.com/images/I/71tV2goA1QL._SL1200_.jpg&quot;, &quot;https://m.media-amazon.com/images/I/71oK2Y386iL._SL1200_.jpg&quot;],[&quot;https://m.media-amazon.com/images/I/51NFugypGcL.jpg&quot;, &quot;https://m.media-amazon.com/images/I/51+nJXXbQ4L.jpg&quot;],[&quot;https://m.media-amazon.com/images/I/51NFugypGcL._SS40_.jpg&quot;, &quot;https://m.media-amazon.com/images/I/51+nJXXbQ4L._SS40_.jpg&quot;],[&quot;MAIN&quot;, &quot;PT01&quot;]}</td><td>{[],[],[]}</td><td>&quot;WillingTee&quot;</td><td>[]</td><td>&quot;{&quot;Material&quot;: &quot;Plastic&quot;, &quot;Item …</td><td>null</td><td>null</td><td>null</td><td>&quot;WillingTee&quot;</td><td>17</td><td>2020</td></tr><tr><td>1.0</td><td>&quot;It Rusted some Implements&quot;</td><td>&quot;I decide as I wanted to try a …</td><td>[]</td><td>&quot;B06XGWJJFW&quot;</td><td>&quot;B06XGWJJFW&quot;</td><td>&quot;AFMR6XY4DH2BONH375ZTFRKK3YVQ&quot;</td><td>1600970983764</td><td>2</td><td>true</td><td>&quot;All Beauty&quot;</td><td>&quot;MOD Clean&quot;</td><td>4.4</td><td>193</td><td>[]</td><td>[]</td><td>&quot;17.13&quot;</td><td>{[null],[&quot;https://m.media-amazon.com/images/I/31dH31wdMjL.jpg&quot;],[&quot;https://m.media-amazon.com/images/I/31dH31wdMjL._SS40_.jpg&quot;],[&quot;MAIN&quot;]}</td><td>{[],[],[]}</td><td>&quot;Artist Unknown&quot;</td><td>[]</td><td>&quot;{&quot;Brand&quot;: &quot;Artist Unknown&quot;, &quot;I…</td><td>null</td><td>null</td><td>null</td><td>&quot;Artist Unknown&quot;</td><td>45</td><td>2020</td></tr><tr><td>5.0</td><td>&quot;OK2BUY&quot;</td><td>&quot;Beats Walmart price, great pro…</td><td>[]</td><td>&quot;B00JISAUR8&quot;</td><td>&quot;B00JISAUR8&quot;</td><td>&quot;AGZTW2YLNOPFKCT4HPCYNLC74JVA&quot;</td><td>1495754871000</td><td>0</td><td>true</td><td>&quot;All Beauty&quot;</td><td>&quot;Garnier Fructis Sleek &amp; Shine …</td><td>4.1</td><td>64</td><td>[&quot;Leave-in conditioning cream for up to 3 day sleek&quot;, &quot;Intensely smooth&quot;, &quot;Proven strength system&quot;]</td><td>[&quot;Garnier Fructis Sleek &amp; Shine Leave-In Conditioning Cream, 10.2 oz, 2 pk&quot;]</td><td>&quot;8.98&quot;</td><td>{[&quot;https://m.media-amazon.com/images/I/71sxKqdPecL._SL1500_.jpg&quot;, &quot;https://m.media-amazon.com/images/I/71WpuymxM8L._SL1500_.jpg&quot;, … &quot;https://m.media-amazon.com/images/I/8133DyePyaL._SL1500_.jpg&quot;],[&quot;https://m.media-amazon.com/images/I/41gUHu-MCzL.jpg&quot;, &quot;https://m.media-amazon.com/images/I/41NlRHsEsPL.jpg&quot;, … &quot;https://m.media-amazon.com/images/I/51y971sKo+L.jpg&quot;],[&quot;https://m.media-amazon.com/images/I/41gUHu-MCzL._SS40_.jpg&quot;, &quot;https://m.media-amazon.com/images/I/41NlRHsEsPL._SS40_.jpg&quot;, … &quot;https://m.media-amazon.com/images/I/51y971sKo+L._SS40_.jpg&quot;],[&quot;MAIN&quot;, &quot;PT01&quot;, … &quot;DTLS&quot;]}</td><td>{[&quot;Here&#x27;s The Secret To Having Beautiful Hair! MUST WATCH!&quot;, &quot;Style Code Live: Redbook Garnier Integration | Pro Tips for Perfect Hair | Look 2&quot;],[&quot;https://www.amazon.com/vdp/0024af0ae1234a3fac9ffd7460ead76b?ref=dp_vse_rvc_0&quot;, &quot;https://www.amazon.com/vdp/afdc73b298dc4ca0acb1796a6f0bd11d?ref=dp_vse_rvc_1&quot;],[&quot;/shop/influencer-98d451b5&quot;, &quot;&quot;]}</td><td>&quot;Garnier&quot;</td><td>[]</td><td>&quot;{&quot;Brand&quot;: &quot;Garnier&quot;, &quot;Item For…</td><td>null</td><td>null</td><td>null</td><td>&quot;Garnier&quot;</td><td>5</td><td>2017</td></tr><tr><td>5.0</td><td>&quot;I’m in love &amp; Thank You&quot;</td><td>&quot;WOW! I NEVER write reviews, bu…</td><td>[{&quot;IMAGE&quot;,&quot;https://images-na.ssl-images-amazon.com/images/I/71UDVzQRTXL.jpg&quot;,&quot;https://images-na.ssl-images-amazon.com/images/I/71UDVzQRTXL._SL800_.jpg&quot;,&quot;https://images-na.ssl-images-amazon.com/images/I/71UDVzQRTXL._SL256_.jpg&quot;}, {&quot;IMAGE&quot;,&quot;https://images-na.ssl-images-amazon.com/images/I/71hVCiPD0FL.jpg&quot;,&quot;https://images-na.ssl-images-amazon.com/images/I/71hVCiPD0FL._SL800_.jpg&quot;,&quot;https://images-na.ssl-images-amazon.com/images/I/71hVCiPD0FL._SL256_.jpg&quot;}, {&quot;IMAGE&quot;,&quot;https://images-na.ssl-images-amazon.com/images/I/71unZzeJlGL.jpg&quot;,&quot;https://images-na.ssl-images-amazon.com/images/I/71unZzeJlGL._SL800_.jpg&quot;,&quot;https://images-na.ssl-images-amazon.com/images/I/71unZzeJlGL._SL256_.jpg&quot;}]</td><td>&quot;B083NVC5RB&quot;</td><td>&quot;B083NVC5RB&quot;</td><td>&quot;AHREBJPMMF3WUWOUL6OEBCAPTXYA&quot;</td><td>1587313701297</td><td>10</td><td>true</td><td>&quot;All Beauty&quot;</td><td>&quot;22 inch 7 packs Passion Twist …</td><td>4.3</td><td>71</td><td>[]</td><td>[]</td><td>&quot;None&quot;</td><td>{[&quot;https://m.media-amazon.com/images/I/71lLNP5ZIoL._SL1001_.jpg&quot;, &quot;https://m.media-amazon.com/images/I/71TBJvLEcTL._SL1001_.jpg&quot;, … &quot;https://m.media-amazon.com/images/I/71VekwopC4L._SL1001_.jpg&quot;],[&quot;https://m.media-amazon.com/images/I/51V1HApt8wL.jpg&quot;, &quot;https://m.media-amazon.com/images/I/51v4fn4--CL.jpg&quot;, … &quot;https://m.media-amazon.com/images/I/51Y3r+rz3PL.jpg&quot;],[&quot;https://m.media-amazon.com/images/I/51V1HApt8wL._SS40_.jpg&quot;, &quot;https://m.media-amazon.com/images/I/51v4fn4--CL._SS40_.jpg&quot;, … &quot;https://m.media-amazon.com/images/I/51Y3r+rz3PL._SS40_.jpg&quot;],[&quot;MAIN&quot;, &quot;PT03&quot;, … &quot;PT06&quot;]}</td><td>{[],[],[]}</td><td>&quot;ronsaen&quot;</td><td>[]</td><td>&quot;{&quot;Brand&quot;: &quot;ronsaen&quot;, &quot;Extensio…</td><td>null</td><td>null</td><td>null</td><td>&quot;ronsaen&quot;</td><td>103</td><td>2020</td></tr><tr><td>5.0</td><td>&quot;Arrived on time = Happy Grandp…</td><td>&quot;Christmas gift that was exactl…</td><td>[]</td><td>&quot;B00ZJLQBEY&quot;</td><td>&quot;B00ZJLQBEY&quot;</td><td>&quot;AEWFSXI52KH2ICSIWQSM3ENL7XOA&quot;</td><td>1454113917000</td><td>0</td><td>true</td><td>&quot;All Beauty&quot;</td><td>&quot;Maniology Super Cute Turquoise…</td><td>4.2</td><td>253</td><td>[]</td><td>[]</td><td>&quot;None&quot;</td><td>{[&quot;https://m.media-amazon.com/images/I/61nal243LWL._SL1500_.jpg&quot;, &quot;https://m.media-amazon.com/images/I/61BGSm1pVAL._SL1500_.jpg&quot;, … null],[&quot;https://m.media-amazon.com/images/I/41x1RHWi7kL.jpg&quot;, &quot;https://m.media-amazon.com/images/I/41gN5IEO5+L.jpg&quot;, … &quot;https://m.media-amazon.com/images/I/41T8RJbRUAL.jpg&quot;],[&quot;https://m.media-amazon.com/images/I/41x1RHWi7kL._SS40_.jpg&quot;, &quot;https://m.media-amazon.com/images/I/41gN5IEO5+L._SS40_.jpg&quot;, … &quot;https://m.media-amazon.com/images/I/41T8RJbRUAL._SS40_.jpg&quot;],[&quot;MAIN&quot;, &quot;PT01&quot;, … &quot;PT05&quot;]}</td><td>{[&quot;Unboxing and demo of brush and dotter set&quot;],[&quot;https://www.amazon.com/vdp/17bc776b7ba84e23a35575bd53630ee1?ref=dp_vse_rvc_0&quot;],[&quot;AFC5J2XCVGZH735ARYY6UH2RX3TA&quot;]}</td><td>&quot;b.m.c&quot;</td><td>[]</td><td>&quot;{&quot;Is Discontinued By Manufactu…</td><td>null</td><td>null</td><td>null</td><td>&quot;b.m.c&quot;</td><td>14</td><td>2016</td></tr><tr><td>&hellip;</td><td>&hellip;</td><td>&hellip;</td><td>&hellip;</td><td>&hellip;</td><td>&hellip;</td><td>&hellip;</td><td>&hellip;</td><td>&hellip;</td><td>&hellip;</td><td>&hellip;</td><td>&hellip;</td><td>&hellip;</td><td>&hellip;</td><td>&hellip;</td><td>&hellip;</td><td>&hellip;</td><td>&hellip;</td><td>&hellip;</td><td>&hellip;</td><td>&hellip;</td><td>&hellip;</td><td>&hellip;</td><td>&hellip;</td><td>&hellip;</td><td>&hellip;</td><td>&hellip;</td><td>&hellip;</td></tr><tr><td>3.0</td><td>&quot;Ok&quot;</td><td>&quot;A little painful if you wear t…</td><td>[]</td><td>&quot;B00KV32GNA&quot;</td><td>&quot;B00KV32GNA&quot;</td><td>&quot;AGPO67SPBXUAEXNVFXMH5HWB5V4A&quot;</td><td>1446741727000</td><td>1</td><td>true</td><td>&quot;All Beauty&quot;</td><td>&quot;SoooKu 10 Pcs Glow Ball Tongue…</td><td>4.2</td><td>153</td><td>[&quot;Suitable for tongue or nipple&quot;, &quot;Glow in the dark&quot;, … &quot;Colors: random colors&quot;]</td><td>[]</td><td>&quot;9.74&quot;</td><td>{[&quot;https://m.media-amazon.com/images/I/61Nd9OI8EHL._SL1001_.jpg&quot;, &quot;https://m.media-amazon.com/images/I/6164CJL3zJL._SL1001_.jpg&quot;, … &quot;https://m.media-amazon.com/images/I/61DzC-toYQL._SL1001_.jpg&quot;],[&quot;https://m.media-amazon.com/images/I/41kkf99tzwL.jpg&quot;, &quot;https://m.media-amazon.com/images/I/41cYRcq-BkL.jpg&quot;, … &quot;https://m.media-amazon.com/images/I/41VDZ4rOySL.jpg&quot;],[&quot;https://m.media-amazon.com/images/I/41kkf99tzwL._SS40_.jpg&quot;, &quot;https://m.media-amazon.com/images/I/41cYRcq-BkL._SS40_.jpg&quot;, … &quot;https://m.media-amazon.com/images/I/41VDZ4rOySL._SS40_.jpg&quot;],[&quot;MAIN&quot;, &quot;PT01&quot;, … &quot;PT06&quot;]}</td><td>{[],[],[]}</td><td>&quot;SoooKu&quot;</td><td>[]</td><td>&quot;{&quot;UPC&quot;: &quot;769251649481&quot;, &quot;Manuf…</td><td>null</td><td>null</td><td>null</td><td>&quot;SoooKu&quot;</td><td>13</td><td>2015</td></tr><tr><td>3.0</td><td>&quot;It was very nice&quot;</td><td>&quot;Ended up to be to long for me&quot;</td><td>[]</td><td>&quot;B08B4P69LK&quot;</td><td>&quot;B08B4P69LK&quot;</td><td>&quot;AHBYPIA5NNNZ6JM22DUSS33T4Z5A&quot;</td><td>1613249401446</td><td>0</td><td>true</td><td>&quot;All Beauty&quot;</td><td>&quot;NAYOO Long Drawstring Ponytail…</td><td>3.8</td><td>36</td><td>[]</td><td>[]</td><td>&quot;None&quot;</td><td>{[&quot;https://m.media-amazon.com/images/I/71pblajOmlL._SL1000_.jpg&quot;, &quot;https://m.media-amazon.com/images/I/713McGN6fML._SL1000_.jpg&quot;, … &quot;https://m.media-amazon.com/images/I/61H52J3oFgL._SL1000_.jpg&quot;],[&quot;https://m.media-amazon.com/images/I/51d3ddVghWL.jpg&quot;, &quot;https://m.media-amazon.com/images/I/51Mg6Jl48uL.jpg&quot;, … &quot;https://m.media-amazon.com/images/I/51JiumIKClL.jpg&quot;],[&quot;https://m.media-amazon.com/images/I/51d3ddVghWL._SS40_.jpg&quot;, &quot;https://m.media-amazon.com/images/I/51Mg6Jl48uL._SS40_.jpg&quot;, … &quot;https://m.media-amazon.com/images/I/51JiumIKClL._SS40_.jpg&quot;],[&quot;MAIN&quot;, &quot;PT01&quot;, … &quot;PT06&quot;]}</td><td>{[],[],[]}</td><td>&quot;NAYOO&quot;</td><td>[]</td><td>&quot;{&quot;Material&quot;: &quot;Synthetic&quot;, &quot;Hai…</td><td>null</td><td>null</td><td>null</td><td>&quot;NAYOO&quot;</td><td>8</td><td>2021</td></tr><tr><td>5.0</td><td>&quot;Just as beautiful as I expecte…</td><td>&quot;Beautiful! It was a great an a…</td><td>[]</td><td>&quot;B01I0SAM88&quot;</td><td>&quot;B01I0SAM88&quot;</td><td>&quot;AFRVXPXVV6LLQVTJQW6NQ6GJKTXA&quot;</td><td>1483815834000</td><td>0</td><td>false</td><td>&quot;All Beauty&quot;</td><td>&quot;Xuanli Wood Combs Carving rose…</td><td>4.7</td><td>29</td><td>[]</td><td>[]</td><td>&quot;None&quot;</td><td>{[&quot;https://m.media-amazon.com/images/I/71RXJquNB5L._SL1000_.jpg&quot;, &quot;https://m.media-amazon.com/images/I/71-76DOx12L._SL1000_.jpg&quot;, … &quot;https://m.media-amazon.com/images/I/71YsmryxnCL._SL1000_.jpg&quot;],[&quot;https://m.media-amazon.com/images/I/51agVHvaE3L.jpg&quot;, &quot;https://m.media-amazon.com/images/I/61Rdmowj+mL.jpg&quot;, … &quot;https://m.media-amazon.com/images/I/61EYepCbFML.jpg&quot;],[&quot;https://m.media-amazon.com/images/I/51agVHvaE3L._SS40_.jpg&quot;, &quot;https://m.media-amazon.com/images/I/61Rdmowj+mL._SS40_.jpg&quot;, … &quot;https://m.media-amazon.com/images/I/61EYepCbFML._SS40_.jpg&quot;],[&quot;MAIN&quot;, &quot;PT01&quot;, … &quot;PT06&quot;]}</td><td>{[],[],[]}</td><td>&quot;Xuanli&quot;</td><td>[]</td><td>&quot;{&quot;Material&quot;: &quot;Wood&quot;, &quot;Brand&quot;: …</td><td>null</td><td>null</td><td>null</td><td>&quot;Xuanli&quot;</td><td>8</td><td>2017</td></tr><tr><td>4.0</td><td>&quot;They do the job, I am not sure…</td><td>&quot;They do the job, I am not sure…</td><td>[]</td><td>&quot;B000X20Y4C&quot;</td><td>&quot;B000X20Y4C&quot;</td><td>&quot;AGRPEEVB6E3NGSF6BZIJFWQPZIDQ&quot;</td><td>1492111888000</td><td>0</td><td>true</td><td>&quot;All Beauty&quot;</td><td>&quot;Soft &#x27;N Style Butterfly Clamps…</td><td>4.5</td><td>2031</td><td>[&quot;Perfect for sectioning long or short hair&quot;, &quot;Package contains assorted colors&quot;, … &quot;Size: 3&quot; wide clamps&quot;]</td><td>[&quot;Perfect for sectioning long or short hair. 12 clips per package. 3&quot; wide. Package contains assorted colors.&quot;]</td><td>&quot;3.8&quot;</td><td>{[&quot;https://m.media-amazon.com/images/I/611tApzJ+-L._SL1000_.jpg&quot;],[&quot;https://m.media-amazon.com/images/I/41kVcWDNxZL.jpg&quot;],[&quot;https://m.media-amazon.com/images/I/41kVcWDNxZL._SS40_.jpg&quot;],[&quot;MAIN&quot;]}</td><td>{[],[],[]}</td><td>&quot;Soft &#x27;N Style&quot;</td><td>[]</td><td>&quot;{&quot;Brand&quot;: &quot;Soft &#x27;N Style&quot;, &quot;Ha…</td><td>null</td><td>null</td><td>null</td><td>&quot;Soft &#x27;N Style&quot;</td><td>30</td><td>2017</td></tr><tr><td>5.0</td><td>&quot;Pretty Mannequin&quot;</td><td>&quot;You’ll like her! Perfect for d…</td><td>[{&quot;IMAGE&quot;,&quot;https://images-na.ssl-images-amazon.com/images/I/61g7In7QYCL._SL1600_.jpg&quot;,&quot;https://images-na.ssl-images-amazon.com/images/I/61g7In7QYCL._SL800_.jpg&quot;,&quot;https://images-na.ssl-images-amazon.com/images/I/61g7In7QYCL._SL256_.jpg&quot;}]</td><td>&quot;B078JFH7QV&quot;</td><td>&quot;B078JFH7QV&quot;</td><td>&quot;AFKHNX4JWP5L72XAYCKLXHODJLEA&quot;</td><td>1549773674158</td><td>0</td><td>true</td><td>&quot;All Beauty&quot;</td><td>&quot;L7 MANNEQUIN Realistic Mannequ…</td><td>4.8</td><td>1028</td><td>[&quot;This mannequin head Suitable for different styles of wigs, accessories, can be a good display of products&quot;, &quot;Great life-size and have a long slender neck of this mannequin head, good to display for wigs, hats, necklaces, scarves and other accessories.&quot;, … &quot;This Manikin Head Have The Hole In The Ear, And You Can Display Earrings.&quot;]</td><td>[]</td><td>&quot;59.97&quot;</td><td>{[&quot;https://m.media-amazon.com/images/I/41-1WfBS8iL._SL1001_.jpg&quot;, &quot;https://m.media-amazon.com/images/I/41e4DFLxI1L._SL1001_.jpg&quot;, … &quot;https://m.media-amazon.com/images/I/51cM23C1FZL._SL1001_.jpg&quot;],[&quot;https://m.media-amazon.com/images/I/31cxNDwjJBL.jpg&quot;, &quot;https://m.media-amazon.com/images/I/31dDids-bKL.jpg&quot;, … &quot;https://m.media-amazon.com/images/I/41CIuy4mZ0L.jpg&quot;],[&quot;https://m.media-amazon.com/images/I/31cxNDwjJBL._SS40_.jpg&quot;, &quot;https://m.media-amazon.com/images/I/31dDids-bKL._SS40_.jpg&quot;, … &quot;https://m.media-amazon.com/images/I/41CIuy4mZ0L._SS40_.jpg&quot;],[&quot;MAIN&quot;, &quot;PT01&quot;, … &quot;PT06&quot;]}</td><td>{[&quot;&quot;L7 Realistic Mannequin Head &quot; - Watch before you buy&quot;, &quot;Great&quot;, … &quot;Great Quality!!!&quot;],[&quot;https://www.amazon.com/vdp/0745f4e49a24446a9ecdb460fe15cd50?ref=dp_vse_rvc_0&quot;, &quot;https://www.amazon.com/vdp/703fe57cb5c343f5bb55ce2d40e546bd?ref=dp_vse_rvc_1&quot;, … &quot;https://www.amazon.com/vdp/19fb1fe5a5f94b88ad5881b8d14eddf5?ref=dp_vse_rvc_9&quot;],[&quot;/shop/celestekiana&quot;, &quot;AHVLDO7UHX274F6GOSG4VDJAC4ZQ&quot;, … &quot;AEPR3XUU3ZTSCGD25G2HWSESJCLQ&quot;]}</td><td>&quot;L7 MANNEQUIN&quot;</td><td>[]</td><td>&quot;{&quot;Brand&quot;: &quot;L7 MANNEQUIN&quot;, &quot;Col…</td><td>null</td><td>null</td><td>null</td><td>&quot;L7 MANNEQUIN&quot;</td><td>8</td><td>2019</td></tr></tbody></table></div>"
      ],
      "text/plain": [
       "shape: (693_547, 28)\n",
       "┌────────┬─────────────┬─────────────┬─────────────┬───┬────────┬─────────────┬─────────────┬──────┐\n",
       "│ rating ┆ title       ┆ text        ┆ images      ┆ … ┆ author ┆ brand       ┆ review_leng ┆ year │\n",
       "│ ---    ┆ ---         ┆ ---         ┆ ---         ┆   ┆ ---    ┆ ---         ┆ th          ┆ ---  │\n",
       "│ f64    ┆ str         ┆ str         ┆ list[struct ┆   ┆ str    ┆ str         ┆ ---         ┆ i32  │\n",
       "│        ┆             ┆             ┆ [4]]        ┆   ┆        ┆             ┆ u32         ┆      │\n",
       "╞════════╪═════════════╪═════════════╪═════════════╪═══╪════════╪═════════════╪═════════════╪══════╡\n",
       "│ 5.0    ┆ Buy them    ┆ The are the ┆ []          ┆ … ┆ null   ┆ WillingTee  ┆ 17          ┆ 2020 │\n",
       "│        ┆             ┆ best hair   ┆             ┆   ┆        ┆             ┆             ┆      │\n",
       "│        ┆             ┆ ties. Ne…   ┆             ┆   ┆        ┆             ┆             ┆      │\n",
       "│ 1.0    ┆ It Rusted   ┆ I decide as ┆ []          ┆ … ┆ null   ┆ Artist      ┆ 45          ┆ 2020 │\n",
       "│        ┆ some        ┆ I wanted to ┆             ┆   ┆        ┆ Unknown     ┆             ┆      │\n",
       "│        ┆ Implements  ┆ try a …     ┆             ┆   ┆        ┆             ┆             ┆      │\n",
       "│ 5.0    ┆ OK2BUY      ┆ Beats       ┆ []          ┆ … ┆ null   ┆ Garnier     ┆ 5           ┆ 2017 │\n",
       "│        ┆             ┆ Walmart     ┆             ┆   ┆        ┆             ┆             ┆      │\n",
       "│        ┆             ┆ price,      ┆             ┆   ┆        ┆             ┆             ┆      │\n",
       "│        ┆             ┆ great pro…  ┆             ┆   ┆        ┆             ┆             ┆      │\n",
       "│ 5.0    ┆ I’m in love ┆ WOW! I      ┆ [{\"IMAGE\",\" ┆ … ┆ null   ┆ ronsaen     ┆ 103         ┆ 2020 │\n",
       "│        ┆ & Thank You ┆ NEVER write ┆ https://ima ┆   ┆        ┆             ┆             ┆      │\n",
       "│        ┆             ┆ reviews,    ┆ ges-na.s…   ┆   ┆        ┆             ┆             ┆      │\n",
       "│        ┆             ┆ bu…         ┆             ┆   ┆        ┆             ┆             ┆      │\n",
       "│ 5.0    ┆ Arrived on  ┆ Christmas   ┆ []          ┆ … ┆ null   ┆ b.m.c       ┆ 14          ┆ 2016 │\n",
       "│        ┆ time =      ┆ gift that   ┆             ┆   ┆        ┆             ┆             ┆      │\n",
       "│        ┆ Happy       ┆ was exactl… ┆             ┆   ┆        ┆             ┆             ┆      │\n",
       "│        ┆ Grandp…     ┆             ┆             ┆   ┆        ┆             ┆             ┆      │\n",
       "│ …      ┆ …           ┆ …           ┆ …           ┆ … ┆ …      ┆ …           ┆ …           ┆ …    │\n",
       "│ 3.0    ┆ Ok          ┆ A little    ┆ []          ┆ … ┆ null   ┆ SoooKu      ┆ 13          ┆ 2015 │\n",
       "│        ┆             ┆ painful if  ┆             ┆   ┆        ┆             ┆             ┆      │\n",
       "│        ┆             ┆ you wear t… ┆             ┆   ┆        ┆             ┆             ┆      │\n",
       "│ 3.0    ┆ It was very ┆ Ended up to ┆ []          ┆ … ┆ null   ┆ NAYOO       ┆ 8           ┆ 2021 │\n",
       "│        ┆ nice        ┆ be to long  ┆             ┆   ┆        ┆             ┆             ┆      │\n",
       "│        ┆             ┆ for me      ┆             ┆   ┆        ┆             ┆             ┆      │\n",
       "│ 5.0    ┆ Just as     ┆ Beautiful!  ┆ []          ┆ … ┆ null   ┆ Xuanli      ┆ 8           ┆ 2017 │\n",
       "│        ┆ beautiful   ┆ It was a    ┆             ┆   ┆        ┆             ┆             ┆      │\n",
       "│        ┆ as I        ┆ great an a… ┆             ┆   ┆        ┆             ┆             ┆      │\n",
       "│        ┆ expecte…    ┆             ┆             ┆   ┆        ┆             ┆             ┆      │\n",
       "│ 4.0    ┆ They do the ┆ They do the ┆ []          ┆ … ┆ null   ┆ Soft 'N     ┆ 30          ┆ 2017 │\n",
       "│        ┆ job, I am   ┆ job, I am   ┆             ┆   ┆        ┆ Style       ┆             ┆      │\n",
       "│        ┆ not sure…   ┆ not sure…   ┆             ┆   ┆        ┆             ┆             ┆      │\n",
       "│ 5.0    ┆ Pretty      ┆ You’ll like ┆ [{\"IMAGE\",\" ┆ … ┆ null   ┆ L7          ┆ 8           ┆ 2019 │\n",
       "│        ┆ Mannequin   ┆ her!        ┆ https://ima ┆   ┆        ┆ MANNEQUIN   ┆             ┆      │\n",
       "│        ┆             ┆ Perfect for ┆ ges-na.s…   ┆   ┆        ┆             ┆             ┆      │\n",
       "│        ┆             ┆ d…          ┆             ┆   ┆        ┆             ┆             ┆      │\n",
       "└────────┴─────────────┴─────────────┴─────────────┴───┴────────┴─────────────┴─────────────┴──────┘"
      ]
     },
     "execution_count": 23,
     "metadata": {},
     "output_type": "execute_result"
    }
   ],
   "source": [
    "df"
   ]
  }
 ],
 "metadata": {
  "kernelspec": {
   "display_name": "Python 3",
   "language": "python",
   "name": "python3"
  },
  "language_info": {
   "codemirror_mode": {
    "name": "ipython",
    "version": 3
   },
   "file_extension": ".py",
   "mimetype": "text/x-python",
   "name": "python",
   "nbconvert_exporter": "python",
   "pygments_lexer": "ipython3",
   "version": "3.11.3"
  }
 },
 "nbformat": 4,
 "nbformat_minor": 5
}
