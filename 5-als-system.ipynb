{
 "cells": [
  {
   "cell_type": "code",
   "execution_count": null,
   "id": "841601e6",
   "metadata": {},
   "outputs": [
    {
     "name": "stderr",
     "output_type": "stream",
     "text": [
      "c:\\Python312\\Lib\\site-packages\\IPython\\core\\magics\\osm.py:393: UserWarning: This is now an optional IPython functionality, using bookmarks requires you to install the `pickleshare` library.\n",
      "  bkms = self.shell.db.get('bookmarks', {})\n",
      "c:\\Python312\\Lib\\site-packages\\IPython\\core\\magics\\osm.py:417: UserWarning: This is now an optional IPython functionality, setting dhist requires you to install the `pickleshare` library.\n",
      "  self.shell.db['dhist'] = compress_dhist(dhist)[-100:]\n"
     ]
    },
    {
     "name": "stdout",
     "output_type": "stream",
     "text": [
      "C:\\Users\\loren\\Documents\\comp3610A3\n"
     ]
    },
    {
     "name": "stderr",
     "output_type": "stream",
     "text": [
      "c:\\Python312\\Lib\\site-packages\\tqdm\\auto.py:21: TqdmWarning: IProgress not found. Please update jupyter and ipywidgets. See https://ipywidgets.readthedocs.io/en/stable/user_install.html\n",
      "  from .autonotebook import tqdm as notebook_tqdm\n"
     ]
    }
   ],
   "source": [
    "%cd ~/Documents/comp3610A3/\n",
    "import polars as pl\n",
    "import numpy as np\n",
    "import implicit\n",
    "import polars as pl\n",
    "from sklearn.model_selection import train_test_split\n",
    "from sklearn.metrics import mean_squared_error"
   ]
  },
  {
   "cell_type": "code",
   "execution_count": 2,
   "id": "d4f3c576",
   "metadata": {},
   "outputs": [
    {
     "data": {
      "text/html": [
       "<div><style>\n",
       ".dataframe > thead > tr,\n",
       ".dataframe > tbody > tr {\n",
       "  text-align: right;\n",
       "  white-space: pre-wrap;\n",
       "}\n",
       "</style>\n",
       "<small>shape: (186_362, 28)</small><table border=\"1\" class=\"dataframe\"><thead><tr><th>rating</th><th>title</th><th>text</th><th>images</th><th>asin</th><th>parent_asin</th><th>user_id</th><th>timestamp</th><th>helpful_vote</th><th>verified_purchase</th><th>review_length</th><th>year</th><th>main_category</th><th>title_right</th><th>average_rating</th><th>rating_number</th><th>features</th><th>description</th><th>price</th><th>images_right</th><th>videos</th><th>store</th><th>categories</th><th>details</th><th>bought_together</th><th>subtitle</th><th>author</th><th>brand</th></tr><tr><td>f64</td><td>str</td><td>str</td><td>list[struct[4]]</td><td>str</td><td>str</td><td>str</td><td>i64</td><td>i64</td><td>bool</td><td>u32</td><td>i32</td><td>str</td><td>str</td><td>f64</td><td>i64</td><td>list[str]</td><td>list[str]</td><td>str</td><td>struct[4]</td><td>struct[3]</td><td>str</td><td>list[str]</td><td>str</td><td>str</td><td>str</td><td>str</td><td>str</td></tr></thead><tbody><tr><td>5.0</td><td>&quot;Giftcard&quot;</td><td>&quot;What can you say about a gift …</td><td>[]</td><td>&quot;B084RMVP59&quot;</td><td>&quot;B07YYWDPSM&quot;</td><td>&quot;AH4O5W3EM4CKQGHMBVTSPCJRYF7Q&quot;</td><td>1597503033721</td><td>1</td><td>true</td><td>27</td><td>2020</td><td>&quot;Gift Cards&quot;</td><td>&quot;DoorDash Gift Card&quot;</td><td>4.9</td><td>5202</td><td>[&quot;A huge selection of cuisines &amp; restaurants&quot;, &quot;Easy ordering &amp; real-time tracking&quot;, … &quot;No returns and no refunds on gift cards.&quot;]</td><td>[&quot;Delicious, delivered&quot;]</td><td>&quot;100.0&quot;</td><td>{[&quot;https://m.media-amazon.com/images/I/61QvFO0czTL._SL1500_.jpg&quot;],[&quot;https://m.media-amazon.com/images/I/31jTAbMltAL.jpg&quot;],[&quot;https://m.media-amazon.com/images/I/31jTAbMltAL._SX38_SY50_CR,0,0,38,50_.jpg&quot;],[&quot;MAIN&quot;]}</td><td>{[&quot;DoorDash Gift Cards: Digital Code vs Physical Card&quot;, &quot;DoorDash Gift Card&quot;, &quot;This makes it so easy &quot;],[&quot;https://www.amazon.com/vdp/03e6795b56804439be597aa6a7dc834b?ref=dp_vse_rvc_0&quot;, &quot;https://www.amazon.com/vdp/01390d82ffd7440192e71a3e658732c0?ref=dp_vse_rvc_1&quot;, &quot;https://www.amazon.com/vdp/02885993773b43a8acc253b4afc32e43?ref=dp_vse_rvc_2&quot;],[&quot;/shop/videozeus&quot;, &quot;/shop/influencer-dcb4065c&quot;, &quot;/shop/influencer-6173e0bf&quot;]}</td><td>&quot;DoorDash&quot;</td><td>[&quot;Gift Cards&quot;, &quot;Gift Card Categories&quot;, &quot;Specialty Cards&quot;]</td><td>&quot;{&quot;Package Dimensions&quot;: &quot;5.24 x…</td><td>null</td><td>null</td><td>null</td><td>&quot;DoorDash&quot;</td></tr><tr><td>5.0</td><td>&quot;Its easy&quot;</td><td>&quot;Its a reload. Simple easy to s…</td><td>[]</td><td>&quot;B00IX1I3G6&quot;</td><td>&quot;B00IX1I3G6&quot;</td><td>&quot;AFWRGOGF4AI2IHRX7KZ2IYL63RXA&quot;</td><td>1556553142698</td><td>0</td><td>true</td><td>11</td><td>2019</td><td>null</td><td>&quot;Amazon Reload&quot;</td><td>4.7</td><td>143309</td><td>[&quot;Add funds to your Amazon Gift Card balance, then use your balance to manage how much you spend while shopping.&quot;, &quot;Save up for a purchase by adding funds to your Gift Card balance.&quot;, … &quot;Amazon Reload purchases are not refundable or redeemable for cash, except as required by law.&quot;]</td><td>[]</td><td>&quot;None&quot;</td><td>{[null, null],[&quot;https://m.media-amazon.com/images/I/41rPcyZJ3nL._AC_.jpg&quot;, &quot;https://m.media-amazon.com/images/I/41sQl2wriGL._AC_.jpg&quot;],[&quot;https://m.media-amazon.com/images/I/41rPcyZJ3nL._AC_SR38,50_.jpg&quot;, &quot;https://m.media-amazon.com/images/I/41sQl2wriGL._AC_SR38,50_.jpg&quot;],[&quot;MAIN&quot;, &quot;PT01&quot;]}</td><td>{[&quot;Very easy to do!!&quot;],[&quot;https://www.amazon.com/vdp/0a8f8f3b9f5b409896b362a927a00de1?ref=dp_vse_rvc_0&quot;],[&quot;AGVDC7ODZHCRVYN5D3MC42IBPVJA&quot;]}</td><td>&quot;Amazon&quot;</td><td>[&quot;Gift Cards&quot;, &quot;Gift Card Recipients&quot;, &quot;For Him&quot;]</td><td>&quot;{&quot;Item model number&quot;: &quot;Variabl…</td><td>null</td><td>null</td><td>null</td><td>&quot;Amazon&quot;</td></tr><tr><td>5.0</td><td>&quot;Awesome&quot;</td><td>&quot;Awesome&quot;</td><td>[]</td><td>&quot;B00IX1I3G6&quot;</td><td>&quot;B00IX1I3G6&quot;</td><td>&quot;AEWFVIOCFNLCKBSIGVJR4W3VD4UA&quot;</td><td>1626627030269</td><td>0</td><td>true</td><td>1</td><td>2021</td><td>null</td><td>&quot;Amazon Reload&quot;</td><td>4.7</td><td>143309</td><td>[&quot;Add funds to your Amazon Gift Card balance, then use your balance to manage how much you spend while shopping.&quot;, &quot;Save up for a purchase by adding funds to your Gift Card balance.&quot;, … &quot;Amazon Reload purchases are not refundable or redeemable for cash, except as required by law.&quot;]</td><td>[]</td><td>&quot;None&quot;</td><td>{[null, null],[&quot;https://m.media-amazon.com/images/I/41rPcyZJ3nL._AC_.jpg&quot;, &quot;https://m.media-amazon.com/images/I/41sQl2wriGL._AC_.jpg&quot;],[&quot;https://m.media-amazon.com/images/I/41rPcyZJ3nL._AC_SR38,50_.jpg&quot;, &quot;https://m.media-amazon.com/images/I/41sQl2wriGL._AC_SR38,50_.jpg&quot;],[&quot;MAIN&quot;, &quot;PT01&quot;]}</td><td>{[&quot;Very easy to do!!&quot;],[&quot;https://www.amazon.com/vdp/0a8f8f3b9f5b409896b362a927a00de1?ref=dp_vse_rvc_0&quot;],[&quot;AGVDC7ODZHCRVYN5D3MC42IBPVJA&quot;]}</td><td>&quot;Amazon&quot;</td><td>[&quot;Gift Cards&quot;, &quot;Gift Card Recipients&quot;, &quot;For Him&quot;]</td><td>&quot;{&quot;Item model number&quot;: &quot;Variabl…</td><td>null</td><td>null</td><td>null</td><td>&quot;Amazon&quot;</td></tr><tr><td>4.0</td><td>&quot;Works as expected&quot;</td><td>&quot;Not much to say, I paid for it…</td><td>[]</td><td>&quot;B00IX1I3G6&quot;</td><td>&quot;B00IX1I3G6&quot;</td><td>&quot;AHNOLQG5SZLLNGPOF3GAVRMQMQDQ&quot;</td><td>1514066923558</td><td>0</td><td>true</td><td>17</td><td>2017</td><td>null</td><td>&quot;Amazon Reload&quot;</td><td>4.7</td><td>143309</td><td>[&quot;Add funds to your Amazon Gift Card balance, then use your balance to manage how much you spend while shopping.&quot;, &quot;Save up for a purchase by adding funds to your Gift Card balance.&quot;, … &quot;Amazon Reload purchases are not refundable or redeemable for cash, except as required by law.&quot;]</td><td>[]</td><td>&quot;None&quot;</td><td>{[null, null],[&quot;https://m.media-amazon.com/images/I/41rPcyZJ3nL._AC_.jpg&quot;, &quot;https://m.media-amazon.com/images/I/41sQl2wriGL._AC_.jpg&quot;],[&quot;https://m.media-amazon.com/images/I/41rPcyZJ3nL._AC_SR38,50_.jpg&quot;, &quot;https://m.media-amazon.com/images/I/41sQl2wriGL._AC_SR38,50_.jpg&quot;],[&quot;MAIN&quot;, &quot;PT01&quot;]}</td><td>{[&quot;Very easy to do!!&quot;],[&quot;https://www.amazon.com/vdp/0a8f8f3b9f5b409896b362a927a00de1?ref=dp_vse_rvc_0&quot;],[&quot;AGVDC7ODZHCRVYN5D3MC42IBPVJA&quot;]}</td><td>&quot;Amazon&quot;</td><td>[&quot;Gift Cards&quot;, &quot;Gift Card Recipients&quot;, &quot;For Him&quot;]</td><td>&quot;{&quot;Item model number&quot;: &quot;Variabl…</td><td>null</td><td>null</td><td>null</td><td>&quot;Amazon&quot;</td></tr><tr><td>5.0</td><td>&quot;Great product&quot;</td><td>&quot;Good item&quot;</td><td>[]</td><td>&quot;B0719C5P56&quot;</td><td>&quot;B0719C5P56&quot;</td><td>&quot;AGNCDIQEN6QZ4H6KRJNYIAKZJCMA&quot;</td><td>1556280954746</td><td>0</td><td>true</td><td>2</td><td>2019</td><td>&quot;Gift Cards&quot;</td><td>&quot;Amazon.com Gift Card in a Holi…</td><td>4.9</td><td>73333</td><td>[&quot;Gift Card is affixed inside a gift box&quot;, &quot;Gift amount may not be printed on Gift Cards&quot;, … &quot;Customized gift message, if chosen at check-out, only appears on packing slip and not on the actual gift card or carrier&quot;]</td><td>[&quot;Amazon.com Gift Cards are the perfect way to give them exactly what they&#x27;re hoping for - even if you don&#x27;t know what it is. Amazon.com Gift Cards are redeemable for millions of items across Amazon.com. Item delivered is a single physical Amazon.com Gift Card nested inside or with a free gift accessory.&quot;]</td><td>&quot;50.0&quot;</td><td>{[&quot;https://m.media-amazon.com/images/I/81oLL0eq6CL._SL1500_.jpg&quot;, &quot;https://m.media-amazon.com/images/I/81lefNHX7yL._SL1500_.jpg&quot;, … null],[&quot;https://m.media-amazon.com/images/I/51mmJRlEgwL.jpg&quot;, &quot;https://m.media-amazon.com/images/I/51-U9qdGZ0L.jpg&quot;, … &quot;https://m.media-amazon.com/images/I/3130SoFpKNL.jpg&quot;],[&quot;https://m.media-amazon.com/images/I/51mmJRlEgwL._SX38_SY50_CR,0,0,38,50_.jpg&quot;, &quot;https://m.media-amazon.com/images/I/51-U9qdGZ0L._SX38_SY50_CR,0,0,38,50_.jpg&quot;, … &quot;https://m.media-amazon.com/images/I/3130SoFpKNL._SX38_SY50_CR,0,0,38,50_.jpg&quot;],[&quot;MAIN&quot;, &quot;PT01&quot;, … &quot;PT12&quot;]}</td><td>{[&quot;Boxed Gift Card! Awesome last Minute Item! &quot;, &quot;Amazing&quot;, … &quot;Card&quot;],[&quot;https://www.amazon.com/vdp/0bcc6bba34ae4863921c053e9af955e0?ref=dp_vse_rvc_0&quot;, &quot;https://www.amazon.com/vdp/0f847c6682b54da5a8af20db5195b5dc?ref=dp_vse_rvc_1&quot;, … &quot;https://www.amazon.com/vdp/0d83675deb1744198b12c358537395c1?ref=dp_vse_rvc_6&quot;],[&quot;/shop/randyamerica&quot;, &quot;AEWO4TDJSZQTPC66DK7XIKUJWEZQ&quot;, … &quot;AEOG7RTNR3BO65UTY2WAL7VVU4GQ&quot;]}</td><td>&quot;Amazon&quot;</td><td>[&quot;Gift Cards&quot;, &quot;Occasions&quot;, &quot;Christmas&quot;]</td><td>&quot;{&quot;Package Dimensions&quot;: &quot;4.65 x…</td><td>null</td><td>null</td><td>null</td><td>&quot;Amazon&quot;</td></tr><tr><td>&hellip;</td><td>&hellip;</td><td>&hellip;</td><td>&hellip;</td><td>&hellip;</td><td>&hellip;</td><td>&hellip;</td><td>&hellip;</td><td>&hellip;</td><td>&hellip;</td><td>&hellip;</td><td>&hellip;</td><td>&hellip;</td><td>&hellip;</td><td>&hellip;</td><td>&hellip;</td><td>&hellip;</td><td>&hellip;</td><td>&hellip;</td><td>&hellip;</td><td>&hellip;</td><td>&hellip;</td><td>&hellip;</td><td>&hellip;</td><td>&hellip;</td><td>&hellip;</td><td>&hellip;</td><td>&hellip;</td></tr><tr><td>1.0</td><td>&quot;beware of animals&quot;</td><td>&quot;I said BEWARE if u dare&quot;</td><td>[]</td><td>&quot;B07W47FXKB&quot;</td><td>&quot;B07W47FXKB&quot;</td><td>&quot;AHYBKYXJ2V7BXT5QBWVFDF22FK7Q&quot;</td><td>1644034277474</td><td>0</td><td>false</td><td>6</td><td>2022</td><td>&quot;Magazine Subscriptions&quot;</td><td>&quot;Zoobooks&nbsp;&nbsp;&nbsp;&nbsp;Print Magazine&quot;</td><td>4.6</td><td>216</td><td>[]</td><td>[&quot;Simply written and beautifully illustrated. Each monthly issue &quot;captures&quot; one of 60 different animals through magnificent photography, illustrations, diagrams, descriptions and includes interactive activity pages. Kids get &quot;up close and personal&quot; with the world&#x27;s most amazing creatures.&quot;]</td><td>&quot;None&quot;</td><td>{[null],[&quot;https://m.media-amazon.com/images/I/61MXBwYIOuL._AC_.jpg&quot;],[&quot;https://m.media-amazon.com/images/I/61MXBwYIOuL._AC_SR38,50_.jpg&quot;],[&quot;MAIN&quot;]}</td><td>{[],[],[]}</td><td>&quot;National Wildlife Federation&quot;</td><td>[&quot;Magazine Subscriptions&quot;, &quot;Children &amp; Teen&quot;, &quot;Children&quot;]</td><td>&quot;{&quot;Date First Available&quot;: &quot;Augu…</td><td>null</td><td>null</td><td>null</td><td>&quot;National Wildlife Federation&quot;</td></tr><tr><td>3.0</td><td>&quot;With No Other Options Availabl…</td><td>&quot;The problem with Vibe magazine…</td><td>[]</td><td>&quot;B00005N7TE&quot;</td><td>&quot;B00005N7TE&quot;</td><td>&quot;AHICCIUJBEPRYOIXERVN2MY3T7ZQ&quot;</td><td>1175773706000</td><td>2</td><td>false</td><td>90</td><td>2007</td><td>&quot;Magazine Subscriptions&quot;</td><td>&quot;Vibe&quot;</td><td>3.1</td><td>27</td><td>[]</td><td>[]</td><td>&quot;None&quot;</td><td>{[null, null, … null],[&quot;https://m.media-amazon.com/images/I/516iK9vMb-L._AC_.jpg&quot;, &quot;https://m.media-amazon.com/images/I/51Kuj4o1YTL._AC_.jpg&quot;, … &quot;https://m.media-amazon.com/images/I/51BH6Y0TP1L._AC_.jpg&quot;],[&quot;https://m.media-amazon.com/images/I/516iK9vMb-L._AC_SR38,50_.jpg&quot;, &quot;https://m.media-amazon.com/images/I/51Kuj4o1YTL._AC_SR38,50_.jpg&quot;, … &quot;https://m.media-amazon.com/images/I/51BH6Y0TP1L._AC_SR38,50_.jpg&quot;],[&quot;MAIN&quot;, &quot;PT01&quot;, … &quot;PT08&quot;]}</td><td>{[],[],[]}</td><td>null</td><td>[]</td><td>&quot;{&quot;Date First Available&quot;: &quot;Apri…</td><td>null</td><td>null</td><td>null</td><td>&quot;Unknown&quot;</td></tr><tr><td>1.0</td><td>&quot;Disappointed&quot;</td><td>&quot;Can not cancel subscription!!!…</td><td>[]</td><td>&quot;B07W47CSBF&quot;</td><td>&quot;B07W47CSBF&quot;</td><td>&quot;AESB46UUBOGFZQP3GZ6GVTFUYUEQ&quot;</td><td>1663357042934</td><td>2</td><td>true</td><td>4</td><td>2022</td><td>&quot;Magazine Subscriptions&quot;</td><td>&quot;Ranger Rick Dinosaurs&nbsp;&nbsp;&nbsp;&nbsp;Print…</td><td>4.4</td><td>132</td><td>[]</td><td>[&quot;With Zoodinos, dinosaurs come alive on the page, with each edition following the award-winning Zoobooks approach: combining carefully-researched concepts, facts, and theories with scientifically correct illustrations and vibrant photos. Simple, interactive text encourages discussion and learning. Ages 5 and up&quot;]</td><td>&quot;None&quot;</td><td>{[null],[&quot;https://m.media-amazon.com/images/I/617PrzG8qaL._AC_.jpg&quot;],[&quot;https://m.media-amazon.com/images/I/617PrzG8qaL._AC_SR38,50_.jpg&quot;],[&quot;MAIN&quot;]}</td><td>{[],[],[]}</td><td>&quot;National Wildlife Federation&quot;</td><td>[&quot;Magazine Subscriptions&quot;, &quot;Children &amp; Teen&quot;, &quot;Children&quot;]</td><td>&quot;{&quot;Date First Available&quot;: &quot;Augu…</td><td>null</td><td>null</td><td>null</td><td>&quot;National Wildlife Federation&quot;</td></tr><tr><td>1.0</td><td>&quot;You have to get lucky in the l…</td><td>&quot;I never got my free scarf, and…</td><td>[]</td><td>&quot;B00HG1BP3M&quot;</td><td>&quot;B00HG1BP3M&quot;</td><td>&quot;AFE4IWEZX2JRUZRGNJHONT423URQ&quot;</td><td>1432523253000</td><td>2</td><td>true</td><td>59</td><td>2015</td><td>&quot;Magazine Subscriptions&quot;</td><td>&quot;Lucky All Access + Free Scarf …</td><td>3.1</td><td>61</td><td>[]</td><td>[]</td><td>&quot;None&quot;</td><td>{[&quot;https://m.media-amazon.com/images/I/71YVO2Erw0L._AC_SL1000_.jpg&quot;, &quot;https://m.media-amazon.com/images/I/71LMG1PbozL._AC_SL1000_.jpg&quot;, … null],[&quot;https://m.media-amazon.com/images/I/51t8Ua9XAQL._AC_.jpg&quot;, &quot;https://m.media-amazon.com/images/I/516unsqHe2L._AC_.jpg&quot;, … &quot;https://m.media-amazon.com/images/I/51PYCHEx0LL._AC_.jpg&quot;],[&quot;https://m.media-amazon.com/images/I/51t8Ua9XAQL._AC_SR38,50_.jpg&quot;, &quot;https://m.media-amazon.com/images/I/516unsqHe2L._AC_SR38,50_.jpg&quot;, … &quot;https://m.media-amazon.com/images/I/51PYCHEx0LL._AC_SR38,50_.jpg&quot;],[&quot;MAIN&quot;, &quot;PT01&quot;, … &quot;PT05&quot;]}</td><td>{[],[],[]}</td><td>&quot;Conde Nast&quot;</td><td>[&quot;Magazine Subscriptions&quot;, &quot;Business &amp; Investing&quot;, &quot;International&quot;]</td><td>&quot;{&quot;Date First Available&quot;: &quot;June…</td><td>null</td><td>null</td><td>null</td><td>&quot;Conde Nast&quot;</td></tr><tr><td>5.0</td><td>&quot;Five Stars&quot;</td><td>&quot;It a was filled with lots of v…</td><td>[]</td><td>&quot;B00006KWTM&quot;</td><td>&quot;B00006KWTM&quot;</td><td>&quot;AHRBK36LVD5EAES7GRBSUUDTWPDQ&quot;</td><td>1521066063393</td><td>0</td><td>true</td><td>10</td><td>2018</td><td>&quot;Magazine Subscriptions&quot;</td><td>&quot;Sheep Magazine&nbsp;&nbsp;&nbsp;&nbsp;Print Magazi…</td><td>3.4</td><td>8</td><td>[]</td><td>[&quot;For those interested in raising sheep for fun and profit.&quot;]</td><td>&quot;None&quot;</td><td>{[null],[&quot;https://m.media-amazon.com/images/I/61-lnhyVuwL._AC_.jpg&quot;],[&quot;https://m.media-amazon.com/images/I/61-lnhyVuwL._AC_SR38,50_.jpg&quot;],[&quot;MAIN&quot;]}</td><td>{[],[],[]}</td><td>&quot;Countryside Publications Ltd&quot;</td><td>[&quot;Magazine Subscriptions&quot;, &quot;Professional &amp; Educational Journals&quot;, … &quot;Earth Sciences&quot;]</td><td>&quot;{&quot;Date First Available&quot;: &quot;July…</td><td>null</td><td>null</td><td>null</td><td>&quot;Countryside Publications Ltd&quot;</td></tr></tbody></table></div>"
      ],
      "text/plain": [
       "shape: (186_362, 28)\n",
       "┌────────┬─────────────┬────────────┬────────────┬───┬────────────┬──────────┬────────┬────────────┐\n",
       "│ rating ┆ title       ┆ text       ┆ images     ┆ … ┆ bought_tog ┆ subtitle ┆ author ┆ brand      │\n",
       "│ ---    ┆ ---         ┆ ---        ┆ ---        ┆   ┆ ether      ┆ ---      ┆ ---    ┆ ---        │\n",
       "│ f64    ┆ str         ┆ str        ┆ list[struc ┆   ┆ ---        ┆ str      ┆ str    ┆ str        │\n",
       "│        ┆             ┆            ┆ t[4]]      ┆   ┆ str        ┆          ┆        ┆            │\n",
       "╞════════╪═════════════╪════════════╪════════════╪═══╪════════════╪══════════╪════════╪════════════╡\n",
       "│ 5.0    ┆ Giftcard    ┆ What can   ┆ []         ┆ … ┆ null       ┆ null     ┆ null   ┆ DoorDash   │\n",
       "│        ┆             ┆ you say    ┆            ┆   ┆            ┆          ┆        ┆            │\n",
       "│        ┆             ┆ about a    ┆            ┆   ┆            ┆          ┆        ┆            │\n",
       "│        ┆             ┆ gift …     ┆            ┆   ┆            ┆          ┆        ┆            │\n",
       "│ 5.0    ┆ Its easy    ┆ Its a      ┆ []         ┆ … ┆ null       ┆ null     ┆ null   ┆ Amazon     │\n",
       "│        ┆             ┆ reload.    ┆            ┆   ┆            ┆          ┆        ┆            │\n",
       "│        ┆             ┆ Simple     ┆            ┆   ┆            ┆          ┆        ┆            │\n",
       "│        ┆             ┆ easy to s… ┆            ┆   ┆            ┆          ┆        ┆            │\n",
       "│ 5.0    ┆ Awesome     ┆ Awesome    ┆ []         ┆ … ┆ null       ┆ null     ┆ null   ┆ Amazon     │\n",
       "│ 4.0    ┆ Works as    ┆ Not much   ┆ []         ┆ … ┆ null       ┆ null     ┆ null   ┆ Amazon     │\n",
       "│        ┆ expected    ┆ to say, I  ┆            ┆   ┆            ┆          ┆        ┆            │\n",
       "│        ┆             ┆ paid for   ┆            ┆   ┆            ┆          ┆        ┆            │\n",
       "│        ┆             ┆ it…        ┆            ┆   ┆            ┆          ┆        ┆            │\n",
       "│ 5.0    ┆ Great       ┆ Good item  ┆ []         ┆ … ┆ null       ┆ null     ┆ null   ┆ Amazon     │\n",
       "│        ┆ product     ┆            ┆            ┆   ┆            ┆          ┆        ┆            │\n",
       "│ …      ┆ …           ┆ …          ┆ …          ┆ … ┆ …          ┆ …        ┆ …      ┆ …          │\n",
       "│ 1.0    ┆ beware of   ┆ I said     ┆ []         ┆ … ┆ null       ┆ null     ┆ null   ┆ National   │\n",
       "│        ┆ animals     ┆ BEWARE if  ┆            ┆   ┆            ┆          ┆        ┆ Wildlife   │\n",
       "│        ┆             ┆ u dare     ┆            ┆   ┆            ┆          ┆        ┆ Federation │\n",
       "│ 3.0    ┆ With No     ┆ The        ┆ []         ┆ … ┆ null       ┆ null     ┆ null   ┆ Unknown    │\n",
       "│        ┆ Other       ┆ problem    ┆            ┆   ┆            ┆          ┆        ┆            │\n",
       "│        ┆ Options     ┆ with Vibe  ┆            ┆   ┆            ┆          ┆        ┆            │\n",
       "│        ┆ Availabl…   ┆ magazine…  ┆            ┆   ┆            ┆          ┆        ┆            │\n",
       "│ 1.0    ┆ Disappointe ┆ Can not    ┆ []         ┆ … ┆ null       ┆ null     ┆ null   ┆ National   │\n",
       "│        ┆ d           ┆ cancel sub ┆            ┆   ┆            ┆          ┆        ┆ Wildlife   │\n",
       "│        ┆             ┆ scription! ┆            ┆   ┆            ┆          ┆        ┆ Federation │\n",
       "│        ┆             ┆ !!…        ┆            ┆   ┆            ┆          ┆        ┆            │\n",
       "│ 1.0    ┆ You have to ┆ I never    ┆ []         ┆ … ┆ null       ┆ null     ┆ null   ┆ Conde Nast │\n",
       "│        ┆ get lucky   ┆ got my     ┆            ┆   ┆            ┆          ┆        ┆            │\n",
       "│        ┆ in the l…   ┆ free       ┆            ┆   ┆            ┆          ┆        ┆            │\n",
       "│        ┆             ┆ scarf,     ┆            ┆   ┆            ┆          ┆        ┆            │\n",
       "│        ┆             ┆ and…       ┆            ┆   ┆            ┆          ┆        ┆            │\n",
       "│ 5.0    ┆ Five Stars  ┆ It a was   ┆ []         ┆ … ┆ null       ┆ null     ┆ null   ┆ Countrysid │\n",
       "│        ┆             ┆ filled     ┆            ┆   ┆            ┆          ┆        ┆ e Publicat │\n",
       "│        ┆             ┆ with lots  ┆            ┆   ┆            ┆          ┆        ┆ ions Ltd   │\n",
       "│        ┆             ┆ of v…      ┆            ┆   ┆            ┆          ┆        ┆            │\n",
       "└────────┴─────────────┴────────────┴────────────┴───┴────────────┴──────────┴────────┴────────────┘"
      ]
     },
     "execution_count": 2,
     "metadata": {},
     "output_type": "execute_result"
    }
   ],
   "source": [
    "from amazon.constants import TEST_CATEGORIES\n",
    "\n",
    "\n",
    "df: pl.DataFrame = pl.concat([\n",
    "    pl.read_parquet(f\"data/intermediate/{category}.parquet\")\n",
    "    for category in TEST_CATEGORIES\n",
    "])\n",
    "df"
   ]
  },
  {
   "cell_type": "code",
   "execution_count": 3,
   "id": "5505bd41",
   "metadata": {},
   "outputs": [
    {
     "data": {
      "text/html": [
       "<div><style>\n",
       ".dataframe > thead > tr,\n",
       ".dataframe > tbody > tr {\n",
       "  text-align: right;\n",
       "  white-space: pre-wrap;\n",
       "}\n",
       "</style>\n",
       "<small>shape: (186_362, 3)</small><table border=\"1\" class=\"dataframe\"><thead><tr><th>user_id</th><th>asin</th><th>rating</th></tr><tr><td>str</td><td>str</td><td>f64</td></tr></thead><tbody><tr><td>&quot;AH4O5W3EM4CKQGHMBVTSPCJRYF7Q&quot;</td><td>&quot;B084RMVP59&quot;</td><td>5.0</td></tr><tr><td>&quot;AFWRGOGF4AI2IHRX7KZ2IYL63RXA&quot;</td><td>&quot;B00IX1I3G6&quot;</td><td>5.0</td></tr><tr><td>&quot;AEWFVIOCFNLCKBSIGVJR4W3VD4UA&quot;</td><td>&quot;B00IX1I3G6&quot;</td><td>5.0</td></tr><tr><td>&quot;AHNOLQG5SZLLNGPOF3GAVRMQMQDQ&quot;</td><td>&quot;B00IX1I3G6&quot;</td><td>4.0</td></tr><tr><td>&quot;AGNCDIQEN6QZ4H6KRJNYIAKZJCMA&quot;</td><td>&quot;B0719C5P56&quot;</td><td>5.0</td></tr><tr><td>&hellip;</td><td>&hellip;</td><td>&hellip;</td></tr><tr><td>&quot;AHYBKYXJ2V7BXT5QBWVFDF22FK7Q&quot;</td><td>&quot;B07W47FXKB&quot;</td><td>1.0</td></tr><tr><td>&quot;AHICCIUJBEPRYOIXERVN2MY3T7ZQ&quot;</td><td>&quot;B00005N7TE&quot;</td><td>3.0</td></tr><tr><td>&quot;AESB46UUBOGFZQP3GZ6GVTFUYUEQ&quot;</td><td>&quot;B07W47CSBF&quot;</td><td>1.0</td></tr><tr><td>&quot;AFE4IWEZX2JRUZRGNJHONT423URQ&quot;</td><td>&quot;B00HG1BP3M&quot;</td><td>1.0</td></tr><tr><td>&quot;AHRBK36LVD5EAES7GRBSUUDTWPDQ&quot;</td><td>&quot;B00006KWTM&quot;</td><td>5.0</td></tr></tbody></table></div>"
      ],
      "text/plain": [
       "shape: (186_362, 3)\n",
       "┌──────────────────────────────┬────────────┬────────┐\n",
       "│ user_id                      ┆ asin       ┆ rating │\n",
       "│ ---                          ┆ ---        ┆ ---    │\n",
       "│ str                          ┆ str        ┆ f64    │\n",
       "╞══════════════════════════════╪════════════╪════════╡\n",
       "│ AH4O5W3EM4CKQGHMBVTSPCJRYF7Q ┆ B084RMVP59 ┆ 5.0    │\n",
       "│ AFWRGOGF4AI2IHRX7KZ2IYL63RXA ┆ B00IX1I3G6 ┆ 5.0    │\n",
       "│ AEWFVIOCFNLCKBSIGVJR4W3VD4UA ┆ B00IX1I3G6 ┆ 5.0    │\n",
       "│ AHNOLQG5SZLLNGPOF3GAVRMQMQDQ ┆ B00IX1I3G6 ┆ 4.0    │\n",
       "│ AGNCDIQEN6QZ4H6KRJNYIAKZJCMA ┆ B0719C5P56 ┆ 5.0    │\n",
       "│ …                            ┆ …          ┆ …      │\n",
       "│ AHYBKYXJ2V7BXT5QBWVFDF22FK7Q ┆ B07W47FXKB ┆ 1.0    │\n",
       "│ AHICCIUJBEPRYOIXERVN2MY3T7ZQ ┆ B00005N7TE ┆ 3.0    │\n",
       "│ AESB46UUBOGFZQP3GZ6GVTFUYUEQ ┆ B07W47CSBF ┆ 1.0    │\n",
       "│ AFE4IWEZX2JRUZRGNJHONT423URQ ┆ B00HG1BP3M ┆ 1.0    │\n",
       "│ AHRBK36LVD5EAES7GRBSUUDTWPDQ ┆ B00006KWTM ┆ 5.0    │\n",
       "└──────────────────────────────┴────────────┴────────┘"
      ]
     },
     "execution_count": 3,
     "metadata": {},
     "output_type": "execute_result"
    }
   ],
   "source": [
    "df = df[\"user_id\", \"asin\", \"rating\"]\n",
    "df"
   ]
  },
  {
   "cell_type": "code",
   "execution_count": 4,
   "id": "dbcd3447",
   "metadata": {},
   "outputs": [
    {
     "data": {
      "text/html": [
       "<div><style>\n",
       ".dataframe > thead > tr,\n",
       ".dataframe > tbody > tr {\n",
       "  text-align: right;\n",
       "  white-space: pre-wrap;\n",
       "}\n",
       "</style>\n",
       "<small>shape: (7_344, 3)</small><table border=\"1\" class=\"dataframe\"><thead><tr><th>user_id</th><th>asin</th><th>rating</th></tr><tr><td>str</td><td>str</td><td>f64</td></tr></thead><tbody><tr><td>&quot;AFC2DAKRFMKGNS5XXFUKY5P7TZCQ&quot;</td><td>&quot;B0719C5P56&quot;</td><td>5.0</td></tr><tr><td>&quot;AE3XHOX3OBSVFXACAPNFMKSUWR5Q&quot;</td><td>&quot;B01IE42XY4&quot;</td><td>5.0</td></tr><tr><td>&quot;AF4OCZTPFHXZKUTAGP6CAOCMWPAA&quot;</td><td>&quot;B00BXLVAQS&quot;</td><td>4.0</td></tr><tr><td>&quot;AHQP6NAQN7KH5FDNWW6OIZPLR6GQ&quot;</td><td>&quot;B0092KBPOE&quot;</td><td>5.0</td></tr><tr><td>&quot;AFMHO73ZLBHUMB36EHB4GUFLM3SA&quot;</td><td>&quot;B00FTGTM5E&quot;</td><td>5.0</td></tr><tr><td>&hellip;</td><td>&hellip;</td><td>&hellip;</td></tr><tr><td>&quot;AG7EBPTERQ46SXW6D4KNWI7HYOBA&quot;</td><td>&quot;B0061SHL02&quot;</td><td>5.0</td></tr><tr><td>&quot;AG7EBPTERQ46SXW6D4KNWI7HYOBA&quot;</td><td>&quot;B00006KFT2&quot;</td><td>5.0</td></tr><tr><td>&quot;AFLJYXZHFK5HSBG2TK66NPBV6IJQ&quot;</td><td>&quot;B001THPA1W&quot;</td><td>5.0</td></tr><tr><td>&quot;AGUXPIS4IDI6B7KX5YGZBQATFNZA&quot;</td><td>&quot;B01N702LLM&quot;</td><td>5.0</td></tr><tr><td>&quot;AGF6QN3O3RLQR3DL6IQF4XL2NLUQ&quot;</td><td>&quot;B002PXW15C&quot;</td><td>5.0</td></tr></tbody></table></div>"
      ],
      "text/plain": [
       "shape: (7_344, 3)\n",
       "┌──────────────────────────────┬────────────┬────────┐\n",
       "│ user_id                      ┆ asin       ┆ rating │\n",
       "│ ---                          ┆ ---        ┆ ---    │\n",
       "│ str                          ┆ str        ┆ f64    │\n",
       "╞══════════════════════════════╪════════════╪════════╡\n",
       "│ AFC2DAKRFMKGNS5XXFUKY5P7TZCQ ┆ B0719C5P56 ┆ 5.0    │\n",
       "│ AE3XHOX3OBSVFXACAPNFMKSUWR5Q ┆ B01IE42XY4 ┆ 5.0    │\n",
       "│ AF4OCZTPFHXZKUTAGP6CAOCMWPAA ┆ B00BXLVAQS ┆ 4.0    │\n",
       "│ AHQP6NAQN7KH5FDNWW6OIZPLR6GQ ┆ B0092KBPOE ┆ 5.0    │\n",
       "│ AFMHO73ZLBHUMB36EHB4GUFLM3SA ┆ B00FTGTM5E ┆ 5.0    │\n",
       "│ …                            ┆ …          ┆ …      │\n",
       "│ AG7EBPTERQ46SXW6D4KNWI7HYOBA ┆ B0061SHL02 ┆ 5.0    │\n",
       "│ AG7EBPTERQ46SXW6D4KNWI7HYOBA ┆ B00006KFT2 ┆ 5.0    │\n",
       "│ AFLJYXZHFK5HSBG2TK66NPBV6IJQ ┆ B001THPA1W ┆ 5.0    │\n",
       "│ AGUXPIS4IDI6B7KX5YGZBQATFNZA ┆ B01N702LLM ┆ 5.0    │\n",
       "│ AGF6QN3O3RLQR3DL6IQF4XL2NLUQ ┆ B002PXW15C ┆ 5.0    │\n",
       "└──────────────────────────────┴────────────┴────────┘"
      ]
     },
     "execution_count": 4,
     "metadata": {},
     "output_type": "execute_result"
    }
   ],
   "source": [
    "df = df.filter(\n",
    "    pl.len().over(\"user_id\") >= 5\n",
    ")\n",
    "df"
   ]
  },
  {
   "cell_type": "code",
   "execution_count": 5,
   "id": "f8bdc8bb",
   "metadata": {},
   "outputs": [
    {
     "data": {
      "text/html": [
       "<div><style>\n",
       ".dataframe > thead > tr,\n",
       ".dataframe > tbody > tr {\n",
       "  text-align: right;\n",
       "  white-space: pre-wrap;\n",
       "}\n",
       "</style>\n",
       "<small>shape: (7_344, 3)</small><table border=\"1\" class=\"dataframe\"><thead><tr><th>rating</th><th>user_cat</th><th>item_cat</th></tr><tr><td>f64</td><td>cat</td><td>cat</td></tr></thead><tbody><tr><td>5.0</td><td>&quot;AFC2DAKRFMKGNS5XXFUKY5P7TZCQ&quot;</td><td>&quot;B0719C5P56&quot;</td></tr><tr><td>5.0</td><td>&quot;AE3XHOX3OBSVFXACAPNFMKSUWR5Q&quot;</td><td>&quot;B01IE42XY4&quot;</td></tr><tr><td>4.0</td><td>&quot;AF4OCZTPFHXZKUTAGP6CAOCMWPAA&quot;</td><td>&quot;B00BXLVAQS&quot;</td></tr><tr><td>5.0</td><td>&quot;AHQP6NAQN7KH5FDNWW6OIZPLR6GQ&quot;</td><td>&quot;B0092KBPOE&quot;</td></tr><tr><td>5.0</td><td>&quot;AFMHO73ZLBHUMB36EHB4GUFLM3SA&quot;</td><td>&quot;B00FTGTM5E&quot;</td></tr><tr><td>&hellip;</td><td>&hellip;</td><td>&hellip;</td></tr><tr><td>5.0</td><td>&quot;AG7EBPTERQ46SXW6D4KNWI7HYOBA&quot;</td><td>&quot;B0061SHL02&quot;</td></tr><tr><td>5.0</td><td>&quot;AG7EBPTERQ46SXW6D4KNWI7HYOBA&quot;</td><td>&quot;B00006KFT2&quot;</td></tr><tr><td>5.0</td><td>&quot;AFLJYXZHFK5HSBG2TK66NPBV6IJQ&quot;</td><td>&quot;B001THPA1W&quot;</td></tr><tr><td>5.0</td><td>&quot;AGUXPIS4IDI6B7KX5YGZBQATFNZA&quot;</td><td>&quot;B01N702LLM&quot;</td></tr><tr><td>5.0</td><td>&quot;AGF6QN3O3RLQR3DL6IQF4XL2NLUQ&quot;</td><td>&quot;B002PXW15C&quot;</td></tr></tbody></table></div>"
      ],
      "text/plain": [
       "shape: (7_344, 3)\n",
       "┌────────┬──────────────────────────────┬────────────┐\n",
       "│ rating ┆ user_cat                     ┆ item_cat   │\n",
       "│ ---    ┆ ---                          ┆ ---        │\n",
       "│ f64    ┆ cat                          ┆ cat        │\n",
       "╞════════╪══════════════════════════════╪════════════╡\n",
       "│ 5.0    ┆ AFC2DAKRFMKGNS5XXFUKY5P7TZCQ ┆ B0719C5P56 │\n",
       "│ 5.0    ┆ AE3XHOX3OBSVFXACAPNFMKSUWR5Q ┆ B01IE42XY4 │\n",
       "│ 4.0    ┆ AF4OCZTPFHXZKUTAGP6CAOCMWPAA ┆ B00BXLVAQS │\n",
       "│ 5.0    ┆ AHQP6NAQN7KH5FDNWW6OIZPLR6GQ ┆ B0092KBPOE │\n",
       "│ 5.0    ┆ AFMHO73ZLBHUMB36EHB4GUFLM3SA ┆ B00FTGTM5E │\n",
       "│ …      ┆ …                            ┆ …          │\n",
       "│ 5.0    ┆ AG7EBPTERQ46SXW6D4KNWI7HYOBA ┆ B0061SHL02 │\n",
       "│ 5.0    ┆ AG7EBPTERQ46SXW6D4KNWI7HYOBA ┆ B00006KFT2 │\n",
       "│ 5.0    ┆ AFLJYXZHFK5HSBG2TK66NPBV6IJQ ┆ B001THPA1W │\n",
       "│ 5.0    ┆ AGUXPIS4IDI6B7KX5YGZBQATFNZA ┆ B01N702LLM │\n",
       "│ 5.0    ┆ AGF6QN3O3RLQR3DL6IQF4XL2NLUQ ┆ B002PXW15C │\n",
       "└────────┴──────────────────────────────┴────────────┘"
      ]
     },
     "execution_count": 5,
     "metadata": {},
     "output_type": "execute_result"
    }
   ],
   "source": [
    "df = df.with_columns([\n",
    "    pl.col(\"user_id\").cast(pl.Categorical).alias(\"user_cat\"),\n",
    "    pl.col(\"asin\").cast(pl.Categorical).alias(\"item_cat\")\n",
    "])\n",
    "df = df.drop([\"user_id\", \"asin\"])\n",
    "df"
   ]
  },
  {
   "cell_type": "code",
   "execution_count": 6,
   "id": "e79cf303",
   "metadata": {},
   "outputs": [
    {
     "data": {
      "text/html": [
       "<div><style>\n",
       ".dataframe > thead > tr,\n",
       ".dataframe > tbody > tr {\n",
       "  text-align: right;\n",
       "  white-space: pre-wrap;\n",
       "}\n",
       "</style>\n",
       "<small>shape: (7_344, 5)</small><table border=\"1\" class=\"dataframe\"><thead><tr><th>rating</th><th>user_cat</th><th>item_cat</th><th>user_idx</th><th>item_idx</th></tr><tr><td>f64</td><td>cat</td><td>cat</td><td>u32</td><td>u32</td></tr></thead><tbody><tr><td>5.0</td><td>&quot;AFC2DAKRFMKGNS5XXFUKY5P7TZCQ&quot;</td><td>&quot;B0719C5P56&quot;</td><td>0</td><td>0</td></tr><tr><td>5.0</td><td>&quot;AE3XHOX3OBSVFXACAPNFMKSUWR5Q&quot;</td><td>&quot;B01IE42XY4&quot;</td><td>1</td><td>1</td></tr><tr><td>4.0</td><td>&quot;AF4OCZTPFHXZKUTAGP6CAOCMWPAA&quot;</td><td>&quot;B00BXLVAQS&quot;</td><td>2</td><td>2</td></tr><tr><td>5.0</td><td>&quot;AHQP6NAQN7KH5FDNWW6OIZPLR6GQ&quot;</td><td>&quot;B0092KBPOE&quot;</td><td>3</td><td>3</td></tr><tr><td>5.0</td><td>&quot;AFMHO73ZLBHUMB36EHB4GUFLM3SA&quot;</td><td>&quot;B00FTGTM5E&quot;</td><td>4</td><td>4</td></tr><tr><td>&hellip;</td><td>&hellip;</td><td>&hellip;</td><td>&hellip;</td><td>&hellip;</td></tr><tr><td>5.0</td><td>&quot;AG7EBPTERQ46SXW6D4KNWI7HYOBA&quot;</td><td>&quot;B0061SHL02&quot;</td><td>968</td><td>964</td></tr><tr><td>5.0</td><td>&quot;AG7EBPTERQ46SXW6D4KNWI7HYOBA&quot;</td><td>&quot;B00006KFT2&quot;</td><td>968</td><td>1032</td></tr><tr><td>5.0</td><td>&quot;AFLJYXZHFK5HSBG2TK66NPBV6IJQ&quot;</td><td>&quot;B001THPA1W&quot;</td><td>965</td><td>866</td></tr><tr><td>5.0</td><td>&quot;AGUXPIS4IDI6B7KX5YGZBQATFNZA&quot;</td><td>&quot;B01N702LLM&quot;</td><td>966</td><td>957</td></tr><tr><td>5.0</td><td>&quot;AGF6QN3O3RLQR3DL6IQF4XL2NLUQ&quot;</td><td>&quot;B002PXW15C&quot;</td><td>869</td><td>950</td></tr></tbody></table></div>"
      ],
      "text/plain": [
       "shape: (7_344, 5)\n",
       "┌────────┬──────────────────────────────┬────────────┬──────────┬──────────┐\n",
       "│ rating ┆ user_cat                     ┆ item_cat   ┆ user_idx ┆ item_idx │\n",
       "│ ---    ┆ ---                          ┆ ---        ┆ ---      ┆ ---      │\n",
       "│ f64    ┆ cat                          ┆ cat        ┆ u32      ┆ u32      │\n",
       "╞════════╪══════════════════════════════╪════════════╪══════════╪══════════╡\n",
       "│ 5.0    ┆ AFC2DAKRFMKGNS5XXFUKY5P7TZCQ ┆ B0719C5P56 ┆ 0        ┆ 0        │\n",
       "│ 5.0    ┆ AE3XHOX3OBSVFXACAPNFMKSUWR5Q ┆ B01IE42XY4 ┆ 1        ┆ 1        │\n",
       "│ 4.0    ┆ AF4OCZTPFHXZKUTAGP6CAOCMWPAA ┆ B00BXLVAQS ┆ 2        ┆ 2        │\n",
       "│ 5.0    ┆ AHQP6NAQN7KH5FDNWW6OIZPLR6GQ ┆ B0092KBPOE ┆ 3        ┆ 3        │\n",
       "│ 5.0    ┆ AFMHO73ZLBHUMB36EHB4GUFLM3SA ┆ B00FTGTM5E ┆ 4        ┆ 4        │\n",
       "│ …      ┆ …                            ┆ …          ┆ …        ┆ …        │\n",
       "│ 5.0    ┆ AG7EBPTERQ46SXW6D4KNWI7HYOBA ┆ B0061SHL02 ┆ 968      ┆ 964      │\n",
       "│ 5.0    ┆ AG7EBPTERQ46SXW6D4KNWI7HYOBA ┆ B00006KFT2 ┆ 968      ┆ 1032     │\n",
       "│ 5.0    ┆ AFLJYXZHFK5HSBG2TK66NPBV6IJQ ┆ B001THPA1W ┆ 965      ┆ 866      │\n",
       "│ 5.0    ┆ AGUXPIS4IDI6B7KX5YGZBQATFNZA ┆ B01N702LLM ┆ 966      ┆ 957      │\n",
       "│ 5.0    ┆ AGF6QN3O3RLQR3DL6IQF4XL2NLUQ ┆ B002PXW15C ┆ 869      ┆ 950      │\n",
       "└────────┴──────────────────────────────┴────────────┴──────────┴──────────┘"
      ]
     },
     "execution_count": 6,
     "metadata": {},
     "output_type": "execute_result"
    }
   ],
   "source": [
    "df_indexed = df.with_columns([\n",
    "    pl.col(\"user_cat\").to_physical().alias(\"user_idx\"),\n",
    "    pl.col(\"item_cat\").to_physical().alias(\"item_idx\")\n",
    "])\n",
    "df_indexed"
   ]
  },
  {
   "cell_type": "code",
   "execution_count": 7,
   "id": "32209ef3",
   "metadata": {},
   "outputs": [],
   "source": [
    "unique_users = df_indexed.select(\"user_cat\").unique().sort(\"user_cat\")['user_cat']\n",
    "unique_items = df_indexed.select(\"item_cat\").unique().sort(\"item_cat\")['item_cat']"
   ]
  },
  {
   "cell_type": "code",
   "execution_count": 8,
   "id": "b42223ca",
   "metadata": {},
   "outputs": [
    {
     "data": {
      "text/html": [
       "<div><style>\n",
       ".dataframe > thead > tr,\n",
       ".dataframe > tbody > tr {\n",
       "  text-align: right;\n",
       "  white-space: pre-wrap;\n",
       "}\n",
       "</style>\n",
       "<small>shape: (1_745,)</small><table border=\"1\" class=\"dataframe\"><thead><tr><th>item_cat</th></tr><tr><td>cat</td></tr></thead><tbody><tr><td>&quot;B0719C5P56&quot;</td></tr><tr><td>&quot;B01IE42XY4&quot;</td></tr><tr><td>&quot;B00BXLVAQS&quot;</td></tr><tr><td>&quot;B0092KBPOE&quot;</td></tr><tr><td>&quot;B00FTGTM5E&quot;</td></tr><tr><td>&hellip;</td></tr><tr><td>&quot;B00006L2X4&quot;</td></tr><tr><td>&quot;B00005N7VL&quot;</td></tr><tr><td>&quot;B001U5SPMO&quot;</td></tr><tr><td>&quot;B00IMOFNOE&quot;</td></tr><tr><td>&quot;B00Z715L4M&quot;</td></tr></tbody></table></div>"
      ],
      "text/plain": [
       "shape: (1_745,)\n",
       "Series: 'item_cat' [cat]\n",
       "[\n",
       "\t\"B0719C5P56\"\n",
       "\t\"B01IE42XY4\"\n",
       "\t\"B00BXLVAQS\"\n",
       "\t\"B0092KBPOE\"\n",
       "\t\"B00FTGTM5E\"\n",
       "\t…\n",
       "\t\"B00006L2X4\"\n",
       "\t\"B00005N7VL\"\n",
       "\t\"B001U5SPMO\"\n",
       "\t\"B00IMOFNOE\"\n",
       "\t\"B00Z715L4M\"\n",
       "]"
      ]
     },
     "execution_count": 8,
     "metadata": {},
     "output_type": "execute_result"
    }
   ],
   "source": [
    "unique_items"
   ]
  },
  {
   "cell_type": "code",
   "execution_count": null,
   "id": "3acd9bc5",
   "metadata": {},
   "outputs": [],
   "source": [
    "user_id_map = {i: user_str for i, user_str in enumerate(unique_users.to_list())} #dictonary key is int\n",
    "item_id_map = {i: item_str for i, item_str in enumerate(unique_items.to_list())}\n",
    "# user_idx_map_rev = {user_str: i for i, user_str in user_id_map.items()} #key is the string\n",
    "# item_idx_map_rev = {item_str: i for i, item_str in item_id_map.items()} #made incase needed"
   ]
  },
  {
   "cell_type": "code",
   "execution_count": 10,
   "id": "3ad75f3d",
   "metadata": {},
   "outputs": [],
   "source": [
    "ratings_np = df_indexed['rating'].cast(pl.Float32).to_numpy()\n",
    "user_indices_np = df_indexed['user_idx'].to_numpy()\n",
    "item_indices_np = df_indexed['item_idx'].to_numpy()"
   ]
  },
  {
   "cell_type": "code",
   "execution_count": 11,
   "id": "579f3fdc",
   "metadata": {},
   "outputs": [],
   "source": [
    "num_users = len(user_id_map)\n",
    "num_items = len(item_id_map)\n",
    "\n",
    "\n",
    "all_indices = np.arange(len(df_indexed))"
   ]
  },
  {
   "cell_type": "code",
   "execution_count": 12,
   "id": "f7d12036",
   "metadata": {},
   "outputs": [],
   "source": [
    "train_indices, test_indices = train_test_split(\n",
    "    all_indices,\n",
    "    test_size=0.2,\n",
    "    random_state=42\n",
    ")"
   ]
  },
  {
   "cell_type": "code",
   "execution_count": 13,
   "id": "8853034a",
   "metadata": {},
   "outputs": [],
   "source": [
    "train_user_indices = user_indices_np[train_indices]\n",
    "train_item_indices = item_indices_np[train_indices]\n",
    "train_ratings = ratings_np[train_indices]\n",
    "\n",
    "test_user_indices = user_indices_np[test_indices]\n",
    "test_item_indices = item_indices_np[test_indices]\n",
    "test_ratings = ratings_np[test_indices]"
   ]
  },
  {
   "cell_type": "code",
   "execution_count": 14,
   "id": "33a552c6",
   "metadata": {},
   "outputs": [],
   "source": [
    "from scipy.sparse import coo_matrix, csr_matrix\n",
    "train_sparse_coo = coo_matrix((train_ratings, (train_user_indices, train_item_indices)),\n",
    "                              shape=(num_users, num_items))\n",
    "train_sparse_csr = train_sparse_coo.tocsr()"
   ]
  },
  {
   "cell_type": "code",
   "execution_count": 15,
   "id": "6cce4b2d",
   "metadata": {},
   "outputs": [
    {
     "name": "stderr",
     "output_type": "stream",
     "text": [
      "c:\\Python312\\Lib\\site-packages\\implicit\\cpu\\als.py:95: RuntimeWarning: OpenBLAS is configured to use 12 threads. It is highly recommended to disable its internal threadpool by setting the environment variable 'OPENBLAS_NUM_THREADS=1' or by calling 'threadpoolctl.threadpool_limits(1, \"blas\")'. Having OpenBLAS use a threadpool can lead to severe performance issues here.\n",
      "  check_blas_config()\n",
      "c:\\Python312\\Lib\\site-packages\\implicit\\utils.py:164: ParameterWarning: Method expects CSR input, and was passed csc_matrix instead. Converting to CSR took 0.0030219554901123047 seconds\n",
      "  warnings.warn(\n",
      "100%|██████████| 15/15 [00:00<00:00, 137.84it/s]\n"
     ]
    }
   ],
   "source": [
    "model = implicit.als.AlternatingLeastSquares(\n",
    "    factors=50,\n",
    "    regularization=0.01,\n",
    "    iterations=15,\n",
    "    random_state=42,\n",
    "    use_gpu=False\n",
    ")\n",
    "model.fit(train_sparse_csr.T)"
   ]
  },
  {
   "cell_type": "code",
   "execution_count": null,
   "id": "aec0037a",
   "metadata": {},
   "outputs": [
    {
     "name": "stderr",
     "output_type": "stream",
     "text": [
      "c:\\Python312\\Lib\\site-packages\\sklearn\\metrics\\_regression.py:492: FutureWarning: 'squared' is deprecated in version 1.4 and will be removed in 1.6. To calculate the root mean squared error, use the function'root_mean_squared_error'.\n",
      "  warnings.warn(\n"
     ]
    },
    {
     "name": "stdout",
     "output_type": "stream",
     "text": [
      "Root-mean-square error (RMSE) on test data = 4.7885\n"
     ]
    }
   ],
   "source": [
    "actual_ratings_test = []\n",
    "predicted_ratings_test = []\n",
    "\n",
    "for i in range(len(test_indices)):\n",
    "    user_idx = test_user_indices[i]\n",
    "    item_idx = test_item_indices[i]\n",
    "    actual = test_ratings[i]\n",
    "\n",
    "    if user_idx < model.user_factors.shape[0] and item_idx < model.item_factors.shape[0]:\n",
    "        pred = model.user_factors[user_idx, :].dot(model.item_factors[item_idx, :])\n",
    "        predicted_ratings_test.append(pred)\n",
    "        actual_ratings_test.append(actual)\n",
    "\n",
    "if not actual_ratings_test:\n",
    "    print(\"Warning: No test ratings could be predicted.\")\n",
    "    rmse = float('nan')\n",
    "else:\n",
    "    rmse = mean_squared_error(actual_ratings_test, predicted_ratings_test, squared=False)\n",
    "    print(f\"Root-mean-square error (RMSE) on test data = {rmse:.4f}\")"
   ]
  }
 ],
 "metadata": {
  "kernelspec": {
   "display_name": "Python 3",
   "language": "python",
   "name": "python3"
  },
  "language_info": {
   "codemirror_mode": {
    "name": "ipython",
    "version": 3
   },
   "file_extension": ".py",
   "mimetype": "text/x-python",
   "name": "python",
   "nbconvert_exporter": "python",
   "pygments_lexer": "ipython3",
   "version": "3.12.2"
  }
 },
 "nbformat": 4,
 "nbformat_minor": 5
}
